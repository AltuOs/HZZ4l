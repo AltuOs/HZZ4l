{
 "cells": [
  {
   "cell_type": "code",
   "execution_count": null,
   "id": "freelance-activation",
   "metadata": {},
   "outputs": [],
   "source": [
    "//#include<TFile.h>\n",
    "//#include<TH1.h>\n",
    "//#include<TMath.h>\n",
    "//#include<TLine.h>\n",
    "//#include<TPoint.h>\n",
    "//#include<iostream>\n",
    "//#include<string>\n",
    "//#include<stdio.h>"
   ]
  },
  {
   "cell_type": "code",
   "execution_count": 1,
   "id": "legendary-ranking",
   "metadata": {},
   "outputs": [],
   "source": [
    "TCanvas *c1 = new TCanvas(\"c1\",\"The FillRandom example\",200,10,700,900);\n",
    "\n",
    "auto pad3 = new TPad(\"pad3\",\"h_data\",0.05,0.68,0.95,0.96);\n",
    "auto pad1 = new TPad(\"pad1\",\"The pad with the function\",0.05,0.36,0.95,0.64);\n",
    "auto pad2 = new TPad(\"pad2\",\"The pad with the histogram\",0.05,0.04,0.95,0.32);\n",
    "\n",
    "pad1->Draw();\n",
    "pad2->Draw();\n",
    "pad3->Draw();"
   ]
  },
  {
   "cell_type": "code",
   "execution_count": 2,
   "id": "olympic-recording",
   "metadata": {},
   "outputs": [
    {
     "name": "stdout",
     "output_type": "stream",
     "text": [
      " FCN=32.6657 FROM MIGRAD    STATUS=CONVERGED     271 CALLS         272 TOTAL\n",
      "                     EDM=2.72192e-07    STRATEGY= 1  ERROR MATRIX UNCERTAINTY   2.7 per cent\n",
      "  EXT PARAMETER                                   STEP         FIRST   \n",
      "  NO.   NAME      VALUE            ERROR          SIZE      DERIVATIVE \n",
      "   1  Constant     2.33652e+02   2.59492e+01  -9.93462e-02   2.94535e-05\n",
      "   2  Standard deviation   4.49854e+00   7.37297e-01   2.10695e-03   1.28925e-03\n",
      "   3  Mean         1.25833e+02   4.68924e-01  -1.25937e-03  -1.40816e-04\n"
     ]
    }
   ],
   "source": [
    "pad3->cd();\n",
    "const Int_t n = 20;\n",
    "\n",
    "TH1D *h_data = new TH1D(\"h_data\", \"h_data\", n, 110, 140); // Histograma de datos.\n",
    "h_data->SetBinContent(1, 0);\n",
    "h_data->SetBinContent(2, 1);\n",
    "h_data->SetBinContent(3, 0);\n",
    "h_data->SetBinContent(4, 1);\n",
    "h_data->SetBinContent(5, 1);\n",
    "h_data->SetBinContent(6, 6);\n",
    "h_data->SetBinContent(7, 7);\n",
    "h_data->SetBinContent(8, 2);\n",
    "h_data->SetBinContent(9, 22);\n",
    "h_data->SetBinContent(10, 30);\n",
    "h_data->SetBinContent(11, 27);\n",
    "h_data->SetBinContent(12, 20);\n",
    "h_data->SetBinContent(13, 13);\n",
    "h_data->SetBinContent(14, 12);\n",
    "h_data->SetBinContent(15, 9);\n",
    "h_data->SetBinContent(16, 4);\n",
    "h_data->SetBinContent(17, 2);\n",
    "h_data->SetBinContent(18, 1);\n",
    "h_data->SetBinContent(19, 1);\n",
    "h_data->SetBinContent(20, 0);\n",
    "\n",
    "h_data->SetBinError(1, 0.38974303 );\n",
    "h_data->SetBinError(2, 0.536510944);\n",
    "h_data->SetBinError(3, 0.529702604);\n",
    "h_data->SetBinError(4, 0.642001867);\n",
    "h_data->SetBinError(5, 0.969341516);\n",
    "h_data->SetBinError(6, 1.47611344);\n",
    "h_data->SetBinError(7, 1.69797957);\n",
    "h_data->SetBinError(8, 3.28577447);\n",
    "h_data->SetBinError(9, 5.40784931);\n",
    "h_data->SetBinError(10, 9.10106468);\n",
    "h_data->SetBinError(11, 9.73541737);\n",
    "h_data->SetBinError(12, 5.55019951);\n",
    "h_data->SetBinError(13, 3.57914758);\n",
    "h_data->SetBinError(14, 2.77877331);\n",
    "h_data->SetBinError(15, 3.23697519);\n",
    "h_data->SetBinError(16, 4.3608489);\n",
    "h_data->SetBinError(17, 5.77172089);\n",
    "h_data->SetBinError(18, 3.38666105);\n",
    "h_data->SetBinError(19, 2.98861837);\n",
    "h_data->SetBinError(20, 1.58402085);\n",
    "h_data->Draw(\"E1\");\n",
    "pad3->SetGridx();\n",
    "pad3->SetGridy();\n",
    "\n",
    "auto pdf = new TF1(\"pdf\",\"[0]*(2*sqrt(2)*[2]*[1]*(sqrt(pow([2],2)*(pow([2],2)+pow([1],2))))/(TMath::Pi()*sqrt(pow([2],2)+(sqrt(pow([2],2)*(pow([2],2)+pow([1],2)))))))/((pow((pow(x,2)-pow([2],2)),2))+(pow([2],2)*pow([1],2)))\",110,140); //Función de Densidad de Probabilidad.\n",
    "pdf->SetParameters(1,h_data->GetStdDev(),h_data->GetMean());\n",
    "pdf->SetParNames (\"Constant\",\"Standard deviation\",\"Mean\");\n",
    "h_data->Fit(\"pdf\",\"R\"); // Puede usarse V para agregar más detalles estadísticos.\n",
    "pdf->SetTitle(\"Fit\");\n",
    "\n",
    "//c1->Update();"
   ]
  },
  {
   "cell_type": "code",
   "execution_count": 3,
   "id": "english-experience",
   "metadata": {},
   "outputs": [
    {
     "name": "stderr",
     "output_type": "stream",
     "text": [
      "Info in <ROOT::Math::BrentMethods::MinimStep>: Grid search failed to find a root in the  interval \n",
      "Info in <ROOT::Math::BrentMethods::MinimStep>: xmin = 110 xmax = 125.833 npts = 100\n",
      "Error in <ROOT::Math::BrentRootFinder>: Interval does not contain a root\n",
      "Error in <TF1::GetX>: [110.000000,125.833399] is not a valid interval\n",
      "Info in <ROOT::Math::BrentMethods::MinimStep>: Grid search failed to find a root in the  interval \n",
      "Info in <ROOT::Math::BrentMethods::MinimStep>: xmin = 110 xmax = 125.833 npts = 100\n",
      "Error in <ROOT::Math::BrentRootFinder>: Interval does not contain a root\n",
      "Error in <TF1::GetX>: [110.000000,125.833399] is not a valid interval\n",
      "Info in <ROOT::Math::BrentMethods::MinimStep>: Grid search failed to find a root in the  interval \n",
      "Info in <ROOT::Math::BrentMethods::MinimStep>: xmin = 110 xmax = 125.833 npts = 100\n",
      "Error in <ROOT::Math::BrentRootFinder>: Interval does not contain a root\n",
      "Error in <TF1::GetX>: [110.000000,125.833399] is not a valid interval\n"
     ]
    }
   ],
   "source": [
    "//pad2->cd();\n",
    "TH1D *h_data_f = new TH1D(\"h_data_f\",\"Test random numbers\",n,110,140);\n",
    "\n",
    "//h_data_f->SetTitle(\"Weighted Histogram\");\n",
    "//h_data_f->SetFillColor(45);\n",
    "h_data_f->SetLineColor(kGreen);\n",
    "\n",
    "Double_t minx = pdf->GetXmin(); // Mínimo en x del ajuste.\n",
    "Double_t maxx = pdf->GetXmax(); // Máximo en x del ajuste.\n",
    "Double_t mode_x = pdf->GetMaximumX(minx,maxx); // Coordenada x del máximo en el ajuste dentro del intervalo [minx,maxx].\n",
    "\n",
    "\n",
    "for (int i=0; i<n; i++) {\n",
    "    Double_t x_DH = 0.0; // Coordenada x en la distribución coincidente con lo alto de un bin.\n",
    "    \n",
    "    if (mode_x>=minx && mode_x>=h_data->GetXaxis()->GetBinCenter(i)) {\n",
    "        x_DH = pdf->GetX(h_data->GetBinContent(i),minx,mode_x);\n",
    "        //cout << x_DH << \",         1,\"<< i << endl;\n",
    "    }\n",
    "    else {\n",
    "        x_DH = pdf->GetX(h_data->GetBinContent(i),mode_x,maxx);\n",
    "        //cout << x_DH << \",         2,\"<< i << endl;\n",
    "    }\n",
    "    \n",
    "    if (isnan(x_DH)) x_DH = 0;\n",
    "    \n",
    "    h_data_f->SetBinContent(i+1,pdf->Eval(x_DH));\n",
    "    /*TLine *l1 = new TLine(x_DH,h_data->GetBinContent(i),h_data->GetXaxis()->GetBinCenter(i),h_data->GetBinContent(i));\n",
    "    //l1->SetLineColor(kGreen);\n",
    "    l1->SetLineStyle(7);\n",
    "    l1->Draw(\"same\");*/\n",
    "    //cout << \"(\" << x_DH << \",\" << pdf->Eval(x_DH)<< \")\" << endl;\n",
    "}\n",
    "\n",
    "h_data_f->Draw(\"E1 same\");\n",
    "\n",
    "c1->Update();"
   ]
  },
  {
   "cell_type": "code",
   "execution_count": 4,
   "id": "appreciated-python",
   "metadata": {},
   "outputs": [],
   "source": [
    "pad1->cd();\n",
    "pad1->SetGridx();\n",
    "pad1->SetGridy();\n",
    "pad1->GetFrame()->SetBorderMode(-1);\n",
    "pad1->GetFrame()->SetBorderSize(5);\n",
    "pdf->SetLineColor(4);\n",
    "pdf->SetLineWidth(6);\n",
    "pdf->Draw();\n",
    "c1->Update();"
   ]
  },
  {
   "cell_type": "code",
   "execution_count": 5,
   "id": "coordinated-debut",
   "metadata": {},
   "outputs": [],
   "source": [
    "// TFile myfile(\"fillrandom.root\",\"RECREATE\");\n",
    "// pdf->Write();\n",
    "// h_data_f->Write();"
   ]
  },
  {
   "cell_type": "code",
   "execution_count": 6,
   "id": "accessible-flour",
   "metadata": {},
   "outputs": [],
   "source": [
    "/*//apply the chi2 test and retrieve the residuals\n",
    "Double_t res[n], x[20];\n",
    "h_data->Chi2Test(h_data_f,\"UW P\",res);*/"
   ]
  },
  {
   "cell_type": "code",
   "execution_count": 7,
   "id": "floppy-mathematics",
   "metadata": {},
   "outputs": [],
   "source": [
    "/*    //Graph for Residuals\n",
    "    for (Int_t i=0; i<n; i++) x[i]= 4.+i*12./20.+12./40.;\n",
    "    TGraph *resgr = new TGraph(n,x,res);\n",
    "    resgr->GetXaxis()->SetRangeUser(4,16);\n",
    "    resgr->GetYaxis()->SetRangeUser(-3.5,3.5);\n",
    "    resgr->GetYaxis()->SetTitle(\"Normalized Residuals\");\n",
    "    resgr->SetMarkerStyle(21);\n",
    "    resgr->SetMarkerColor(2);\n",
    "    resgr->SetMarkerSize(.9);\n",
    "    resgr->SetTitle(\"Normalized Residuals\");\n",
    " \n",
    "    //Quantile-Quantile plot\n",
    "    TF1 *f = new TF1(\"f\",\"TMath::Gaus(x,0,1)\",-10,10);\n",
    "    TGraphQQ *qqplot = new TGraphQQ(n,res,f);\n",
    "    qqplot->SetMarkerStyle(20);\n",
    "    qqplot->SetMarkerColor(2);\n",
    "    qqplot->SetMarkerSize(.9);\n",
    "    qqplot->SetTitle(\"Q-Q plot of Normalized Residuals\");\n",
    " \n",
    "    //create Canvas\n",
    "    TCanvas *c1 = new TCanvas(\"c1\",\"Chistat Plot\",10,10,700,600);\n",
    "    c1->Divide(2,2);\n",
    " \n",
    "    // Draw Histogramms and Graphs\n",
    "    c1->cd(1);\n",
    "    h_data->SetMarkerColor(4);\n",
    "    h_data->SetMarkerStyle(20);\n",
    " \n",
    "    h_data->Draw(\"E\");\n",
    " \n",
    "    c1->cd(2);\n",
    "    h2->Draw(\"\");\n",
    "    h2->SetMarkerColor(4);\n",
    "    h2->SetMarkerStyle(20);\n",
    " \n",
    "    c1->cd(3);\n",
    "    gPad->SetGridy();\n",
    "    resgr->Draw(\"APL\");\n",
    " \n",
    "    c1->cd(4);\n",
    "    qqplot->Draw(\"AP\");\n",
    " \n",
    "    c1->cd(0);\n",
    " \n",
    "    c1->Update();\n",
    "    return c1;*/"
   ]
  },
  {
   "cell_type": "code",
   "execution_count": 8,
   "id": "reasonable-toolbox",
   "metadata": {},
   "outputs": [
    {
     "data": {
      "image/png": "[encoded data removed]",
      "text/plain": [
       "<IPython.core.display.Image object>"
      ]
     },
     "metadata": {},
     "output_type": "display_data"
    }
   ],
   "source": [
    "gROOT->GetListOfCanvases()->Draw()"
   ]
  },
  {
   "cell_type": "markdown",
   "id": "quantitative-temple",
   "metadata": {},
   "source": [
    "https://root.cern/doc/v610/fillrandom_8C.html\n",
    "\n",
    "https://root.cern/doc/v610/chi2test_8C_source.html"
   ]
  },
  {
   "cell_type": "code",
   "execution_count": null,
   "id": "approved-fundamental",
   "metadata": {},
   "outputs": [],
   "source": []
  }
 ],
 "metadata": {
  "kernelspec": {
   "display_name": "ROOT C++",
   "language": "c++",
   "name": "root"
  },
  "language_info": {
   "codemirror_mode": "text/x-c++src",
   "file_extension": ".C",
   "mimetype": " text/x-c++src",
   "name": "c++"
  }
 },
 "nbformat": 4,
 "nbformat_minor": 5
}
