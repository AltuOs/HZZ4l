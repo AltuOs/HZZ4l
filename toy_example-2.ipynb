{
 "cells": [
  {
   "cell_type": "code",
   "execution_count": 1,
   "metadata": {},
   "outputs": [],
   "source": [
    "#include<TFile.h>\n",
    "#include<TH1.h>\n",
    "#include<TMath.h>\n",
    "#include<math.h>\n",
    "#include<TF1.h>\n",
    "#include<TLine.h>\n",
    "#include<TPoint.h>\n",
    "#include<iostream>\n",
    "#include<string>\n",
    "#include<stdio.h>"
   ]
  },
  {
   "cell_type": "code",
   "execution_count": 2,
   "metadata": {},
   "outputs": [],
   "source": [
    "TCanvas *c1 = new TCanvas(\"c1\",\"c1\",900, 600);"
   ]
  },
  {
   "cell_type": "code",
   "execution_count": 4,
   "metadata": {},
   "outputs": [],
   "source": [
    "//PDF de la señal, más info: https://root.cern.ch/root/html524/TMath.html#TMath:Gaus\n",
    "TF1 *signalModel = new TF1(\"signalModel\",\"TMath::Gaus(x,[0],[1],1)\",-5,5);\n",
    "signalModel->FixParameter(0,0);\n",
    "signalModel->FixParameter(1,1);\n",
    "signalModel->SetName(\"\");"
   ]
  },
  {
   "cell_type": "code",
   "execution_count": 5,
   "metadata": {},
   "outputs": [],
   "source": [
    "/*//PDF de la señal, más info: https://root.cern.ch/root/html524/TMath.html#TMath:BreitWigner\n",
    "TF1 *signalModel = new TF1(\"signalModel\",\"TMath::BreitWigner(x,[0],[1])\",84,98);\n",
    "signalModel->FixParameter(0,91.1876);\n",
    "signalModel->FixParameter(1,2.4952);\n",
    "signalModel->SetName(\"\");*/"
   ]
  },
  {
   "cell_type": "code",
   "execution_count": 6,
   "metadata": {},
   "outputs": [],
   "source": [
    "//create legend\n",
    "auto legend = new TLegend(0.6,0.8,0.9,0.9);\n",
    "legend->AddEntry(signalModel,\"Gaussian distribution\",\"L\");\n",
    "//legend->AddEntry(signalModel,\"Breit - Wigner distribution\",\"L\");"
   ]
  },
  {
   "cell_type": "code",
   "execution_count": 7,
   "metadata": {},
   "outputs": [
    {
     "name": "stdout",
     "output_type": "stream",
     "text": [
      "(double) 0.99999943\n"
     ]
    }
   ],
   "source": [
    "signalModel->Integral(-5,5)"
   ]
  },
  {
   "cell_type": "code",
   "execution_count": 8,
   "metadata": {},
   "outputs": [
    {
     "data": {
      "image/png": "[encoded data removed]",
      "text/plain": [
       "<IPython.core.display.Image object>"
      ]
     },
     "metadata": {},
     "output_type": "display_data"
    }
   ],
   "source": [
    "signalModel->SetTitle(\"\");\n",
    "signalModel->GetXaxis()->SetTitle(\"x\");\n",
    "signalModel->GetYaxis()->SetTitle(\"Relative probability (a.u.)\");\n",
    "/*signalModel->GetXaxis()->SetTitle(\"Invariant mass [GeV]\");\n",
    "signalModel->GetYaxis()->SetTitle(\"Breit - Wigner probability density\");*/\n",
    "signalModel->Draw();\n",
    "legend->Draw(\"SAME\");\n",
    "c1->Draw();"
   ]
  },
  {
   "cell_type": "code",
   "execution_count": 9,
   "metadata": {},
   "outputs": [],
   "source": [
    "//c1->SaveAs(\"Others/Gaussian_distribution.png\");\n",
    "//c1->SaveAs(\"Others/BreitWigner_distribution.png\");"
   ]
  },
  {
   "cell_type": "code",
   "execution_count": null,
   "metadata": {},
   "outputs": [],
   "source": []
  }
 ],
 "metadata": {
  "kernelspec": {
   "display_name": "ROOT C++",
   "language": "c++",
   "name": "root"
  },
  "language_info": {
   "codemirror_mode": "text/x-c++src",
   "file_extension": ".C",
   "mimetype": " text/x-c++src",
   "name": "c++"
  }
 },
 "nbformat": 4,
 "nbformat_minor": 2
}
