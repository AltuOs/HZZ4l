{
 "cells": [
  {
   "cell_type": "code",
   "execution_count": 1,
   "metadata": {},
   "outputs": [],
   "source": [
    "%jsroot on"
   ]
  },
  {
   "cell_type": "code",
   "execution_count": 2,
   "metadata": {},
   "outputs": [],
   "source": [
    "#include<TFile.h>\n",
    "#include<TH1.h>\n",
    "#include<TLine.h>\n",
    "#include<iostream>\n",
    "#include<string>\n",
    "#include<stdio.h>"
   ]
  },
  {
   "cell_type": "code",
   "execution_count": 3,
   "metadata": {},
   "outputs": [
    {
     "name": "stdout",
     "output_type": "stream",
     "text": [
      "TH1.Print Name  = mass_four_lep, Entries= 321, Total sum= 95\n"
     ]
    }
   ],
   "source": [
    "TFile *f=new TFile(\"//Analysis/Output_HZZAnalysis/data.root\");\n",
    "//TFile *f = new TFile(\"//Analysis/Output_HZZAnalysis/ggH125_ZZ4lep.root\"); // Prueba MC gg->H125->ZZ->4lep.\n",
    "mass_four_lep->Print(); // Test de lectura de datos"
   ]
  },
  {
   "cell_type": "code",
   "execution_count": 4,
   "metadata": {},
   "outputs": [],
   "source": [
    "// gROOT->SetStyle(\"ATLAS\"); // Establecer estilo.\n",
    "gStyle->SetOptStat(\"emr\"); // Dibujar estadisticas de grafico.\n",
    "gStyle->SetOptFit(1112);"
   ]
  },
  {
   "cell_type": "code",
   "execution_count": 5,
   "metadata": {},
   "outputs": [],
   "source": [
    "TCanvas *c1 = new TCanvas(\"c1\",\"c1\",10,10,900,600);"
   ]
  },
  {
   "cell_type": "code",
   "execution_count": 6,
   "metadata": {},
   "outputs": [],
   "source": [
    "TH1F *m_four_lep = (TH1F*)f->Get(\"mass_four_lep\");\n",
    "m_four_lep->Draw();\n",
    "//m_four_lep->Draw(\"E1\"); // E1: Para representar los puntos con barras de error."
   ]
  },
  {
   "cell_type": "code",
   "execution_count": 7,
   "metadata": {},
   "outputs": [],
   "source": [
    "Int_t fit = 0; // Option 0, 1, 2, 3 = Distribuciones"
   ]
  },
  {
   "cell_type": "code",
   "execution_count": 8,
   "metadata": {},
   "outputs": [],
   "source": [
    "Double_t mybw(Double_t* x, Double_t* par) // Distribución de Breit-Wigner relativista\n",
    "{\n",
    "    Double_t arg1 = 2/TMath::Pi();\n",
    "    Double_t arg2 = pow(par[1],2)*pow(par[2],2); // Gamma=par[1] M=par[2]\n",
    "    Double_t arg3 = pow((pow(x[0],2)-pow(par[2],2)),2);\n",
    "    Double_t arg4 = pow(x[0],4)*(pow(par[1],2)/pow(par[2],2));\n",
    "    return par[0]*arg1*arg2/(arg3+arg4);\n",
    "}"
   ]
  },
  {
   "cell_type": "code",
   "execution_count": 9,
   "metadata": {},
   "outputs": [],
   "source": [
    "if (fit == 0) {\n",
    "    TF1 *f1 = new TF1(\"f1\",\"mybw\",108,140,3);\n",
    "    f1->SetParameters(1,m_four_lep->GetMean(),m_four_lep->GetRMS());\n",
    "    //f1->SetParNames (\"Constant\",\"Mean\",\"Sigma\"); // OJO con el tipo de parámetro.\n",
    "}\n",
    "if (fit == 1) {TF1 *f1 = new TF1(\"f1\",\"gaus\",110,140);}\n",
    "if (fit == 2) {TF1 *f1 = new TF1(\"f1\",\"landau\",110,140);}\n",
    "if (fit == 3) {TF1 *f1 = new TF1(\"f1\",\"gausn\",110,140);}"
   ]
  },
  {
   "cell_type": "code",
   "execution_count": 10,
   "metadata": {},
   "outputs": [
    {
     "name": "stdout",
     "output_type": "stream",
     "text": [
      " FCN=3.3306 FROM MIGRAD    STATUS=CONVERGED     224 CALLS         225 TOTAL\n",
      "                     EDM=1.10162e-06    STRATEGY= 1      ERROR MATRIX ACCURATE \n",
      "  EXT PARAMETER                                   STEP         FIRST   \n",
      "  NO.   NAME      VALUE            ERROR          SIZE      DERIVATIVE \n",
      "   1  p0           1.52306e+01   4.71651e+00   2.83250e-03  -5.21077e-04\n",
      "   2  p1           8.92687e+00   2.78212e+00   1.64098e-03  -7.67702e-04\n",
      "   3  p2           1.24732e+02   1.14059e+00   1.08552e-03  -1.66526e-04\n"
     ]
    }
   ],
   "source": [
    "m_four_lep->Fit(\"f1\",\"R\"); // Puede usarse V para agregar más detalles estadísticos.\n",
    "f1->SetLineColor(kRed);"
   ]
  },
  {
   "cell_type": "code",
   "execution_count": 11,
   "metadata": {},
   "outputs": [
    {
     "name": "stdout",
     "output_type": "stream",
     "text": [
      "Formula based function:     f1 \n",
      "            tf1lambda : mybw Ndim= 1, Npar= 3, Number= 0 \n",
      " Formula expression: \n",
      "\tmybw \n",
      "List of  Parameters: \n",
      "Par   0                   p0 =   15.230633 \n",
      "Par   1                   p1 =    8.926867 \n",
      "Par   2                   p2 =  124.731604 \n",
      "Expression passed to Cling:\n",
      "\tmybw\n"
     ]
    }
   ],
   "source": [
    "// Print the full information of the fit including covariance matrix.\n",
    "f1->Print(\"V\"); \n",
    "\n",
    "// Store the result in a ROOT file.\n",
    "//f1->Write(); "
   ]
  },
  {
   "cell_type": "code",
   "execution_count": 12,
   "metadata": {},
   "outputs": [
    {
     "data": {
      "text/html": [
       "\n",
       "<div id=\"root_plot_1\"\n",
       "     style=\"width: 896px; height: 572px\">\n",
       "</div>\n",
       "\n",
       "<script>\n",
       " requirejs.config({\n",
       "     paths: {\n",
       "       'JSRootCore' : 'https://root.cern.ch/js/notebook//scripts/JSRootCore',\n",
       "     }\n",
       "   });\n",
       " require(['JSRootCore'],\n",
       "     function(Core) {\n",
       "       var obj = Core.JSONR_unref({\"_typename\":\"TCanvas\",\"fUniqueID\":0,\"fBits\":53673992,\"fLineColor\":1,\"fLineStyle\":1,\"fLineWidth\":1,\"fFillColor\":0,\"fFillStyle\":1001,\"fLeftMargin\":0.1,\"fRightMargin\":0.1,\"fBottomMargin\":0.1,\"fTopMargin\":0.1,\"fXfile\":2,\"fYfile\":2,\"fAfile\":1,\"fXstat\":0.99,\"fYstat\":0.99,\"fAstat\":2,\"fFrameFillColor\":0,\"fFrameLineColor\":1,\"fFrameFillStyle\":1001,\"fFrameLineStyle\":1,\"fFrameLineWidth\":1,\"fFrameBorderSize\":1,\"fFrameBorderMode\":0,\"fX1\":68.7499991618096,\"fY1\":-2.62500019557775,\"fX2\":181.25000083819,\"fY2\":23.6250001955778,\"fXtoAbsPixelk\":-547.555490720621,\"fXtoPixelk\":-547.555490720621,\"fXtoPixel\":7.96444432576497,\"fYtoAbsPixelk\":514.800046590614,\"fYtoPixelk\":514.800046590614,\"fYtoPixel\":-21.7904758657728,\"fUtoAbsPixelk\":5e-5,\"fUtoPixelk\":5e-5,\"fUtoPixel\":896,\"fVtoAbsPixelk\":572.00005,\"fVtoPixelk\":572,\"fVtoPixel\":-572,\"fAbsPixeltoXk\":68.7499991618096,\"fPixeltoXk\":68.7499991618096,\"fPixeltoX\":0.125558037585246,\"fAbsPixeltoYk\":23.6250001955778,\"fPixeltoYk\":-2.62500019557775,\"fPixeltoY\":-0.0458916090754467,\"fXlowNDC\":0,\"fYlowNDC\":0,\"fXUpNDC\":0,\"fYUpNDC\":0,\"fWNDC\":1,\"fHNDC\":1,\"fAbsXlowNDC\":0,\"fAbsYlowNDC\":0,\"fAbsWNDC\":1,\"fAbsHNDC\":1,\"fUxmin\":80,\"fUymin\":0,\"fUxmax\":170,\"fUymax\":21,\"fTheta\":30,\"fPhi\":30,\"fAspectRatio\":0,\"fNumber\":0,\"fTickx\":0,\"fTicky\":0,\"fLogx\":0,\"fLogy\":0,\"fLogz\":0,\"fPadPaint\":0,\"fCrosshair\":0,\"fCrosshairPos\":0,\"fBorderSize\":2,\"fBorderMode\":0,\"fModified\":false,\"fGridx\":false,\"fGridy\":false,\"fAbsCoord\":false,\"fEditable\":true,\"fFixedAspectRatio\":false,\"fPrimitives\":{\"_typename\":\"TList\",\"name\":\"TList\",\"arr\":[{\"_typename\":\"TFrame\",\"fUniqueID\":0,\"fBits\":50331656,\"fLineColor\":1,\"fLineStyle\":1,\"fLineWidth\":1,\"fFillColor\":0,\"fFillStyle\":1001,\"fX1\":80,\"fY1\":0,\"fX2\":170,\"fY2\":21,\"fBorderSize\":1,\"fBorderMode\":0},{\"_typename\":\"TH1F\",\"fUniqueID\":0,\"fBits\":50331656,\"fName\":\"mass_four_lep\",\"fTitle\":\"Mass of four-lepton system\",\"fLineColor\":602,\"fLineStyle\":1,\"fLineWidth\":1,\"fFillColor\":0,\"fFillStyle\":1001,\"fMarkerColor\":1,\"fMarkerStyle\":1,\"fMarkerSize\":1,\"fNcells\":26,\"fXaxis\":{\"_typename\":\"TAxis\",\"fUniqueID\":0,\"fBits\":50331648,\"fName\":\"xaxis\",\"fTitle\":\" m_{4l} [GeV]\",\"fNdivisions\":510,\"fAxisColor\":1,\"fLabelColor\":1,\"fLabelFont\":42,\"fLabelOffset\":0.005,\"fLabelSize\":0.035,\"fTickLength\":0.03,\"fTitleOffset\":1,\"fTitleSize\":0.035,\"fTitleColor\":1,\"fTitleFont\":42,\"fNbins\":24,\"fXmin\":80,\"fXmax\":170,\"fXbins\":[],\"fFirst\":0,\"fLast\":0,\"fBits2\":0,\"fTimeDisplay\":false,\"fTimeFormat\":\"\",\"fLabels\":null,\"fModLabs\":null},\"fYaxis\":{\"_typename\":\"TAxis\",\"fUniqueID\":0,\"fBits\":50331648,\"fName\":\"yaxis\",\"fTitle\":\"Events \\/ bin\",\"fNdivisions\":510,\"fAxisColor\":1,\"fLabelColor\":1,\"fLabelFont\":42,\"fLabelOffset\":0.005,\"fLabelSize\":0.035,\"fTickLength\":0.03,\"fTitleOffset\":0,\"fTitleSize\":0.035,\"fTitleColor\":1,\"fTitleFont\":42,\"fNbins\":1,\"fXmin\":0,\"fXmax\":1,\"fXbins\":[],\"fFirst\":0,\"fLast\":0,\"fBits2\":0,\"fTimeDisplay\":false,\"fTimeFormat\":\"\",\"fLabels\":null,\"fModLabs\":null},\"fZaxis\":{\"_typename\":\"TAxis\",\"fUniqueID\":0,\"fBits\":50331648,\"fName\":\"zaxis\",\"fTitle\":\"\",\"fNdivisions\":510,\"fAxisColor\":1,\"fLabelColor\":1,\"fLabelFont\":42,\"fLabelOffset\":0.005,\"fLabelSize\":0.035,\"fTickLength\":0.03,\"fTitleOffset\":1,\"fTitleSize\":0.035,\"fTitleColor\":1,\"fTitleFont\":42,\"fNbins\":1,\"fXmin\":0,\"fXmax\":1,\"fXbins\":[],\"fFirst\":0,\"fLast\":0,\"fBits2\":0,\"fTimeDisplay\":false,\"fTimeFormat\":\"\",\"fLabels\":null,\"fModLabs\":null},\"fBarOffset\":0,\"fBarWidth\":1000,\"fEntries\":321,\"fTsumw\":95,\"fTsumw2\":95,\"fTsumwx\":11030.9741134644,\"fTsumwx2\":1341716.84406426,\"fMaximum\":-1111,\"fMinimum\":-1111,\"fNormFactor\":0,\"fContour\":[],\"fSumw2\":[],\"fOption\":\"\",\"fFunctions\":{\"_typename\":\"TList\",\"name\":\"TList\",\"arr\":[{\"_typename\":\"TF1\",\"fUniqueID\":0,\"fBits\":50332672,\"fName\":\"f1\",\"fTitle\":\"\",\"fLineColor\":2,\"fLineStyle\":1,\"fLineWidth\":2,\"fFillColor\":19,\"fFillStyle\":0,\"fMarkerColor\":1,\"fMarkerStyle\":1,\"fMarkerSize\":1,\"fXmin\":108,\"fXmax\":140,\"fNpar\":3,\"fNdim\":1,\"fNpx\":100,\"fType\":0,\"fNpfits\":8,\"fNDF\":5,\"fChisquare\":3.33060357043878,\"fMinimum\":-1111,\"fMaximum\":-1111,\"fParErrors\":[4.71651296999313,2.78211804853889,1.14058709690463],\"fParMin\":[0,0,0],\"fParMax\":[0,0,0],\"fSave\":[0.757965451673746,0.783966694470402,0.811370326415661,0.840276956601548,0.870796095488324,0.903047076800074,0.937160086286823,0.973277310520135,1.01155422046582,1.0521610062903,1.09528418169272,1.14112837798313,1.18991835009732,1.24190121866592,1.29734897400943,1.35656126931361,1.4198685309593,1.48763541361287,1.5602646256157,1.63820114557521,1.72193684262514,1.81201549886609,1.90903821061972,2.01366911201044,2.12664131547503,2.24876289289552,2.38092261981939,2.52409506260007,2.679344389822,2.84782601668322,3.03078482149301,3.2295481807695,3.4455114255862,3.68011250219735,3.93479161363161,4.21093044758129,4.5097643460687,4.83225964618894,5.17894780954393,5.54970853267157,5.94349683545823,6.35801560683728,6.78934695653009,7.23157444531412,7.67645398006361,8.11322089488233,8.52864633373666,8.90746304226515,9.23325057451457,9.48978828299941,9.66275438529438,9.7415036316628,9.72055506258399,9.6004277743224,9.38760098944795,9.09360419154714,8.73347138257919,8.32392861710445,7.88168570641581,7.42209708924186,6.9583074320821,6.50086583949303,6.05771136994348,5.63440427699629,5.2344866830217,4.85988403975902,4.51128992115837,4.1885032207333,3.89070584822813,3.61668085585597,3.36497720080956,3.1340298911911,2.922244581067,2.72805485185876,2.5499591226482,2.38654275929415,2.23648969596985,2.09858682059906,1.97172352141806,1.85488812810769,1.74716247809492,1.64771546517362,1.55579615474901,1.47072685352415,1.39189638187092,1.31875369935619,1.25080196646169,1.18759307988617,1.12872268864742,1.07382567891727,1.02257210380578,0.974663527784618,0.929829752413747,0.887825889317442,0.848429747111924,0.811439500639635,0.776671613020223,0.743958983419876,0.713149295893632,0.684103547058368,0.656694732639127,108,140],\"fNormalized\":false,\"fNormIntegral\":0,\"fFormula\":{\"_typename\":\"TFormula\",\"fUniqueID\":0,\"fBits\":50463744,\"fName\":\"tf1lambda\",\"fTitle\":\"mybw\",\"fClingParameters\":[15.2306332735341,8.92686726486879,124.731604368638],\"fAllParametersSetted\":true,\"fParams\":[{\"$pair\":\"pair<TString,int,TFormulaParamOrder>\",\"first\":\"p0\",\"second\":0},{\"$pair\":\"pair<TString,int,TFormulaParamOrder>\",\"first\":\"p1\",\"second\":1},{\"$pair\":\"pair<TString,int,TFormulaParamOrder>\",\"first\":\"p2\",\"second\":2}],\"fFormula\":\"mybw\",\"fNdim\":1,\"fLinearParts\":[],\"fVectorized\":false},\"fParams\":null,\"fComposition_ptr\":null},{\"_typename\":\"TPaveStats\",\"fUniqueID\":0,\"fBits\":50331657,\"fLineColor\":1,\"fLineStyle\":1,\"fLineWidth\":1,\"fFillColor\":0,\"fFillStyle\":1001,\"fX1\":138.500001743436,\"fY1\":11.4187503109686,\"fX2\":179.00000295043,\"fY2\":21.9187502327375,\"fX1NDC\":0.620000013709068,\"fY1NDC\":0.535000011324883,\"fX2NDC\":0.980000019073486,\"fY2NDC\":0.935000002384186,\"fBorderSize\":1,\"fInit\":1,\"fShadowColor\":1,\"fCornerRadius\":0,\"fOption\":\"brNDC\",\"fName\":\"stats\",\"fTextAngle\":0,\"fTextSize\":0,\"fTextAlign\":12,\"fTextColor\":1,\"fTextFont\":42,\"fLabel\":\"\",\"fLongest\":27,\"fMargin\":0.05,\"fLines\":{\"_typename\":\"TList\",\"name\":\"TList\",\"arr\":[{\"_typename\":\"TLatex\",\"fUniqueID\":0,\"fBits\":50331648,\"fName\":\"\",\"fTitle\":\"Entries = 321    \",\"fTextAngle\":0,\"fTextSize\":0,\"fTextAlign\":0,\"fTextColor\":0,\"fTextFont\":0,\"fX\":0,\"fY\":0,\"fLineColor\":1,\"fLineStyle\":1,\"fLineWidth\":2,\"fLimitFactorSize\":3,\"fOriginSize\":0.04},{\"_typename\":\"TLatex\",\"fUniqueID\":0,\"fBits\":50331648,\"fName\":\"\",\"fTitle\":\"Mean  =  116.1\",\"fTextAngle\":0,\"fTextSize\":0,\"fTextAlign\":0,\"fTextColor\":0,\"fTextFont\":0,\"fX\":0,\"fY\":0,\"fLineColor\":1,\"fLineStyle\":1,\"fLineWidth\":2,\"fLimitFactorSize\":3,\"fOriginSize\":0.04},{\"_typename\":\"TLatex\",\"fUniqueID\":0,\"fBits\":50331648,\"fName\":\"\",\"fTitle\":\"Std Dev   =  25.31\",\"fTextAngle\":0,\"fTextSize\":0,\"fTextAlign\":0,\"fTextColor\":0,\"fTextFont\":0,\"fX\":0,\"fY\":0,\"fLineColor\":1,\"fLineStyle\":1,\"fLineWidth\":2,\"fLimitFactorSize\":3,\"fOriginSize\":0.04},{\"_typename\":\"TLatex\",\"fUniqueID\":0,\"fBits\":50331648,\"fName\":\"\",\"fTitle\":\"#chi^{2} \\/ ndf = 3.331 \\/ 5\",\"fTextAngle\":0,\"fTextSize\":0,\"fTextAlign\":0,\"fTextColor\":0,\"fTextFont\":0,\"fX\":0,\"fY\":0,\"fLineColor\":1,\"fLineStyle\":1,\"fLineWidth\":2,\"fLimitFactorSize\":3,\"fOriginSize\":0.04},{\"_typename\":\"TLatex\",\"fUniqueID\":0,\"fBits\":50331648,\"fName\":\"\",\"fTitle\":\"Prob  = 0.6492\",\"fTextAngle\":0,\"fTextSize\":0,\"fTextAlign\":0,\"fTextColor\":0,\"fTextFont\":0,\"fX\":0,\"fY\":0,\"fLineColor\":1,\"fLineStyle\":1,\"fLineWidth\":2,\"fLimitFactorSize\":3,\"fOriginSize\":0.04},{\"_typename\":\"TLatex\",\"fUniqueID\":0,\"fBits\":50331648,\"fName\":\"\",\"fTitle\":\"p0       = 15.23 #pm 4.72 \",\"fTextAngle\":0,\"fTextSize\":0,\"fTextAlign\":0,\"fTextColor\":0,\"fTextFont\":0,\"fX\":0,\"fY\":0,\"fLineColor\":1,\"fLineStyle\":1,\"fLineWidth\":2,\"fLimitFactorSize\":3,\"fOriginSize\":0.04},{\"_typename\":\"TLatex\",\"fUniqueID\":0,\"fBits\":50331648,\"fName\":\"\",\"fTitle\":\"p1       = 8.927 #pm 2.782 \",\"fTextAngle\":0,\"fTextSize\":0,\"fTextAlign\":0,\"fTextColor\":0,\"fTextFont\":0,\"fX\":0,\"fY\":0,\"fLineColor\":1,\"fLineStyle\":1,\"fLineWidth\":2,\"fLimitFactorSize\":3,\"fOriginSize\":0.04},{\"_typename\":\"TLatex\",\"fUniqueID\":0,\"fBits\":50331648,\"fName\":\"\",\"fTitle\":\"p2       = 124.7 #pm 1.1 \",\"fTextAngle\":0,\"fTextSize\":0,\"fTextAlign\":0,\"fTextColor\":0,\"fTextFont\":0,\"fX\":0,\"fY\":0,\"fLineColor\":1,\"fLineStyle\":1,\"fLineWidth\":2,\"fLimitFactorSize\":3,\"fOriginSize\":0.04}],\"opt\":[\"\",\"\",\"\",\"\",\"\",\"\",\"\",\"\"]},\"fOptFit\":1112,\"fOptStat\":1110,\"fFitFormat\":\"5.4g\",\"fStatFormat\":\"6.4g\",\"fParent\":{\"$ref\":3}}],\"opt\":[\"\",\"brNDC\"]},\"fBufferSize\":0,\"fBuffer\":[],\"fBinStatErrOpt\":0,\"fStatOverflows\":2,\"fArray\":[0,1,6,20,7,4,3,1,0,2,1,7,9,7,3,3,1,4,1,2,4,2,1,4,2,226]},{\"_typename\":\"TLine\",\"fUniqueID\":0,\"fBits\":50331656,\"fLineColor\":416,\"fLineStyle\":7,\"fLineWidth\":1,\"fX1\":119.878696808618,\"fY1\":4.8728932310788,\"fX2\":128.788503261067,\"fY2\":4.8728932310788},{\"_typename\":\"TLine\",\"fUniqueID\":0,\"fBits\":50331656,\"fLineColor\":416,\"fLineStyle\":7,\"fLineWidth\":1,\"fX1\":124.413384520594,\"fY1\":9.74578646215759,\"fX2\":124.413384520594,\"fY2\":0},{\"_typename\":\"TPaveText\",\"fUniqueID\":0,\"fBits\":50331657,\"fLineColor\":1,\"fLineStyle\":1,\"fLineWidth\":1,\"fFillColor\":0,\"fFillStyle\":0,\"fX1\":100.27008891721,\"fY1\":21.8967223229662,\"fX2\":149.72991108279,\"fY2\":23.4937503187917,\"fX1NDC\":0.280178571428571,\"fY1NDC\":0.934160843929211,\"fX2NDC\":0.719821428571429,\"fY2NDC\":0.995000004768372,\"fBorderSize\":0,\"fInit\":1,\"fShadowColor\":1,\"fCornerRadius\":0,\"fOption\":\"blNDC\",\"fName\":\"title\",\"fTextAngle\":0,\"fTextSize\":0,\"fTextAlign\":22,\"fTextColor\":1,\"fTextFont\":42,\"fLabel\":\"\",\"fLongest\":26,\"fMargin\":0.05,\"fLines\":{\"_typename\":\"TList\",\"name\":\"TList\",\"arr\":[{\"_typename\":\"TLatex\",\"fUniqueID\":0,\"fBits\":50331648,\"fName\":\"\",\"fTitle\":\"Mass of four-lepton system\",\"fTextAngle\":0,\"fTextSize\":0,\"fTextAlign\":0,\"fTextColor\":0,\"fTextFont\":0,\"fX\":0,\"fY\":0,\"fLineColor\":1,\"fLineStyle\":1,\"fLineWidth\":2,\"fLimitFactorSize\":3,\"fOriginSize\":0.0517132878303528}],\"opt\":[\"\"]}}],\"opt\":[\"\",\"\",\"same\",\"same\",\"blNDC\"]},\"fExecs\":null,\"fName\":\"c1\",\"fTitle\":\"c1\",\"fNumPaletteColor\":0,\"fNextPaletteColor\":0,\"fDISPLAY\":\"$DISPLAY\",\"fDoubleBuffer\":0,\"fRetained\":true,\"fXsizeUser\":0,\"fYsizeUser\":0,\"fXsizeReal\":20,\"fYsizeReal\":13.33333,\"fWindowTopX\":0,\"fWindowTopY\":0,\"fWindowWidth\":0,\"fWindowHeight\":0,\"fCw\":896,\"fCh\":572,\"fCatt\":{\"_typename\":\"TAttCanvas\",\"fXBetween\":2,\"fYBetween\":2,\"fTitleFromTop\":1.2,\"fXdate\":0.2,\"fYdate\":0.3,\"fAdate\":1},\"kMoveOpaque\":true,\"kResizeOpaque\":true,\"fHighLightColor\":2,\"fBatch\":true,\"kShowEventStatus\":false,\"kAutoExec\":true,\"kMenuBar\":true});\n",
       "       Core.draw(\"root_plot_1\", obj, \"\");\n",
       "     }\n",
       " );\n",
       "</script>\n"
      ],
      "text/plain": [
       "<IPython.core.display.HTML object>"
      ]
     },
     "metadata": {},
     "output_type": "display_data"
    },
    {
     "name": "stdout",
     "output_type": "stream",
     "text": [
      "Coordenada del punto máximo en el ajuste: (124.413,9.74579).\n",
      "Intersecciones en m4l a média altura: 119.879 GeV y 128.789 GeV.\n",
      "Ancho de decaimiento, Γ = 8.90981 GeV.\n",
      "Tiempo de vida media, τ = 4.6417e-25 s.\n"
     ]
    }
   ],
   "source": [
    "minx = f1->GetXmin(); // Mínimo en x del ajuste.\n",
    "maxx = f1->GetXmax(); // Máximo en x del ajuste.\n",
    "\n",
    "mode_x = f1->GetMaximumX(minx,maxx); // Coordenada x del máximo en el ajuste dentro del intervalo [minx,maxx].\n",
    "mode_y = f1->Eval(mode_x); // Coordenada y del máximo.\n",
    "\n",
    "upper_halfwidth = f1->GetX(mode_y/2.0,mode_x,maxx);\n",
    "lower_halfwidth = f1->GetX(mode_y/2.0,minx,mode_x);\n",
    "\n",
    "width = upper_halfwidth-lower_halfwidth;\n",
    "\n",
    "cout    << \"Coordenada del punto máximo en el ajuste: (\" << mode_x << \",\" << mode_y << \").\" << endl\n",
    "        << \"Intersecciones en m4l a média altura: \" << lower_halfwidth << \" GeV\" << \" y \" << upper_halfwidth << \" GeV.\" << endl\n",
    "        << \"Ancho de decaimiento, \\u0393 = \" << width << \" GeV.\" << endl\n",
    "        << \"Tiempo de vida media, \\u03C4 = \" << 4.135667696E-15/(width*1E9) << \" s.\" << endl;\n",
    "\n",
    "TLine *l1 = new TLine(lower_halfwidth,mode_y/2.0,upper_halfwidth,mode_y/2.0);\n",
    "l1->SetLineColor(kGreen);\n",
    "l1->SetLineStyle(7);\n",
    "l1->Draw(\"same\");\n",
    "\n",
    "TLine *l2 = new TLine(mode_x,mode_y,mode_x,0);\n",
    "l2->SetLineColor(kGreen);\n",
    "l2->SetLineStyle(7);\n",
    "l2->Draw(\"same\");\n",
    "\n",
    "c1->Draw();"
   ]
  },
  {
   "cell_type": "markdown",
   "metadata": {},
   "source": [
    "#### OJO Revisar los orden de magnitud y unidades."
   ]
  }
 ],
 "metadata": {
  "kernelspec": {
   "display_name": "ROOT C++",
   "language": "c++",
   "name": "root"
  },
  "language_info": {
   "codemirror_mode": "text/x-c++src",
   "file_extension": ".C",
   "mimetype": " text/x-c++src",
   "name": "c++"
  }
 },
 "nbformat": 4,
 "nbformat_minor": 2
}
