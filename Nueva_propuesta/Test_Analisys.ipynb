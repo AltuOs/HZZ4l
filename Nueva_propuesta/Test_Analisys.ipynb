{
 "cells": [
  {
   "cell_type": "markdown",
   "metadata": {},
   "source": [
    "### Es sólo la prueba de corrida sin vaciar el análisis al Notebook."
   ]
  },
  {
   "cell_type": "markdown",
   "metadata": {},
   "source": [
    "#### Which option should I run?\n",
    "Options are:\n",
    "\n",
    "0 = run all data and MC one after another\n",
    "\n",
    "1 = run data only\n",
    "\n",
    "2,3 = run MC samples only"
   ]
  },
  {
   "cell_type": "code",
   "execution_count": 1,
   "metadata": {},
   "outputs": [
    {
     "name": "stdout",
     "output_type": "stream",
     "text": [
      "Option: 1"
     ]
    }
   ],
   "source": [
    "int option=1; //option\n",
    "cout << \"Option: \" << option;"
   ]
  },
  {
   "cell_type": "markdown",
   "metadata": {},
   "source": [
    "#### Should I use PROOF? (will make things faster)\n",
    "Options are:\n",
    "\n",
    "0 = NO\n",
    "\n",
    "1 = YES"
   ]
  },
  {
   "cell_type": "code",
   "execution_count": 2,
   "metadata": {},
   "outputs": [
    {
     "name": "stdout",
     "output_type": "stream",
     "text": [
      "Option: 0"
     ]
    }
   ],
   "source": [
    "int parallel=0; //option\n",
    "cout << \"Option: \" << parallel;"
   ]
  },
  {
   "cell_type": "code",
   "execution_count": 3,
   "metadata": {},
   "outputs": [],
   "source": [
    "%%cpp -d\n",
    "#include \"main_HZZAnalysis.cpp+\"\n",
    "//#include \"HZZAnalysis.cpp+\""
   ]
  },
  {
   "cell_type": "code",
   "execution_count": 4,
   "metadata": {},
   "outputs": [
    {
     "name": "stdout",
     "output_type": "stream",
     "text": [
      "Starting analysis with process option: data \n"
     ]
    },
    {
     "name": "stderr",
     "output_type": "stream",
     "text": [
      "Error in <TChain::SetBranchAddress>: unknown branch -> scaleFactor_TauTRIGGER\n",
      "Error in <TChain::SetBranchAddress>: unknown branch -> scaleFactor_DiTauTRIGGER\n",
      "Error in <TChain::SetBranchAddress>: unknown branch -> trigT\n",
      "Error in <TChain::SetBranchAddress>: unknown branch -> trigDT\n",
      "Error in <TTree::SetBranchStatus>: unknown branch -> scaleFactor_TauTRIGGER\n",
      "Error in <TTree::SetBranchStatus>: unknown branch -> scaleFactor_DiTauTRIGGER\n",
      "Error in <TTree::SetBranchStatus>: unknown branch -> trigT\n",
      "Error in <TTree::SetBranchStatus>: unknown branch -> trigDT\n",
      "Error in <TTree::SetBranchStatus>: unknown branch -> scaleFactor_TauTRIGGER\n",
      "Error in <TTree::SetBranchStatus>: unknown branch -> scaleFactor_DiTauTRIGGER\n",
      "Error in <TTree::SetBranchStatus>: unknown branch -> trigT\n",
      "Error in <TTree::SetBranchStatus>: unknown branch -> trigDT\n",
      "Error in <TTree::SetBranchStatus>: unknown branch -> scaleFactor_TauTRIGGER\n",
      "Error in <TTree::SetBranchStatus>: unknown branch -> scaleFactor_DiTauTRIGGER\n",
      "Error in <TTree::SetBranchStatus>: unknown branch -> trigT\n",
      "Error in <TTree::SetBranchStatus>: unknown branch -> trigDT\n"
     ]
    },
    {
     "name": "stdout",
     "output_type": "stream",
     "text": [
      "Writting with name option: data \n"
     ]
    }
   ],
   "source": [
    "main_HZZAnalysis(parallel,option);"
   ]
  }
 ],
 "metadata": {
  "kernelspec": {
   "display_name": "ROOT C++",
   "language": "c++",
   "name": "root"
  },
  "language_info": {
   "codemirror_mode": "text/x-c++src",
   "file_extension": ".C",
   "mimetype": " text/x-c++src",
   "name": "c++"
  }
 },
 "nbformat": 4,
 "nbformat_minor": 2
}
