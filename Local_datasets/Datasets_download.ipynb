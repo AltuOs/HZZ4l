{
 "cells": [
  {
   "cell_type": "markdown",
   "metadata": {},
   "source": [
    "# Herramienta para descarga conjunto de datos a local para posterior estudio del canal de decaimiento en estudio (H->ZZ*->4l)\n",
    "### Oscar Altuve (ULA - VENEZUELA 2021)\n",
    "### Fuente: http://opendata.atlas.cern/release/2020/documentation/datasets/intro.html\n",
    "### Recomendación: usar el programa paso a paso, evitar ejecutar todo de manera automática."
   ]
  },
  {
   "cell_type": "code",
   "execution_count": null,
   "metadata": {},
   "outputs": [],
   "source": [
    "#include \"TChain.h\"\n",
    "#include <stdio.h>\n",
    "#include <stdlib.h>\n",
    "#include <cstdio>\n",
    "#include <iostream>"
   ]
  },
  {
   "cell_type": "code",
   "execution_count": null,
   "metadata": {},
   "outputs": [],
   "source": [
    "// Ubicación y contenido de la carpeta.\n",
    "system(\"pwd\");\n",
    "system(\"ls -lhrt\");"
   ]
  },
  {
   "cell_type": "code",
   "execution_count": null,
   "metadata": {},
   "outputs": [],
   "source": [
    "// Descargar datos de la web.\n",
    "system(\"wget -c -t 50 -i Required_files.txt\") // Puede que sea nacesario ejercutar varias veces, para reanudar descargas detenidas."
   ]
  },
  {
   "cell_type": "markdown",
   "metadata": {},
   "source": [
    "#### ¡PRECAUCÍON! La siguiente casilla es opcional, ya que borrará ejecuciones anteriores de TODO el código."
   ]
  },
  {
   "cell_type": "code",
   "execution_count": null,
   "metadata": {},
   "outputs": [],
   "source": [
    "// *********************************************\n",
    "// Eliminar carpetas 2lep y 4lep.\n",
    "system(\"rm -rf 2lep\");\n",
    "system(\"rm -rf 4lep\");\n",
    "system(\"ls -lhrt\");\n",
    "// *********************************************"
   ]
  },
  {
   "cell_type": "code",
   "execution_count": null,
   "metadata": {},
   "outputs": [],
   "source": [
    "// Crear nuevas carpetas 2lep y 4lep\n",
    "system(\"mkdir -p 2lep\");\n",
    "system(\"mkdir -p 4lep\");\n",
    "system(\"ls -lhrt\");"
   ]
  },
  {
   "cell_type": "code",
   "execution_count": null,
   "metadata": {},
   "outputs": [],
   "source": [
    "// Crear subcarpetas (Data y MC) y organizar conjuntos de datos descargados en cada subcarpeta.\n",
    "system(\"cd 2lep/ && mkdir -p Data && mkdir -p MC\");\n",
    "system(\"mv mc_363358.WqqZll.2lep.root mc_363359.WpqqWmlv.2lep.root mc_363360.WplvWmqq.2lep.root mc_363489.WlvZqq.2lep.root mc_363493.lvvv.2lep.root mc_361100.Wplusenu.2lep.root mc_361101.Wplusmunu.2lep.root mc_361102.Wplustaunu.2lep.root mc_361103.Wminusenu.2lep.root mc_361104.Wminusmunu.2lep.root mc_361105.Wminustaunu.2lep.root 2lep/MC/\");\n",
    "system(\"cd 4lep/ && mkdir -p Data && mkdir -p MC\");\n",
    "system(\"mv data_A.4lep.root data_B.4lep.root data_C.4lep.root data_D.4lep.root 4lep/Data/\");\n",
    "system(\"mv mc_363356.ZqqZll.4lep.root mc_363490.llll.4lep.root mc_363491.lllv.4lep.root mc_363492.llvv.4lep.root mc_361106.Zee.4lep.root mc_361107.Zmumu.4lep.root mc_361108.Ztautau.4lep.root mc_410011.single_top_tchan.4lep.root mc_410012.single_antitop_tchan.4lep.root mc_410025.single_top_schan.4lep.root mc_410026.single_antitop_schan.4lep.root mc_410013.single_top_wtchan.4lep.root mc_410014.single_antitop_wtchan.4lep.root mc_410000.ttbar_lep.4lep.root mc_345060.ggH125_ZZ4lep.4lep.root mc_341947.ZH125_ZZ4lep.4lep.root mc_341964.WH125_ZZ4lep.4lep.root mc_344235.VBFH125_ZZ4lep.4lep.root 4lep/MC/\");"
   ]
  },
  {
   "cell_type": "markdown",
   "metadata": {},
   "source": [
    "#### OPCIONAL: Las siguientes casilla son opcionales. Son para hacer una \"pequeña prueba\" si los conjuntos de datos tienen error."
   ]
  },
  {
   "cell_type": "code",
   "execution_count": null,
   "metadata": {},
   "outputs": [],
   "source": [
    "TString path  = \"//4lep/\";\n",
    "TString name[] = {\"Data/data_A.4lep.root\",\"Data/data_B.4lep.root\",\"Data/data_C.4lep.root\",\"Data/data_D.4lep.root\",\"MC/mc_363356.ZqqZll.4lep.root\",\"MC/mc_363490.llll.4lep.root\",\"MC/mc_363491.lllv.4lep.root\",\"MC/mc_363492.llvv.4lep.root\",\"MC/mc_361106.Zee.4lep.root\",\"MC/mc_361107.Zmumu.4lep.root\",\"MC/mc_361108.Ztautau.4lep.root\",\"MC/mc_410011.single_top_tchan.4lep.root\",\"MC/mc_410012.single_antitop_tchan.4lep.root\",\"MC/mc_410025.single_top_schan.4lep.root\",\"MC/mc_410026.single_antitop_schan.4lep.root\",\"MC/mc_410013.single_top_wtchan.4lep.root\",\"MC/mc_410014.single_antitop_wtchan.4lep.root\",\"MC/mc_410000.ttbar_lep.4lep.root\",\"MC/mc_345060.ggH125_ZZ4lep.4lep.root\",\"MC/mc_341947.ZH125_ZZ4lep.4lep.root\",\"MC/mc_341964.WH125_ZZ4lep.4lep.root\",\"MC/mc_344235.VBFH125_ZZ4lep.4lep.root\"};\n",
    "Int_t size = sizeof(name)/sizeof(name[0]); //Dimensión del array.\n",
    "cout << \"Cantidad de data a escanear en 4lep: \" << size <<endl;\n",
    "int nEvents = 0;\n",
    "for (int i=0; i<size;i++){\n",
    "    TChain* chain = new TChain(\"mini\");\n",
    "    chain->AddFile(path+name[i]);\n",
    "    nEvents = (Int_t)chain->GetEntries();\n",
    "    cout << i+1 << \" Data escaneada: \" << name[i] << \". N-tuplas: \" << nEvents <<endl;\n",
    "}"
   ]
  },
  {
   "cell_type": "code",
   "execution_count": null,
   "metadata": {},
   "outputs": [],
   "source": [
    "TString path2 = \"//2lep/\";\n",
    "TString name2[] = {\"MC/mc_363358.WqqZll.2lep.root\",\"MC/mc_363359.WpqqWmlv.2lep.root\",\"MC/mc_363360.WplvWmqq.2lep.root\",\"MC/mc_363489.WlvZqq.2lep.root\",\"MC/mc_363493.lvvv.2lep.root\",\"MC/mc_361100.Wplusenu.2lep.root\",\"MC/mc_361101.Wplusmunu.2lep.root\",\"MC/mc_361102.Wplustaunu.2lep.root\",\"MC/mc_361103.Wminusenu.2lep.root\",\"MC/mc_361104.Wminusmunu.2lep.root\",\"MC/mc_361105.Wminustaunu.2lep.root\"};\n",
    "size = sizeof(name2)/sizeof(name2[0]); //Dimensión del array.\n",
    "cout << \"Cantidad de data a escanear en 4lep: \" << size <<endl;\n",
    "for (int i=0; i<size;i++){\n",
    "    TChain* chain = new TChain(\"mini\");\n",
    "    chain->AddFile(path2+name2[i]);\n",
    "    nEvents = (Int_t)chain->GetEntries();\n",
    "    cout << i+1 << \" Data escaneada: \" << name2[i] << \". N-tuplas: \" << nEvents <<endl;\n",
    "}"
   ]
  },
  {
   "cell_type": "code",
   "execution_count": null,
   "metadata": {},
   "outputs": [],
   "source": []
  }
 ],
 "metadata": {
  "kernelspec": {
   "display_name": "ROOT C++",
   "language": "c++",
   "name": "root"
  },
  "language_info": {
   "codemirror_mode": "text/x-c++src",
   "file_extension": ".C",
   "mimetype": " text/x-c++src",
   "name": "c++"
  }
 },
 "nbformat": 4,
 "nbformat_minor": 2
}
