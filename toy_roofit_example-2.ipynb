{
 "cells": [
  {
   "cell_type": "markdown",
   "metadata": {},
   "source": [
    "https://root.cern/doc/master/rf202__extendedmlfit_8C.html"
   ]
  },
  {
   "cell_type": "code",
   "execution_count": 1,
   "metadata": {},
   "outputs": [
    {
     "name": "stdout",
     "output_type": "stream",
     "text": [
      "\n",
      "\u001b[1mRooFit v3.60 -- Developed by Wouter Verkerke and David Kirkby\u001b[0m \n",
      "                Copyright (C) 2000-2013 NIKHEF, University of California & Stanford University\n",
      "                All rights reserved, please read http://roofit.sourceforge.net/license.txt\n",
      "\n"
     ]
    }
   ],
   "source": [
    "#include \"RooRealVar.h\"\n",
    "#include \"RooDataSet.h\"\n",
    "#include \"RooGaussian.h\"\n",
    "#include \"RooChebychev.h\"\n",
    "#include \"RooAddPdf.h\"\n",
    "#include \"RooExtendPdf.h\"\n",
    "#include \"TCanvas.h\"\n",
    "#include \"TAxis.h\"\n",
    "#include \"RooPlot.h\"\n",
    "using namespace RooFit;"
   ]
  },
  {
   "cell_type": "code",
   "execution_count": 2,
   "metadata": {},
   "outputs": [],
   "source": [
    "TCanvas *c1 = new TCanvas(\"c1\",\"c1\",900, 600);"
   ]
  },
  {
   "cell_type": "code",
   "execution_count": 3,
   "metadata": {},
   "outputs": [],
   "source": [
    "// S e t u p   c o m p o n e n t   p d f s\n",
    "// ---------------------------------------\n",
    " \n",
    "// Declare observable x\n",
    "RooRealVar x(\"x\", \"x\", 0, 10);\n",
    " \n",
    "// Create two Gaussian PDFs g1(x,mean1,sigma) anf g2(x,mean2,sigma) and their parameters\n",
    "RooRealVar mean(\"mean\", \"mean of gaussians\", 5);\n",
    "RooRealVar sigma1(\"sigma1\", \"width of gaussians\", 0.5);\n",
    "RooRealVar sigma2(\"sigma2\", \"width of gaussians\", 1);\n",
    " \n",
    "RooGaussian sig1(\"sig1\", \"Signal component 1\", x, mean, sigma1);\n",
    "RooGaussian sig2(\"sig2\", \"Signal component 2\", x, mean, sigma2);\n",
    " \n",
    "// Build Chebychev polynomial pdf\n",
    "RooRealVar a0(\"a0\", \"a0\", 0.5, 0., 1.);\n",
    "RooRealVar a1(\"a1\", \"a1\", 0.2, 0., 1.);\n",
    "RooChebychev bkg(\"bkg\", \"Background\", x, RooArgSet(a0, a1));\n",
    " \n",
    "// Sum the signal components into a composite signal pdf\n",
    "RooRealVar sig1frac(\"sig1frac\", \"fraction of component 1 in signal\", 0.8, 0., 1.);\n",
    "RooAddPdf sig(\"sig\", \"Signal\", RooArgList(sig1, sig2), sig1frac);"
   ]
  },
  {
   "cell_type": "code",
   "execution_count": 4,
   "metadata": {},
   "outputs": [],
   "source": [
    "//----------------\n",
    "// M E T H O D   1\n",
    "//================\n",
    " \n",
    "// C o n s t r u c t   e x t e n d e d   c o m p o s i t e   m o d e l\n",
    "// -------------------------------------------------------------------\n",
    " \n",
    "// Sum the composite signal and background into an extended pdf nsig*sig+nbkg*bkg\n",
    "RooRealVar nsig(\"nsig\", \"number of signal events\", 500, 0., 10000);\n",
    "RooRealVar nbkg(\"nbkg\", \"number of background events\", 500, 0, 10000);\n",
    "RooAddPdf model(\"model\", \"(g1+g2)+a\", RooArgList(bkg, sig), RooArgList(nbkg, nsig));"
   ]
  },
  {
   "cell_type": "code",
   "execution_count": 5,
   "metadata": {
    "scrolled": true
   },
   "outputs": [
    {
     "name": "stdout",
     "output_type": "stream",
     "text": [
      "[#1] INFO:Minization -- p.d.f. provides expected number of events, including extended term in likelihood.\n",
      "[#1] INFO:Minization -- RooMinimizer::optimizeConst: activating const optimization\n",
      "[#1] INFO:Minization --  The following expressions have been identified as constant and will be precalculated and cached: (sig1,sig2)\n",
      "[#1] INFO:Minization --  The following expressions will be evaluated in cache-and-track mode: (bkg)\n",
      " **********\n",
      " **    1 **SET PRINT           1\n",
      " **********\n",
      " **********\n",
      " **    2 **SET NOGRAD\n",
      " **********\n",
      " PARAMETER DEFINITIONS:\n",
      "    NO.   NAME         VALUE      STEP SIZE      LIMITS\n",
      "     1 a0           5.00000e-01  1.00000e-01    0.00000e+00  1.00000e+00\n",
      "     2 a1           2.00000e-01  1.00000e-01    0.00000e+00  1.00000e+00\n",
      "     3 nbkg         5.00000e+02  2.50000e+02    0.00000e+00  1.00000e+04\n",
      "     4 nsig         5.00000e+02  2.50000e+02    0.00000e+00  1.00000e+04\n",
      "     5 sig1frac     8.00000e-01  1.00000e-01    0.00000e+00  1.00000e+00\n",
      " **********\n",
      " **    3 **SET ERR         0.5\n",
      " **********\n",
      " **********\n",
      " **    4 **SET PRINT           1\n",
      " **********\n",
      " **********\n",
      " **    5 **SET STR           1\n",
      " **********\n",
      " NOW USING STRATEGY  1: TRY TO BALANCE SPEED AGAINST RELIABILITY\n",
      " **********\n",
      " **    6 **MIGRAD        2500           1\n",
      " **********\n",
      " FIRST CALL TO USER FUNCTION AT NEW START POINT, WITH IFLAG=4.\n",
      " START MIGRAD MINIMIZATION.  STRATEGY  1.  CONVERGENCE WHEN EDM .LT. 1.00e-03\n",
      " FCN=-3945.08 FROM MIGRAD    STATUS=INITIATE       14 CALLS          15 TOTAL\n",
      "                     EDM= unknown      STRATEGY= 1      NO ERROR MATRIX       \n",
      "  EXT PARAMETER               CURRENT GUESS       STEP         FIRST   \n",
      "  NO.   NAME      VALUE            ERROR          SIZE      DERIVATIVE \n",
      "   1  a0           5.00000e-01   1.00000e-01   2.01358e-01   5.55992e+00\n",
      "   2  a1           2.00000e-01   1.00000e-01   2.57889e-01  -1.57427e+00\n",
      "   3  nbkg         5.00000e+02   2.50000e+02   1.18625e-01   2.53685e+00\n",
      "   4  nsig         5.00000e+02   2.50000e+02   1.18625e-01  -2.53775e+00\n",
      "   5  sig1frac     8.00000e-01   1.00000e-01   2.57889e-01  -2.02142e+00\n",
      "                               ERR DEF= 0.5\n",
      " MIGRAD MINIMIZATION HAS CONVERGED.\n",
      " MIGRAD WILL VERIFY CONVERGENCE AND ERROR MATRIX.\n",
      " COVARIANCE MATRIX CALCULATED SUCCESSFULLY\n",
      " FCN=-3945.49 FROM MIGRAD    STATUS=CONVERGED      98 CALLS          99 TOTAL\n",
      "                     EDM=1.34919e-05    STRATEGY= 1      ERROR MATRIX ACCURATE \n",
      "  EXT PARAMETER                                   STEP         FIRST   \n",
      "  NO.   NAME      VALUE            ERROR          SIZE      DERIVATIVE \n",
      "   1  a0           4.41701e-01   7.31971e-02   6.37371e-03  -2.20459e-02\n",
      "   2  a1           2.01081e-01   1.18245e-01   8.18002e-03   7.34208e-03\n",
      "   3  nbkg         5.04206e+02   3.94549e+01   4.96630e-04   1.70657e-02\n",
      "   4  nsig         4.95799e+02   3.93537e+01   4.96929e-04   6.32308e-03\n",
      "   5  sig1frac     8.37341e-01   1.17266e-01   8.52165e-03  -5.56324e-04\n",
      "                               ERR DEF= 0.5\n",
      " EXTERNAL ERROR MATRIX.    NDIM=  25    NPAR=  5    ERR DEF=0.5\n",
      "  5.397e-03  1.216e-03 -3.098e-01  3.099e-01 -1.021e-03 \n",
      "  1.216e-03  1.441e-02 -3.254e+00  3.254e+00 -9.763e-03 \n",
      " -3.098e-01 -3.254e+00  1.557e+03 -1.053e+03  3.292e+00 \n",
      "  3.099e-01  3.254e+00 -1.053e+03  1.549e+03 -3.293e+00 \n",
      " -1.021e-03 -9.763e-03  3.292e+00 -3.293e+00  1.424e-02 \n",
      " PARAMETER  CORRELATION COEFFICIENTS  \n",
      "       NO.  GLOBAL      1      2      3      4      5\n",
      "        1  0.14135   1.000  0.138 -0.107  0.107 -0.116\n",
      "        2  0.77063   0.138  1.000 -0.687  0.689 -0.682\n",
      "        3  0.77292  -0.107 -0.687  1.000 -0.678  0.699\n",
      "        4  0.77488   0.107  0.689 -0.678  1.000 -0.701\n",
      "        5  0.78168  -0.116 -0.682  0.699 -0.701  1.000\n",
      " **********\n",
      " **    7 **SET ERR         0.5\n",
      " **********\n",
      " **********\n",
      " **    8 **SET PRINT           1\n",
      " **********\n",
      " **********\n",
      " **    9 **HESSE        2500\n",
      " **********\n",
      " COVARIANCE MATRIX CALCULATED SUCCESSFULLY\n",
      " FCN=-3945.49 FROM HESSE     STATUS=OK             31 CALLS         130 TOTAL\n",
      "                     EDM=1.34689e-05    STRATEGY= 1      ERROR MATRIX ACCURATE \n",
      "  EXT PARAMETER                                INTERNAL      INTERNAL  \n",
      "  NO.   NAME      VALUE            ERROR       STEP SIZE       VALUE   \n",
      "   1  a0           4.41701e-01   7.31850e-02   1.27474e-03  -1.16864e-01\n",
      "   2  a1           2.01081e-01   1.17613e-01   3.27201e-04  -6.40802e-01\n",
      "   3  nbkg         5.04206e+02   3.93107e+01   9.93261e-05  -1.11784e+00\n",
      "   4  nsig         4.95799e+02   3.92054e+01   1.98772e-05  -1.12170e+00\n",
      "   5  sig1frac     8.37341e-01   1.16841e-01   3.40866e-04   7.40533e-01\n",
      "                               ERR DEF= 0.5\n",
      " EXTERNAL ERROR MATRIX.    NDIM=  25    NPAR=  5    ERR DEF=0.5\n",
      "  5.395e-03  1.200e-03 -3.051e-01  3.051e-01 -1.005e-03 \n",
      "  1.200e-03  1.425e-02 -3.209e+00  3.209e+00 -9.625e-03 \n",
      " -3.051e-01 -3.209e+00  1.545e+03 -1.041e+03  3.258e+00 \n",
      "  3.051e-01  3.209e+00 -1.041e+03  1.537e+03 -3.258e+00 \n",
      " -1.005e-03 -9.625e-03  3.258e+00 -3.258e+00  1.413e-02 \n",
      " PARAMETER  CORRELATION COEFFICIENTS  \n",
      "       NO.  GLOBAL      1      2      3      4      5\n",
      "        1  0.14023   1.000  0.137 -0.106  0.106 -0.115\n",
      "        2  0.76770   0.137  1.000 -0.684  0.686 -0.678\n",
      "        3  0.77101  -0.106 -0.684  1.000 -0.676  0.697\n",
      "        4  0.77292   0.106  0.686 -0.676  1.000 -0.699\n",
      "        5  0.77980  -0.115 -0.678  0.697 -0.699  1.000\n",
      "[#1] INFO:Minization -- RooMinimizer::optimizeConst: deactivating const optimization\n",
      "[#1] INFO:Plotting -- RooAbsPdf::plotOn(model) directly selected PDF components: (bkg)\n",
      "[#1] INFO:Plotting -- RooAbsPdf::plotOn(model) indirectly selected PDF components: ()\n",
      "[#1] INFO:Plotting -- RooAbsPdf::plotOn(model) directly selected PDF components: (bkg,sig2)\n",
      "[#1] INFO:Plotting -- RooAbsPdf::plotOn(model) indirectly selected PDF components: (sig)\n",
      "--- RooAbsArg ---\n",
      "  Value State: DIRTY\n",
      "  Shape State: DIRTY\n",
      "  Attributes: \n",
      "  Address: 0x7f19984b6768\n",
      "  Clients: \n",
      "  Servers: \n",
      "    (0x7f19982f1fc0,V-) RooChebychev::bkg \"Background\"\n",
      "    (0x7f19984b63c0,V-) RooRealVar::nbkg \"number of background events\"\n",
      "    (0x7f19982f2810,V-) RooAddPdf::sig \"Signal\"\n",
      "    (0x7f19984b6018,V-) RooRealVar::nsig \"number of signal events\"\n",
      "  Proxies: \n",
      "    !refCoefNorm -> \n",
      "    !pdfs -> \n",
      "      1)  bkg\n",
      "      2)  sig\n",
      "    !coefficients -> \n",
      "      1)  nbkg\n",
      "      2)  nsig\n",
      "--- RooAbsReal ---\n",
      "\n",
      "  Plot label is \"model\"\n",
      "--- RooAbsPdf ---\n",
      "Cached value = 0\n"
     ]
    }
   ],
   "source": [
    "// S a m p l e ,   f i t   a n d   p l o t   e x t e n d e d   m o d e l\n",
    "// ---------------------------------------------------------------------\n",
    " \n",
    "// Generate a data sample of expected number events in x from model\n",
    "// = model.expectedEvents() = nsig+nbkg\n",
    "RooDataSet *data = model.generate(x);\n",
    " \n",
    "// Fit model to data, extended ML term automatically included\n",
    "model.fitTo(*data);\n",
    " \n",
    "// Plot data and PDF overlaid, use expected number of events for pdf projection normalization\n",
    "// rather than observed number of events (==data->numEntries())\n",
    "RooPlot *xframe = x.frame(Title(\"extended ML fit example\"));\n",
    "data->plotOn(xframe);\n",
    "model.plotOn(xframe, Normalization(1.0, RooAbsReal::RelativeExpected));\n",
    " \n",
    "// Overlay the background component of model with a dashed line\n",
    "model.plotOn(xframe, Components(bkg), LineStyle(kDashed), Normalization(1.0, RooAbsReal::RelativeExpected));\n",
    " \n",
    "// Overlay the background+sig2 components of model with a dotted line\n",
    "model.plotOn(xframe, Components(RooArgSet(bkg, sig2)), LineStyle(kDotted),Normalization(1.0, RooAbsReal::RelativeExpected));\n",
    " \n",
    "// Print structure of composite pdf\n",
    "model.Print(\"v\");"
   ]
  },
  {
   "cell_type": "code",
   "execution_count": 6,
   "metadata": {},
   "outputs": [],
   "source": [
    "//----------------\n",
    "// M E T H O D   2\n",
    "//================\n",
    " \n",
    "// C o n s t r u c t   e x t e n d e d   c o m p o n e n t s   f i r s t\n",
    "// ---------------------------------------------------------------------\n",
    " \n",
    "// Associated nsig/nbkg as expected number of events with sig/bkg\n",
    "RooExtendPdf esig(\"esig\", \"extended signal pdf\", sig, nsig);\n",
    "RooExtendPdf ebkg(\"ebkg\", \"extended background pdf\", bkg, nbkg);"
   ]
  },
  {
   "cell_type": "code",
   "execution_count": 7,
   "metadata": {},
   "outputs": [],
   "source": [
    "// S u m   e x t e n d e d   c o m p o n e n t s   w i t h o u t   c o e f s\n",
    "// -------------------------------------------------------------------------\n",
    " \n",
    "// Construct sum of two extended pdf (no coefficients required)\n",
    "RooAddPdf model2(\"model2\", \"(g1+g2)+a\", RooArgList(ebkg, esig));\n",
    " \n",
    "// Draw the frame on the canvas\n",
    "new TCanvas(\"rf202_composite\", \"rf202_composite\", 600, 600);\n",
    "//gPad->SetLeftMargin(0.15);\n",
    "//xframe->GetYaxis()->SetTitleOffset(1.4);\n",
    "xframe->Draw();"
   ]
  },
  {
   "cell_type": "code",
   "execution_count": 8,
   "metadata": {
    "scrolled": false
   },
   "outputs": [
    {
     "data": {
      "image/png": "[encoded data removed]",
      "text/plain": [
       "<IPython.core.display.Image object>"
      ]
     },
     "metadata": {},
     "output_type": "display_data"
    },
    {
     "data": {
      "image/png": "[encoded data removed]",
      "text/plain": [
       "<IPython.core.display.Image object>"
      ]
     },
     "metadata": {},
     "output_type": "display_data"
    }
   ],
   "source": [
    "%jsroot off\n",
    "gROOT->GetListOfCanvases()->Draw()"
   ]
  },
  {
   "cell_type": "code",
   "execution_count": null,
   "metadata": {},
   "outputs": [],
   "source": []
  }
 ],
 "metadata": {
  "kernelspec": {
   "display_name": "ROOT C++",
   "language": "c++",
   "name": "root"
  },
  "language_info": {
   "codemirror_mode": "text/x-c++src",
   "file_extension": ".C",
   "mimetype": " text/x-c++src",
   "name": "c++"
  }
 },
 "nbformat": 4,
 "nbformat_minor": 2
}
