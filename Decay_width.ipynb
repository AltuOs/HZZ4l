{
 "cells": [
  {
   "cell_type": "code",
   "execution_count": 1,
   "metadata": {},
   "outputs": [],
   "source": [
    "%jsroot on"
   ]
  },
  {
   "cell_type": "code",
   "execution_count": 2,
   "metadata": {},
   "outputs": [],
   "source": [
    "#include<TFile.h>\n",
    "#include<TH1.h>\n",
    "#include<TLine.h>\n",
    "#include<TPoint.h>\n",
    "#include<iostream>\n",
    "#include<string>\n",
    "#include<stdio.h>"
   ]
  },
  {
   "cell_type": "code",
   "execution_count": 3,
   "metadata": {},
   "outputs": [
    {
     "name": "stdout",
     "output_type": "stream",
     "text": [
      "TH1.Print Name  = mass_four_lep, Entries= 321, Total sum= 95\n"
     ]
    }
   ],
   "source": [
    "TFile *f=new TFile(\"//Analysis/Output_HZZAnalysis/data.root\");\n",
    "//TFile *f = new TFile(\"//Analysis/Output_HZZAnalysis/ggH125_ZZ4lep.root\"); // Prueba MC gg->H125->ZZ->4lep.\n",
    "mass_four_lep->Print(); // Test de lectura de datos"
   ]
  },
  {
   "cell_type": "code",
   "execution_count": 4,
   "metadata": {},
   "outputs": [],
   "source": [
    "// gROOT->SetStyle(\"ATLAS\"); // Establecer estilo.\n",
    "gStyle->SetOptStat(\"emr\"); // Dibujar estadisticas de grafico.\n",
    "gStyle->SetOptFit(1112);"
   ]
  },
  {
   "cell_type": "code",
   "execution_count": 5,
   "metadata": {},
   "outputs": [],
   "source": [
    "TCanvas *c1 = new TCanvas(\"c1\",\"c1\",10,10,900,600);\n",
    "c1->SetGrid();"
   ]
  },
  {
   "cell_type": "code",
   "execution_count": 6,
   "metadata": {},
   "outputs": [],
   "source": [
    "TH1F *m_four_lep = (TH1F*)f->Get(\"mass_four_lep\");\n",
    "//m_four_lep->Draw();\n",
    "m_four_lep->Draw(\"E1\"); // E1: Para representar los puntos con barras de error."
   ]
  },
  {
   "cell_type": "code",
   "execution_count": 7,
   "metadata": {},
   "outputs": [],
   "source": [
    "Int_t fit = 4; // Opciones 0, 1, 2, 3, 4 = Distribuciones"
   ]
  },
  {
   "cell_type": "code",
   "execution_count": 8,
   "metadata": {},
   "outputs": [],
   "source": [
    "Double_t mybw(Double_t* x, Double_t* par) // Distribución de Breit-Wigner relativista\n",
    "{\n",
    "    Double_t arg1 = 2/TMath::Pi();\n",
    "    Double_t arg2 = pow(par[1],2)*pow(par[2],2); // Gamma=par[1] M=par[2]\n",
    "    Double_t arg3 = pow((pow(x[0],2)-pow(par[2],2)),2);\n",
    "    Double_t arg4 = pow(x[0],4)*(pow(par[1],2)/pow(par[2],2));\n",
    "    return par[0]*arg1*arg2/(arg3+arg4);\n",
    "}"
   ]
  },
  {
   "cell_type": "code",
   "execution_count": 9,
   "metadata": {},
   "outputs": [],
   "source": [
    "Double_t mybw_mod(Double_t* x, Double_t* par) // Distribución de Breit-Wigner relativista\n",
    "{\n",
    "    Double_t arg1 = sqrt(pow(par[2],2)*(pow(par[2],2)+pow(par[1],2))); // Gamma=par[1] M=par[2]\n",
    "    Double_t arg2 = 2*sqrt(2)*par[2]*par[1]*arg1/(TMath::Pi()*sqrt(pow(par[2],2)+arg1));\n",
    "    Double_t arg3 = pow((pow(x[0],2)-pow(par[2],2)),2);\n",
    "    Double_t arg4 = pow(par[2],2)*pow(par[1],2);\n",
    "    return par[0]*arg2/(arg3+arg4);\n",
    "}"
   ]
  },
  {
   "cell_type": "code",
   "execution_count": 10,
   "metadata": {},
   "outputs": [],
   "source": [
    "if (fit == 0) {\n",
    "    TF1 *f1 = new TF1(\"f1\",\"mybw\",110,140,3);\n",
    "    f1->SetParameters(1,m_four_lep->GetMean(),m_four_lep->GetRMS());\n",
    "    //f1->SetParNames (\"Constant\",\"Mean\",\"Sigma\"); // OJO con el tipo de parámetro.\n",
    "}\n",
    "if (fit == 1) {TF1 *f1 = new TF1(\"f1\",\"gaus\",110,140);}\n",
    "if (fit == 2) {TF1 *f1 = new TF1(\"f1\",\"landau\",110,140);}\n",
    "if (fit == 3) {TF1 *f1 = new TF1(\"f1\",\"gausn\",110,140);}\n",
    "if (fit == 4) {\n",
    "    TF1 *f1 = new TF1(\"f1\",\"mybw_mod\",110,140,3);\n",
    "    f1->SetParameters(1,m_four_lep->GetMean(),m_four_lep->GetRMS());\n",
    "    //f1->SetParNames (\"Constant\",\"Sigma\",\"Mean\"); // OJO con el tipo de parámetro.\n",
    "}"
   ]
  },
  {
   "cell_type": "code",
   "execution_count": 11,
   "metadata": {},
   "outputs": [
    {
     "name": "stdout",
     "output_type": "stream",
     "text": [
      " FCN=3.3306 FROM MIGRAD    STATUS=CONVERGED     552 CALLS         553 TOTAL\n",
      "                     EDM=2.95576e-07    STRATEGY= 1      ERROR MATRIX ACCURATE \n",
      "  EXT PARAMETER                                   STEP         FIRST   \n",
      "  NO.   NAME      VALUE            ERROR          SIZE      DERIVATIVE \n",
      "   1  p0           1.36067e+02   2.63969e+01   2.53751e-02  -2.20600e-06\n",
      "   2  p1           8.90449e+00   2.75978e+00   2.60273e-03  -2.34216e-05\n",
      "   3  p2           1.24414e+02   1.08872e+00   1.08525e-03   7.14921e-04\n"
     ]
    }
   ],
   "source": [
    "m_four_lep->Fit(\"f1\",\"R\"); // Puede usarse V para agregar más detalles estadísticos.\n",
    "f1->SetLineColor(kRed);"
   ]
  },
  {
   "cell_type": "code",
   "execution_count": 12,
   "metadata": {},
   "outputs": [
    {
     "name": "stdout",
     "output_type": "stream",
     "text": [
      "Formula based function:     f1 \n",
      "            tf1lambda : mybw_mod Ndim= 1, Npar= 3, Number= 0 \n",
      " Formula expression: \n",
      "\tmybw_mod \n",
      "List of  Parameters: \n",
      "Par   0                   p0 =  136.067460 \n",
      "Par   1                   p1 =    8.904495 \n",
      "Par   2                   p2 =  124.413915 \n",
      "Expression passed to Cling:\n",
      "\tmybw_mod\n"
     ]
    }
   ],
   "source": [
    "// Print the full information of the fit including covariance matrix.\n",
    "f1->Print(\"V\"); \n",
    "\n",
    "// Store the result in a ROOT file.\n",
    "//f1->Write(); "
   ]
  },
  {
   "cell_type": "code",
   "execution_count": 13,
   "metadata": {},
   "outputs": [
    {
     "data": {
      "text/html": [
       "\n",
       "<div id=\"root_plot_1\"\n",
       "     style=\"width: 896px; height: 572px\">\n",
       "</div>\n",
       "\n",
       "<script>\n",
       " requirejs.config({\n",
       "     paths: {\n",
       "       'JSRootCore' : 'https://root.cern.ch/js/notebook//scripts/JSRootCore',\n",
       "     }\n",
       "   });\n",
       " require(['JSRootCore'],\n",
       "     function(Core) {\n",
       "       var obj = Core.JSONR_unref({\"_typename\":\"TCanvas\",\"fUniqueID\":0,\"fBits\":53673992,\"fLineColor\":1,\"fLineStyle\":1,\"fLineWidth\":1,\"fFillColor\":0,\"fFillStyle\":1001,\"fLeftMargin\":0.1,\"fRightMargin\":0.1,\"fBottomMargin\":0.1,\"fTopMargin\":0.1,\"fXfile\":2,\"fYfile\":2,\"fAfile\":1,\"fXstat\":0.99,\"fYstat\":0.99,\"fAstat\":2,\"fFrameFillColor\":0,\"fFrameLineColor\":1,\"fFrameFillStyle\":1001,\"fFrameLineStyle\":1,\"fFrameLineWidth\":1,\"fFrameBorderSize\":1,\"fFrameBorderMode\":0,\"fX1\":68.7499991618096,\"fY1\":-3.21196808340396,\"fX2\":181.25000083819,\"fY2\":28.9077108361535,\"fXtoAbsPixelk\":-547.555490720621,\"fXtoPixelk\":-547.555490720621,\"fXtoPixel\":7.96444432576497,\"fYtoAbsPixelk\":514.800046590614,\"fYtoPixelk\":514.800046590614,\"fYtoPixel\":-17.8083971957675,\"fUtoAbsPixelk\":5e-5,\"fUtoPixelk\":5e-5,\"fUtoPixel\":896,\"fVtoAbsPixelk\":572.00005,\"fVtoPixelk\":572,\"fVtoPixel\":-572,\"fAbsPixeltoXk\":68.7499991618096,\"fPixeltoXk\":68.7499991618096,\"fPixeltoX\":0.125558037585246,\"fAbsPixeltoYk\":28.9077108361535,\"fPixeltoYk\":-3.21196808340396,\"fPixeltoY\":-0.0561532848244012,\"fXlowNDC\":0,\"fYlowNDC\":0,\"fXUpNDC\":0,\"fYUpNDC\":0,\"fWNDC\":1,\"fHNDC\":1,\"fAbsXlowNDC\":0,\"fAbsYlowNDC\":0,\"fAbsWNDC\":1,\"fAbsHNDC\":1,\"fUxmin\":80,\"fUymin\":0,\"fUxmax\":170,\"fUymax\":25.6957427527496,\"fTheta\":30,\"fPhi\":30,\"fAspectRatio\":0,\"fNumber\":0,\"fTickx\":0,\"fTicky\":0,\"fLogx\":0,\"fLogy\":0,\"fLogz\":0,\"fPadPaint\":0,\"fCrosshair\":0,\"fCrosshairPos\":0,\"fBorderSize\":2,\"fBorderMode\":0,\"fModified\":false,\"fGridx\":true,\"fGridy\":true,\"fAbsCoord\":false,\"fEditable\":true,\"fFixedAspectRatio\":false,\"fPrimitives\":{\"_typename\":\"TList\",\"name\":\"TList\",\"arr\":[{\"_typename\":\"TFrame\",\"fUniqueID\":0,\"fBits\":50331656,\"fLineColor\":1,\"fLineStyle\":1,\"fLineWidth\":1,\"fFillColor\":0,\"fFillStyle\":1001,\"fX1\":80,\"fY1\":0,\"fX2\":170,\"fY2\":25.6957427527496,\"fBorderSize\":1,\"fBorderMode\":0},{\"_typename\":\"TH1F\",\"fUniqueID\":0,\"fBits\":50331656,\"fName\":\"mass_four_lep\",\"fTitle\":\"Mass of four-lepton system\",\"fLineColor\":602,\"fLineStyle\":1,\"fLineWidth\":1,\"fFillColor\":0,\"fFillStyle\":1001,\"fMarkerColor\":1,\"fMarkerStyle\":1,\"fMarkerSize\":1,\"fNcells\":26,\"fXaxis\":{\"_typename\":\"TAxis\",\"fUniqueID\":0,\"fBits\":50331648,\"fName\":\"xaxis\",\"fTitle\":\" m_{4l} [GeV]\",\"fNdivisions\":510,\"fAxisColor\":1,\"fLabelColor\":1,\"fLabelFont\":42,\"fLabelOffset\":0.005,\"fLabelSize\":0.035,\"fTickLength\":0.03,\"fTitleOffset\":1,\"fTitleSize\":0.035,\"fTitleColor\":1,\"fTitleFont\":42,\"fNbins\":24,\"fXmin\":80,\"fXmax\":170,\"fXbins\":[],\"fFirst\":0,\"fLast\":0,\"fBits2\":0,\"fTimeDisplay\":false,\"fTimeFormat\":\"\",\"fLabels\":null,\"fModLabs\":null},\"fYaxis\":{\"_typename\":\"TAxis\",\"fUniqueID\":0,\"fBits\":50331648,\"fName\":\"yaxis\",\"fTitle\":\"Events \\/ bin\",\"fNdivisions\":510,\"fAxisColor\":1,\"fLabelColor\":1,\"fLabelFont\":42,\"fLabelOffset\":0.005,\"fLabelSize\":0.035,\"fTickLength\":0.03,\"fTitleOffset\":0,\"fTitleSize\":0.035,\"fTitleColor\":1,\"fTitleFont\":42,\"fNbins\":1,\"fXmin\":0,\"fXmax\":1,\"fXbins\":[],\"fFirst\":0,\"fLast\":0,\"fBits2\":0,\"fTimeDisplay\":false,\"fTimeFormat\":\"\",\"fLabels\":null,\"fModLabs\":null},\"fZaxis\":{\"_typename\":\"TAxis\",\"fUniqueID\":0,\"fBits\":50331648,\"fName\":\"zaxis\",\"fTitle\":\"\",\"fNdivisions\":510,\"fAxisColor\":1,\"fLabelColor\":1,\"fLabelFont\":42,\"fLabelOffset\":0.005,\"fLabelSize\":0.035,\"fTickLength\":0.03,\"fTitleOffset\":1,\"fTitleSize\":0.035,\"fTitleColor\":1,\"fTitleFont\":42,\"fNbins\":1,\"fXmin\":0,\"fXmax\":1,\"fXbins\":[],\"fFirst\":0,\"fLast\":0,\"fBits2\":0,\"fTimeDisplay\":false,\"fTimeFormat\":\"\",\"fLabels\":null,\"fModLabs\":null},\"fBarOffset\":0,\"fBarWidth\":1000,\"fEntries\":321,\"fTsumw\":95,\"fTsumw2\":95,\"fTsumwx\":11030.9741134644,\"fTsumwx2\":1341716.84406426,\"fMaximum\":-1111,\"fMinimum\":-1111,\"fNormFactor\":0,\"fContour\":[],\"fSumw2\":[],\"fOption\":\"\",\"fFunctions\":{\"_typename\":\"TList\",\"name\":\"TList\",\"arr\":[{\"_typename\":\"TF1\",\"fUniqueID\":0,\"fBits\":50332672,\"fName\":\"f1\",\"fTitle\":\"\",\"fLineColor\":2,\"fLineStyle\":1,\"fLineWidth\":2,\"fFillColor\":19,\"fFillStyle\":0,\"fMarkerColor\":1,\"fMarkerStyle\":1,\"fMarkerSize\":1,\"fXmin\":110,\"fXmax\":140,\"fNpar\":3,\"fNdim\":1,\"fNpx\":100,\"fType\":0,\"fNpfits\":8,\"fNDF\":5,\"fChisquare\":3.33060316733761,\"fMinimum\":-1111,\"fMaximum\":-1111,\"fParErrors\":[26.3968591545193,2.75978127541548,1.08871868630031],\"fParMin\":[0,0,0],\"fParMax\":[0,0,0],\"fSave\":[0.946100854358335,0.980392362802149,1.01660897327886,1.05489290636984,1.09539915332906,1.13829678848594,1.18377042646303,1.2320218395969,1.28327175200214,1.33776182756781,1.39575686967623,1.45754725037344,1.52345158580142,1.59381967250883,1.66903569521384,1.74952170990721,1.83574139577233,1.9282040537877,2.02746880707574,2.13414892539821,2.24891615011997,2.37250483178611,2.50571560409217,2.64941819767316,2.80455283503095,2.9721294322006,3.1532235496763,3.34896766988534,3.56053591733338,3.78911977177632,4.03589165827497,4.30195255969183,4.58825906084504,4.89552464672582,5.22408990020272,5.5737568954912,5.94358517613709,6.33165105081783,6.73477945216282,7.14826903471047,7.56564658848914,7.97850472003703,8.37649306580626,8.74754083991564,9.07837758458899,9.35538055297062,9.56570871343566,9.69859562398043,9.74659295144105,9.70651890063881,9.57989919426717,9.37279370799506,9.09504687529001,8.7591316108257,8.37882853874742,7.96797786282848,7.53947645095738,7.10460241395706,6.67266715938419,6.2509400361077,5.84476681081862,5.45780346475002,5.09230082300503,4.74939430647615,4.42937082145978,4.13189876801279,3.85621678628876,3.60128272806972,3.36588739215395,3.14873873718273,2.94852233796595,2.76394331542041,2.59375418918073,2.43677227688272,2.29188950014187,2.15807679968642,2.03438482199994,1.91994211042961,1.81395170048397,1.71568676526254,1.62448576664447,1.53974742703202,1.46092573349523,1.38752511180377,1.31909585479276,1.25522985221091,1.19555664341517,1.13973979683755,1.08747360870791,1.03848010633631,0.99250633707365,0.949321921959257,0.908716852362498,0.870499508157876,0.834494876800267,0.800542953851286,0.76849730688472,0.738223786155127,0.709599366874494,0.682511109358348,0.656855224645162,110,140],\"fNormalized\":false,\"fNormIntegral\":0,\"fFormula\":{\"_typename\":\"TFormula\",\"fUniqueID\":0,\"fBits\":50463744,\"fName\":\"tf1lambda\",\"fTitle\":\"mybw_mod\",\"fClingParameters\":[136.067460109782,8.90449458125575,124.413914849339],\"fAllParametersSetted\":true,\"fParams\":[{\"$pair\":\"pair<TString,int,TFormulaParamOrder>\",\"first\":\"p0\",\"second\":0},{\"$pair\":\"pair<TString,int,TFormulaParamOrder>\",\"first\":\"p1\",\"second\":1},{\"$pair\":\"pair<TString,int,TFormulaParamOrder>\",\"first\":\"p2\",\"second\":2}],\"fFormula\":\"mybw_mod\",\"fNdim\":1,\"fLinearParts\":[],\"fVectorized\":false},\"fParams\":null,\"fComposition_ptr\":null},{\"_typename\":\"TPaveStats\",\"fUniqueID\":0,\"fBits\":50331657,\"fLineColor\":1,\"fLineStyle\":1,\"fLineWidth\":1,\"fFillColor\":0,\"fFillStyle\":1001,\"fX1\":138.500001743436,\"fY1\":13.9720605023109,\"fX2\":179.00000295043,\"fY2\":26.8199317829616,\"fX1NDC\":0.620000013709068,\"fY1NDC\":0.535000011324883,\"fX2NDC\":0.980000019073486,\"fY2NDC\":0.935000002384186,\"fBorderSize\":1,\"fInit\":1,\"fShadowColor\":1,\"fCornerRadius\":0,\"fOption\":\"brNDC\",\"fName\":\"stats\",\"fTextAngle\":0,\"fTextSize\":0,\"fTextAlign\":12,\"fTextColor\":1,\"fTextFont\":42,\"fLabel\":\"\",\"fLongest\":27,\"fMargin\":0.05,\"fLines\":{\"_typename\":\"TList\",\"name\":\"TList\",\"arr\":[{\"_typename\":\"TLatex\",\"fUniqueID\":0,\"fBits\":50331648,\"fName\":\"\",\"fTitle\":\"Entries = 321    \",\"fTextAngle\":0,\"fTextSize\":0,\"fTextAlign\":0,\"fTextColor\":0,\"fTextFont\":0,\"fX\":0,\"fY\":0,\"fLineColor\":1,\"fLineStyle\":1,\"fLineWidth\":2,\"fLimitFactorSize\":3,\"fOriginSize\":0.04},{\"_typename\":\"TLatex\",\"fUniqueID\":0,\"fBits\":50331648,\"fName\":\"\",\"fTitle\":\"Mean  =  116.1\",\"fTextAngle\":0,\"fTextSize\":0,\"fTextAlign\":0,\"fTextColor\":0,\"fTextFont\":0,\"fX\":0,\"fY\":0,\"fLineColor\":1,\"fLineStyle\":1,\"fLineWidth\":2,\"fLimitFactorSize\":3,\"fOriginSize\":0.04},{\"_typename\":\"TLatex\",\"fUniqueID\":0,\"fBits\":50331648,\"fName\":\"\",\"fTitle\":\"Std Dev   =  25.31\",\"fTextAngle\":0,\"fTextSize\":0,\"fTextAlign\":0,\"fTextColor\":0,\"fTextFont\":0,\"fX\":0,\"fY\":0,\"fLineColor\":1,\"fLineStyle\":1,\"fLineWidth\":2,\"fLimitFactorSize\":3,\"fOriginSize\":0.04},{\"_typename\":\"TLatex\",\"fUniqueID\":0,\"fBits\":50331648,\"fName\":\"\",\"fTitle\":\"#chi^{2} \\/ ndf = 3.331 \\/ 5\",\"fTextAngle\":0,\"fTextSize\":0,\"fTextAlign\":0,\"fTextColor\":0,\"fTextFont\":0,\"fX\":0,\"fY\":0,\"fLineColor\":1,\"fLineStyle\":1,\"fLineWidth\":2,\"fLimitFactorSize\":3,\"fOriginSize\":0.04},{\"_typename\":\"TLatex\",\"fUniqueID\":0,\"fBits\":50331648,\"fName\":\"\",\"fTitle\":\"Prob  = 0.6492\",\"fTextAngle\":0,\"fTextSize\":0,\"fTextAlign\":0,\"fTextColor\":0,\"fTextFont\":0,\"fX\":0,\"fY\":0,\"fLineColor\":1,\"fLineStyle\":1,\"fLineWidth\":2,\"fLimitFactorSize\":3,\"fOriginSize\":0.04},{\"_typename\":\"TLatex\",\"fUniqueID\":0,\"fBits\":50331648,\"fName\":\"\",\"fTitle\":\"p0       = 136.1 #pm 26.4 \",\"fTextAngle\":0,\"fTextSize\":0,\"fTextAlign\":0,\"fTextColor\":0,\"fTextFont\":0,\"fX\":0,\"fY\":0,\"fLineColor\":1,\"fLineStyle\":1,\"fLineWidth\":2,\"fLimitFactorSize\":3,\"fOriginSize\":0.04},{\"_typename\":\"TLatex\",\"fUniqueID\":0,\"fBits\":50331648,\"fName\":\"\",\"fTitle\":\"p1       = 8.904 #pm 2.760 \",\"fTextAngle\":0,\"fTextSize\":0,\"fTextAlign\":0,\"fTextColor\":0,\"fTextFont\":0,\"fX\":0,\"fY\":0,\"fLineColor\":1,\"fLineStyle\":1,\"fLineWidth\":2,\"fLimitFactorSize\":3,\"fOriginSize\":0.04},{\"_typename\":\"TLatex\",\"fUniqueID\":0,\"fBits\":50331648,\"fName\":\"\",\"fTitle\":\"p2       = 124.4 #pm 1.1 \",\"fTextAngle\":0,\"fTextSize\":0,\"fTextAlign\":0,\"fTextColor\":0,\"fTextFont\":0,\"fX\":0,\"fY\":0,\"fLineColor\":1,\"fLineStyle\":1,\"fLineWidth\":2,\"fLimitFactorSize\":3,\"fOriginSize\":0.04}],\"opt\":[\"\",\"\",\"\",\"\",\"\",\"\",\"\",\"\"]},\"fOptFit\":1112,\"fOptStat\":1110,\"fFitFormat\":\"5.4g\",\"fStatFormat\":\"6.4g\",\"fParent\":{\"$ref\":3}}],\"opt\":[\"\",\"brNDC\"]},\"fBufferSize\":0,\"fBuffer\":[],\"fBinStatErrOpt\":0,\"fStatOverflows\":2,\"fArray\":[0,1,6,20,7,4,3,1,0,2,1,7,9,7,3,3,1,4,1,2,4,2,1,4,2,226]},{\"_typename\":\"TLine\",\"fUniqueID\":0,\"fBits\":50331656,\"fLineColor\":416,\"fLineStyle\":7,\"fLineWidth\":1,\"fX1\":119.879018924024,\"fY1\":4.87334407196859,\"fX2\":128.789227959795,\"fY2\":4.87334407196859},{\"_typename\":\"TLine\",\"fUniqueID\":0,\"fBits\":50331656,\"fLineColor\":416,\"fLineStyle\":7,\"fLineWidth\":1,\"fX1\":124.413914873463,\"fY1\":9.74668814393717,\"fX2\":124.413914873463,\"fY2\":0},{\"_typename\":\"TPaveText\",\"fUniqueID\":0,\"fBits\":50331657,\"fLineColor\":1,\"fLineStyle\":1,\"fLineWidth\":1,\"fFillColor\":0,\"fFillStyle\":0,\"fX1\":100.27008891721,\"fY1\":26.7929782828251,\"fX2\":149.72991108279,\"fY2\":28.7471125947143,\"fX1NDC\":0.280178571428571,\"fY1NDC\":0.934160843929211,\"fX2NDC\":0.719821428571429,\"fY2NDC\":0.995000004768372,\"fBorderSize\":0,\"fInit\":1,\"fShadowColor\":1,\"fCornerRadius\":0,\"fOption\":\"blNDC\",\"fName\":\"title\",\"fTextAngle\":0,\"fTextSize\":0,\"fTextAlign\":22,\"fTextColor\":1,\"fTextFont\":42,\"fLabel\":\"\",\"fLongest\":26,\"fMargin\":0.05,\"fLines\":{\"_typename\":\"TList\",\"name\":\"TList\",\"arr\":[{\"_typename\":\"TLatex\",\"fUniqueID\":0,\"fBits\":50331648,\"fName\":\"\",\"fTitle\":\"Mass of four-lepton system\",\"fTextAngle\":0,\"fTextSize\":0,\"fTextAlign\":0,\"fTextColor\":0,\"fTextFont\":0,\"fX\":0,\"fY\":0,\"fLineColor\":1,\"fLineStyle\":1,\"fLineWidth\":2,\"fLimitFactorSize\":3,\"fOriginSize\":0.0517132878303528}],\"opt\":[\"\"]}}],\"opt\":[\"\",\"E1\",\"same\",\"same\",\"blNDC\"]},\"fExecs\":null,\"fName\":\"c1\",\"fTitle\":\"c1\",\"fNumPaletteColor\":0,\"fNextPaletteColor\":0,\"fDISPLAY\":\"$DISPLAY\",\"fDoubleBuffer\":0,\"fRetained\":true,\"fXsizeUser\":0,\"fYsizeUser\":0,\"fXsizeReal\":20,\"fYsizeReal\":13.33333,\"fWindowTopX\":0,\"fWindowTopY\":0,\"fWindowWidth\":0,\"fWindowHeight\":0,\"fCw\":896,\"fCh\":572,\"fCatt\":{\"_typename\":\"TAttCanvas\",\"fXBetween\":2,\"fYBetween\":2,\"fTitleFromTop\":1.2,\"fXdate\":0.2,\"fYdate\":0.3,\"fAdate\":1},\"kMoveOpaque\":true,\"kResizeOpaque\":true,\"fHighLightColor\":2,\"fBatch\":true,\"kShowEventStatus\":false,\"kAutoExec\":true,\"kMenuBar\":true});\n",
       "       Core.draw(\"root_plot_1\", obj, \"\");\n",
       "     }\n",
       " );\n",
       "</script>\n"
      ],
      "text/plain": [
       "<IPython.core.display.HTML object>"
      ]
     },
     "metadata": {},
     "output_type": "display_data"
    },
    {
     "name": "stdout",
     "output_type": "stream",
     "text": [
      "Coordenada del punto máximo en el ajuste: (124.414,9.74669).\n",
      "Intersecciones en m4l a média altura: 119.879 GeV y 128.789 GeV.\n",
      "Ancho de decaimiento, Γ = 8.91021 GeV.\n",
      "Tiempo de vida media, τ = 4.64149e-25 s.\n"
     ]
    }
   ],
   "source": [
    "minx = f1->GetXmin(); // Mínimo en x del ajuste.\n",
    "maxx = f1->GetXmax(); // Máximo en x del ajuste.\n",
    "\n",
    "mode_x = f1->GetMaximumX(minx,maxx); // Coordenada x del máximo en el ajuste dentro del intervalo [minx,maxx].\n",
    "mode_y = f1->Eval(mode_x); // Coordenada y del máximo.\n",
    "\n",
    "upper_halfwidth = f1->GetX(mode_y/2.0,mode_x,maxx);\n",
    "lower_halfwidth = f1->GetX(mode_y/2.0,minx,mode_x);\n",
    "\n",
    "width = upper_halfwidth-lower_halfwidth;\n",
    "\n",
    "cout    << \"Coordenada del punto máximo en el ajuste: (\" << mode_x << \",\" << mode_y << \").\" << endl\n",
    "        << \"Intersecciones en m4l a média altura: \" << lower_halfwidth << \" GeV\" << \" y \" << upper_halfwidth << \" GeV.\" << endl\n",
    "        << \"Ancho de decaimiento, \\u0393 = \" << width << \" GeV.\" << endl\n",
    "        << \"Tiempo de vida media, \\u03C4 = \" << 4.135667696E-15/(width*1E9) << \" s.\" << endl;\n",
    "\n",
    "TLine *l1 = new TLine(lower_halfwidth,mode_y/2.0,upper_halfwidth,mode_y/2.0);\n",
    "l1->SetLineColor(kGreen);\n",
    "l1->SetLineStyle(7);\n",
    "l1->Draw(\"same\");\n",
    "\n",
    "TLine *l2 = new TLine(mode_x,mode_y,mode_x,0);\n",
    "l2->SetLineColor(kGreen);\n",
    "l2->SetLineStyle(7);\n",
    "l2->Draw(\"same\");\n",
    "\n",
    "c1->Draw();"
   ]
  },
  {
   "cell_type": "markdown",
   "metadata": {},
   "source": [
    "#### OJO Revisar los orden de magnitud y unidades."
   ]
  }
 ],
 "metadata": {
  "kernelspec": {
   "display_name": "ROOT C++",
   "language": "c++",
   "name": "root"
  },
  "language_info": {
   "codemirror_mode": "text/x-c++src",
   "file_extension": ".C",
   "mimetype": " text/x-c++src",
   "name": "c++"
  }
 },
 "nbformat": 4,
 "nbformat_minor": 2
}
