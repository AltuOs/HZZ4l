{
 "cells": [
  {
   "cell_type": "code",
   "execution_count": 1,
   "metadata": {},
   "outputs": [],
   "source": [
    "%%cpp -d\n",
    "#define HZZAnalysis_cxx\n",
    "#include \"main_HZZAnalysis.C\""
   ]
  },
  {
   "cell_type": "code",
   "execution_count": 2,
   "metadata": {},
   "outputs": [],
   "source": [
    "#include <iostream> ////\n",
    "#include <cstring>\n",
    "#include <string>\n",
    "\n",
    "#include <TH1.h> ////\n",
    "#include <TH2.h> ////\n",
    "#include <TStyle.h>\n",
    "#include <TMath.h>\n",
    "#include <TLorentzVector.h>\n",
    "//#include <TString.h>\n",
    "using namespace std;"
   ]
  },
  {
   "cell_type": "markdown",
   "metadata": {},
   "source": [
    "Headers"
   ]
  },
  {
   "cell_type": "code",
   "execution_count": 3,
   "metadata": {},
   "outputs": [],
   "source": [
    "#include \"HZZAnalysis.h\" //Modificado"
   ]
  },
  {
   "cell_type": "code",
   "execution_count": 4,
   "metadata": {},
   "outputs": [],
   "source": [
    "#include \"HZZAnalysisHistograms.h\" //Modificado"
   ]
  },
  {
   "cell_type": "markdown",
   "metadata": {},
   "source": [
    "### Es sólo la prueba de corrida sin vaciar el análisis al Notebook."
   ]
  },
  {
   "cell_type": "markdown",
   "metadata": {},
   "source": [
    "#### Which option should I run?\n",
    "Options are:\n",
    "\n",
    "0 = run all data and MC one after another\n",
    "\n",
    "1 = run data only\n",
    "\n",
    "2,3 = run MC samples only"
   ]
  },
  {
   "cell_type": "code",
   "execution_count": 5,
   "metadata": {},
   "outputs": [
    {
     "name": "stdout",
     "output_type": "stream",
     "text": [
      "Option: 1"
     ]
    }
   ],
   "source": [
    "int option=1; //option\n",
    "cout << \"Option: \" << option;"
   ]
  },
  {
   "cell_type": "markdown",
   "metadata": {},
   "source": [
    "#### Should I use PROOF? (will make things faster)\n",
    "Options are:\n",
    "\n",
    "0 = NO\n",
    "\n",
    "1 = YES"
   ]
  },
  {
   "cell_type": "code",
   "execution_count": 6,
   "metadata": {},
   "outputs": [
    {
     "name": "stdout",
     "output_type": "stream",
     "text": [
      "Option: 1"
     ]
    }
   ],
   "source": [
    "int parallel=1; //option\n",
    "cout << \"Option: \" << parallel;"
   ]
  },
  {
   "cell_type": "code",
   "execution_count": 7,
   "metadata": {},
   "outputs": [
    {
     "name": "stdout",
     "output_type": "stream",
     "text": [
      "WpqqWmlv\n",
      "12\n"
     ]
    }
   ],
   "source": [
    "%%python\n",
    "#He pensado en iniciar el \"Run\" con python y la selección de los sample. Aún sin vincular.\n",
    "##from ROOT import TString\n",
    "import ROOT\n",
    "option=2;\n",
    "if (option == 0):\n",
    "    sample = [\"data\",\"ZqqZll\",\"WqqZll\",\"WpqqWmlv\",\"WplvWmqq\",\"WlvZqq\",\"llll\",\"lllv\",\"llvv\",\"lvvv\",\"Zee\",\"Zmumu\",\"Ztautau\",\"single_top_tchan\",\"single_antitop_tchan\",\"single_top_schan\",\"single_antitop_schan\",\"single_top_wtchan\",\"single_antitop_wtchan\",\"ttbar_lep\",\"Wplusenu\",\"Wplusmunu\",\"Wplustaunu\",\"Wminusenu\",\"Wminusmunu\",\"Wminustaunu\",\"ggH125_ZZ4lep\",\"ZH125_ZZ4lep\",\"WH125_ZZ4lep\",\"VBF125_ZZ4lep\"]\n",
    "if (option == 1):\n",
    "    sample = [\"data\"]\n",
    "if (option == 2):\n",
    "    sample = [\"ZqqZll\",\"WqqZll\",\"WpqqWmlv\",\"WplvWmqq\",\"WlvZqq\",\"llll\",\"lllv\",\"llvv\",\"lvvv\",\"Zee\",\"Zmumu\",\"Ztautau\"]\n",
    "if (option == 3):\n",
    "    sample = [\"single_top_tchan\",\"single_antitop_tchan\",\"single_top_schan\",\"single_antitop_schan\",\"single_top_wtchan\",\"single_antitop_wtchan\",\"ttbar_lep\",\"Wplusenu\",\"Wplusmunu\",\"Wplustaunu\",\"Wminusenu\",\"Wminusmunu\",\"Wminustaunu\",\"ggH125_ZZ4lep\",\"ZH125_ZZ4lep\",\"WH125_ZZ4lep\",\"VBF125_ZZ4lep\"]\n",
    "\n",
    "print(sample[2])\n",
    "print(len(sample))"
   ]
  },
  {
   "cell_type": "markdown",
   "metadata": {},
   "source": [
    "string event=\"none\";\n",
    "int lengt=0;\n",
    "void array_option(int option,int i,int& lengt,string& event) {\n",
    "    //static int sample[30];\n",
    "    if (option == 0) string sample[] = {\"data\",\"ZqqZll\",\"WqqZll\",\"WpqqWmlv\",\"WplvWmqq\",\"WlvZqq\",\"llll\",\"lllv\",\"llvv\",\"lvvv\",\"Zee\",\"Zmumu\",\"Ztautau\",\"single_top_tchan\",\"single_antitop_tchan\",\"single_top_schan\",\"single_antitop_schan\",\"single_top_wtchan\",\"single_antitop_wtchan\",\"ttbar_lep\",\"Wplusenu\",\"Wplusmunu\",\"Wplustaunu\",\"Wminusenu\",\"Wminusmunu\",\"Wminustaunu\",\"ggH125_ZZ4lep\",\"ZH125_ZZ4lep\",\"WH125_ZZ4lep\",\"VBF125_ZZ4lep\"};\n",
    "    if (option == 1) {\n",
    "        string sample[] = {\"data\"};\n",
    "        //TChain *fChain = new TChain(\"mini\");\n",
    "        //fChain = main_HZZAnalysis(parallel,sample[0]); //sustituido \"parallel\" por cero\n",
    "    }\n",
    "    if (option == 2) string sample[] = {\"ZqqZll\",\"WqqZll\",\"WpqqWmlv\",\"WplvWmqq\",\"WlvZqq\",\"llll\",\"lllv\",\"llvv\",\"lvvv\",\"Zee\",\"Zmumu\",\"Ztautau\"};\n",
    "    if (option == 3) string sample[] = {\"single_top_tchan\",\"single_antitop_tchan\",\"single_top_schan\",\"single_antitop_schan\",\"single_top_wtchan\",\"single_antitop_wtchan\",\"ttbar_lep\",\"Wplusenu\",\"Wplusmunu\",\"Wplustaunu\",\"Wminusenu\",\"Wminusmunu\",\"Wminustaunu\",\"ggH125_ZZ4lep\",\"ZH125_ZZ4lep\",\"WH125_ZZ4lep\",\"VBF125_ZZ4lep\"};\n",
    "    lengt=size(sample[]);\n",
    "    event=sample[i];\n",
    "}    \n",
    "\n",
    "for (int i=0; i<lengt;i++){\n",
    "    TChain *fChain = new TChain(\"mini\");\n",
    "    fChain = main_HZZAnalysis(parallel,event); //sustituido \"parallel\" por cero\n",
    "}"
   ]
  },
  {
   "cell_type": "code",
   "execution_count": null,
   "metadata": {},
   "outputs": [],
   "source": []
  },
  {
   "cell_type": "code",
   "execution_count": 8,
   "metadata": {},
   "outputs": [
    {
     "name": "stderr",
     "output_type": "stream",
     "text": [
      "\u001b[1minput_line_36:4:8: \u001b[0m\u001b[0;1;31merror: \u001b[0m\u001b[1mexpected ';' after expression\u001b[0m\n",
      "TStrign array_option(int option,int i,int& lengt,TString& event) {\n",
      "\u001b[0;1;32m       ^\n",
      "\u001b[0m\u001b[0;32m       ;\n",
      "\u001b[0m\u001b[1minput_line_36:4:26: \u001b[0m\u001b[0;1;31merror: \u001b[0m\u001b[1mexpected '(' for function-style cast or type construction\u001b[0m\n",
      "TStrign array_option(int option,int i,int& lengt,TString& event) {\n",
      "\u001b[0;1;32m                     ~~~ ^\n",
      "\u001b[0m\u001b[1minput_line_36:4:37: \u001b[0m\u001b[0;1;31merror: \u001b[0m\u001b[1mexpected '(' for function-style cast or type construction\u001b[0m\n",
      "TStrign array_option(int option,int i,int& lengt,TString& event) {\n",
      "\u001b[0;1;32m                                ~~~ ^\n",
      "\u001b[0m\u001b[1minput_line_36:4:42: \u001b[0m\u001b[0;1;31merror: \u001b[0m\u001b[1mexpected '(' for function-style cast or type construction\u001b[0m\n",
      "TStrign array_option(int option,int i,int& lengt,TString& event) {\n",
      "\u001b[0;1;32m                                      ~~~^\n",
      "\u001b[0m\u001b[1minput_line_36:4:50: \u001b[0m\u001b[0;1;31merror: \u001b[0m\u001b[1m'TString' does not refer to a value\u001b[0m\n",
      "TStrign array_option(int option,int i,int& lengt,TString& event) {\n",
      "\u001b[0;1;32m                                                 ^\n",
      "\u001b[0m\u001b[1m/home/student/ROOT/build/include/TGeoNode.h:24:7: \u001b[0m\u001b[0;1;30mnote: \u001b[0mdeclared here\u001b[0m\n",
      "class TString;\n",
      "\u001b[0;1;32m      ^\n",
      "\u001b[0m"
     ]
    }
   ],
   "source": [
    "TString event=\"none\";\n",
    "int lengt=0;\n",
    "TStrign array_option(int option,int i,int& lengt,TString& event) {\n",
    "    //static int sample[30];\n",
    "    if (option == 0) TString sample[] = {\"data\",\"ZqqZll\",\"WqqZll\",\"WpqqWmlv\",\"WplvWmqq\",\"WlvZqq\",\"llll\",\"lllv\",\"llvv\",\"lvvv\",\"Zee\",\"Zmumu\",\"Ztautau\",\"single_top_tchan\",\"single_antitop_tchan\",\"single_top_schan\",\"single_antitop_schan\",\"single_top_wtchan\",\"single_antitop_wtchan\",\"ttbar_lep\",\"Wplusenu\",\"Wplusmunu\",\"Wplustaunu\",\"Wminusenu\",\"Wminusmunu\",\"Wminustaunu\",\"ggH125_ZZ4lep\",\"ZH125_ZZ4lep\",\"WH125_ZZ4lep\",\"VBF125_ZZ4lep\"};\n",
    "    if (option == 1) {\n",
    "        TString sample[] = {\"data\"};\n",
    "        //TChain *fChain = new TChain(\"mini\");\n",
    "        //fChain = main_HZZAnalysis(parallel,sample[0]); //sustituido \"parallel\" por cero\n",
    "    }\n",
    "    if (option == 2) TString sample[] = {\"ZqqZll\",\"WqqZll\",\"WpqqWmlv\",\"WplvWmqq\",\"WlvZqq\",\"llll\",\"lllv\",\"llvv\",\"lvvv\",\"Zee\",\"Zmumu\",\"Ztautau\"};\n",
    "    if (option == 3) TString sample[] = {\"single_top_tchan\",\"single_antitop_tchan\",\"single_top_schan\",\"single_antitop_schan\",\"single_top_wtchan\",\"single_antitop_wtchan\",\"ttbar_lep\",\"Wplusenu\",\"Wplusmunu\",\"Wplustaunu\",\"Wminusenu\",\"Wminusmunu\",\"Wminustaunu\",\"ggH125_ZZ4lep\",\"ZH125_ZZ4lep\",\"WH125_ZZ4lep\",\"VBF125_ZZ4lep\"};\n",
    "    lengt=size(sample[]);\n",
    "    event=sample[i];\n",
    "}    \n",
    "\n",
    "for (int i=0; i<lengt;i++){\n",
    "    TChain *fChain = new TChain(\"mini\");\n",
    "    fChain = main_HZZAnalysis(parallel,event);\n",
    "}"
   ]
  },
  {
   "cell_type": "code",
   "execution_count": 9,
   "metadata": {},
   "outputs": [
    {
     "name": "stderr",
     "output_type": "stream",
     "text": [
      "IncrementalExecutor::executeFunction: symbol '_ZN5cling7runtime8internal9EvaluateTIvEET_PNS1_15DynamicExprInfoEPN5clang11DeclContextE' unresolved while linking [cling interface function]!\n",
      "You are probably missing the definition of void cling::runtime::internal::EvaluateT<void>(cling::runtime::internal::DynamicExprInfo*, clang::DeclContext*)\n",
      "Maybe you need to load the corresponding shared library?\n"
     ]
    }
   ],
   "source": [
    "//Banderas\n",
    "fChain->Scan(); \n",
    "fChain->Print();"
   ]
  },
  {
   "cell_type": "code",
   "execution_count": 10,
   "metadata": {},
   "outputs": [],
   "source": [
    "void HZZAnalysis::Begin(TTree * )\n",
    "{\n",
    "    nEvents=0;\n",
    "}"
   ]
  },
  {
   "cell_type": "code",
   "execution_count": 11,
   "metadata": {},
   "outputs": [],
   "source": [
    "void HZZAnalysis::SlaveBegin(TTree * )\n",
    "{\n",
    "    define_histograms();\n",
    "    FillOutputList();\n",
    "}"
   ]
  },
  {
   "cell_type": "code",
   "execution_count": 12,
   "metadata": {},
   "outputs": [
    {
     "name": "stderr",
     "output_type": "stream",
     "text": [
      "\u001b[1minput_line_41:2:10: \u001b[0m\u001b[0;1;31merror: \u001b[0m\u001b[1muse of undeclared identifier 'fChain'\u001b[0m\n",
      " ((Int_t)fChain->GetEntries())\n",
      "\u001b[0;1;32m         ^\n",
      "\u001b[0mError in <HandleInterpreterException>: Error evaluating expression ((Int_t)fChain->GetEntries()).\n",
      "Execution of your code was aborted.\n"
     ]
    }
   ],
   "source": [
    "int nEvents,nbytes, i;\n",
    "\n",
    "nEvents = (Int_t)fChain->GetEntries();\n",
    "\n",
    "// IMPORTANT: fraction events we want to run\n",
    "fraction_events = 1;\n",
    "events_to_run = nEvents*fraction_events;\n",
    "\n",
    "std::cout << \"Total # events = \"  << nEvents\n",
    "          << \". Events to run = \" << events_to_run\n",
    "          << \" corresponding to \" << fraction_events*100\n",
    "          << \"% of total events!\" << std::endl;"
   ]
  },
  {
   "cell_type": "code",
   "execution_count": 13,
   "metadata": {},
   "outputs": [
    {
     "name": "stderr",
     "output_type": "stream",
     "text": [
      "\u001b[1minput_line_42:2:9: \u001b[0m\u001b[0;1;31merror: \u001b[0m\u001b[1mexpected ')'\u001b[0m\n",
      " fr (i=0; i < nEvents; i++) //CAMBIAR POR FOR\n",
      "\u001b[0;1;32m        ^\n",
      "\u001b[0m\u001b[1minput_line_42:2:5: \u001b[0m\u001b[0;1;30mnote: \u001b[0mto match this '('\u001b[0m\n",
      " fr (i=0; i < nEvents; i++) //CAMBIAR POR FOR\n",
      "\u001b[0;1;32m    ^\n",
      "\u001b[0m\u001b[1minput_line_42:2:27: \u001b[0m\u001b[0;1;31merror: \u001b[0m\u001b[1mexpected ';' after expression\u001b[0m\n",
      " fr (i=0; i < nEvents; i++) //CAMBIAR POR FOR\n",
      "\u001b[0;1;32m                          ^\n",
      "\u001b[0m\u001b[0;32m                          ;\n",
      "\u001b[0m\u001b[1minput_line_42:2:27: \u001b[0m\u001b[0;1;31merror: \u001b[0m\u001b[1mexpected expression\u001b[0m\n"
     ]
    }
   ],
   "source": [
    "fr (i=0; i < nEvents; i++) //CAMBIAR POR FOR\n",
    "{\n",
    "    nbytes = fChain->GetEntry(i);\n",
    "            //Scale factors\n",
    "            Float_t scaleFactor = scaleFactor_ELE*scaleFactor_MUON*scaleFactor_LepTRIGGER*scaleFactor_PILEUP;\n",
    "\n",
    "            //MC weight\n",
    "            Float_t m_mcWeight = mcWeight;\n",
    "\n",
    "            // read input option\n",
    "            TString option = GetOption();\n",
    "            if(option.Contains(\"single\")){m_mcWeight = (mcWeight/TMath::Abs(mcWeight));} // set to 1 or -1 for single top MCs\n",
    "\n",
    "            //Total weight\n",
    "            Float_t weight = scaleFactor*m_mcWeight;\n",
    "\n",
    "            // Make difference between data and MC\n",
    "            if(option.Contains(\"data\")) {  weight = 1.; }\n",
    "\n",
    "            //Preselection cut for electron/muon trigger\n",
    "            if(trigE || trigM)\n",
    "            {\n",
    "                // Preselection of good leptons\n",
    "                int goodlep_index[lep_n];\n",
    "                int goodlep_n = 0;\n",
    "                int lep_index =0;\n",
    "\n",
    "                for(unsigned int i=0; i<lep_n; i++)\n",
    "                {\n",
    "                    TLorentzVector leptemp;  leptemp.SetPtEtaPhiE(lep_pt->at(i)/1000., lep_eta->at(i), lep_phi->at(i), lep_E->at(i)/1000.);\n",
    "\n",
    "                    // loosely isolated and very soft \n",
    "                    if( lep_pt->at(i) > 5000. && TMath::Abs(lep_eta->at(i)) < 2.5 && ( (lep_ptcone30->at(i)/lep_pt->at(i)) < 0.3) && ( (lep_etcone20->at(i) / lep_pt->at(i)) < 0.3 ) )\n",
    "                    {\n",
    "                        // electron\n",
    "                        if ( lep_type->at(i) == 11 && lep_pt->at(i) > 7000. && TMath::Abs(lep_eta->at(i)) <2.47 )\n",
    "                        {\n",
    "                            if( TMath::Abs(lep_trackd0pvunbiased->at(i))/lep_tracksigd0pvunbiased->at(i) < 5 && TMath::Abs(lep_z0->at(i)*TMath::Sin(leptemp.Theta())) < 0.5)\n",
    "                            {\n",
    "                                goodlep_n = goodlep_n + 1;\n",
    "                                goodlep_index[lep_index] = i;\n",
    "                                lep_index++;\n",
    "                            }\n",
    "                        }\n",
    "                        //muon\n",
    "                        if ( lep_type->at(i) == 13)\n",
    "                        {\n",
    "                            if( TMath::Abs(lep_trackd0pvunbiased->at(i))/lep_tracksigd0pvunbiased->at(i) < 3 && TMath::Abs(lep_z0->at(i)*TMath::Sin(leptemp.Theta())) < 0.5)\n",
    "                            {\n",
    "                                goodlep_n = goodlep_n + 1;\n",
    "                                goodlep_index[lep_index] = i;\n",
    "                                lep_index++;\n",
    "                            }\n",
    "                        }\n",
    "                    }\n",
    "                }\n",
    "\n",
    "                //Exactly four good leptons\n",
    "                if(goodlep_n == 4 )\n",
    "                {\n",
    "                    int goodlep1_index = goodlep_index[0];\n",
    "                    int goodlep2_index = goodlep_index[1];\n",
    "                    int goodlep3_index = goodlep_index[2];\n",
    "                    int goodlep4_index = goodlep_index[3];\n",
    "\n",
    "                    //first lepton pT > 25 GeV, second > 15 GeV and third > 10 GeV\t\t      \n",
    "                    if (lep_pt->at(goodlep1_index) > 25000. && lep_pt->at(goodlep2_index) > 15000. && lep_pt->at(goodlep3_index) > 10000. ) \n",
    "                    {\n",
    "                        // TLorentzVector definitions\n",
    "                        TLorentzVector Lepton_1  = TLorentzVector();\n",
    "                        TLorentzVector Lepton_2  = TLorentzVector();\n",
    "                        TLorentzVector Lepton_3  = TLorentzVector();\n",
    "                        TLorentzVector Lepton_4  = TLorentzVector();\n",
    "\n",
    "                        Lepton_1.SetPtEtaPhiE(lep_pt->at(goodlep1_index), lep_eta->at(goodlep1_index), lep_phi->at(goodlep1_index),lep_E->at(goodlep1_index));\n",
    "                        Lepton_2.SetPtEtaPhiE(lep_pt->at(goodlep2_index), lep_eta->at(goodlep2_index), lep_phi->at(goodlep2_index),lep_E->at(goodlep2_index));\n",
    "                        Lepton_3.SetPtEtaPhiE(lep_pt->at(goodlep3_index), lep_eta->at(goodlep3_index), lep_phi->at(goodlep3_index),lep_E->at(goodlep3_index));\n",
    "                        Lepton_4.SetPtEtaPhiE(lep_pt->at(goodlep4_index), lep_eta->at(goodlep4_index), lep_phi->at(goodlep4_index),lep_E->at(goodlep4_index));\n",
    "\n",
    "                        // minimisation of difference from the Z mass\n",
    "                        float delta_Z1=0; \n",
    "                        float delta_Z2=0; \n",
    "                        float InvMassZ1=0; \n",
    "                        float InvMassZ2=0;\n",
    "                        float delta_Z1_1=0; float delta_Z1_2=0; float delta_Z1_3=0;\n",
    "                        float delta_Z2_1=0; float delta_Z2_2=0; float delta_Z2_3=0;\n",
    "                        float InvMassZ1_1=0; float InvMassZ1_2=0; float InvMassZ1_3=0;\n",
    "                        float InvMassZ2_1=0; float InvMassZ2_2=0; float InvMassZ2_3=0;\n",
    "                        float sum_ZZ1=0; float sum_ZZ2=0; float sum_ZZ3=0;\n",
    "\n",
    "                        // final values\n",
    "                        float InvMassZ1_min=0; float InvMassZ2_min=0; float sum_ZZ_fin=0;\n",
    "\n",
    "                        float sum_charges = lep_charge->at(goodlep1_index) + lep_charge->at(goodlep2_index) + lep_charge->at(goodlep3_index) + lep_charge->at(goodlep4_index);\t\t\t \n",
    "\n",
    "                        // step-by-step\n",
    "                        // opposite charge leptons\n",
    "                        if ( sum_charges == 0  ) \n",
    "                        {\n",
    "                            int sum_types  = lep_type->at(goodlep1_index) + lep_type->at(goodlep2_index) + lep_type->at(goodlep3_index) + lep_type->at(goodlep4_index) ;\n",
    "\n",
    "                            //type e=11, mu=13\n",
    "                            // begin case e+e-e+e- or mu+mu-mu+mu-\n",
    "                            if ( sum_types == 44 || sum_types == 52  )\n",
    "                            {\n",
    "                                if ( lep_type->at(goodlep1_index) == lep_type->at(goodlep2_index) && ( (lep_charge->at(goodlep1_index) * lep_charge->at(goodlep2_index)) < 0 )  )\n",
    "                                {\n",
    "                                    InvMassZ1_1=(Lepton_1+Lepton_2).Mag()/1000.;\n",
    "                                    InvMassZ2_1=(Lepton_3+Lepton_4).Mag()/1000.;\n",
    "                                    delta_Z1_1 =  TMath::Abs(InvMassZ1_1 - 91.18); \n",
    "                                    delta_Z2_1 =  TMath::Abs(InvMassZ2_1 - 91.18);\n",
    "                                }\n",
    "                                if ( lep_type->at(goodlep1_index) == lep_type->at(goodlep3_index)  && ( (lep_charge->at(goodlep1_index) * lep_charge->at(goodlep3_index)) < 0 ) )\n",
    "                                {\n",
    "                                    InvMassZ1_2=(Lepton_1+Lepton_3).Mag()/1000.;\n",
    "                                    InvMassZ2_2=(Lepton_2+Lepton_4).Mag()/1000.;\n",
    "                                    delta_Z1_2 =  TMath::Abs(InvMassZ1_2 - 91.18); \n",
    "                                    delta_Z2_2 =  TMath::Abs(InvMassZ2_2 - 91.18);\n",
    "                                }\n",
    "                                if ( lep_type->at(goodlep1_index) == lep_type->at(goodlep4_index)  && ( (lep_charge->at(goodlep1_index) * lep_charge->at(goodlep4_index)) < 0 ) )\n",
    "                                {\n",
    "                                    InvMassZ1_3=(Lepton_1+Lepton_4).Mag()/1000.;\n",
    "                                    InvMassZ2_3=(Lepton_2+Lepton_3).Mag()/1000.;\n",
    "                                    delta_Z1_3 =  TMath::Abs(InvMassZ1_3 - 91.18); \n",
    "                                    delta_Z2_3 =  TMath::Abs(InvMassZ2_3 - 91.18);\n",
    "                                }\n",
    "\n",
    "                                if(delta_Z1_1 < delta_Z2_1) { InvMassZ1_min = InvMassZ1_1; InvMassZ2_min = InvMassZ2_1;}\n",
    "                                if(delta_Z2_1 < delta_Z1_1) { InvMassZ1_min = InvMassZ2_1; InvMassZ2_min = InvMassZ1_1;}\n",
    "\n",
    "                                if(delta_Z1_2 < delta_Z2_2) { InvMassZ1_min = InvMassZ1_2; InvMassZ2_min = InvMassZ2_2;}\n",
    "                                if(delta_Z2_2 < delta_Z1_2) { InvMassZ1_min = InvMassZ2_2; InvMassZ2_min = InvMassZ1_2;}\n",
    "\n",
    "                                if(delta_Z1_3 < delta_Z2_3) { InvMassZ1_min = InvMassZ1_3; InvMassZ2_min = InvMassZ2_3;}\n",
    "                                if(delta_Z2_3 < delta_Z1_3) { InvMassZ1_min = InvMassZ2_3; InvMassZ2_min = InvMassZ1_3;}\n",
    "\n",
    "                            } // cases of eeee or mumumumu\n",
    "\n",
    "                            ////////////////////////////////////\n",
    "                            // case eemumu \n",
    "                            if ( sum_types == 48 )\n",
    "                            {\n",
    "                                if ( lep_type->at(goodlep1_index) == lep_type->at(goodlep2_index)  && ( (lep_charge->at(goodlep1_index) * lep_charge->at(goodlep2_index)) < 0 ) )\n",
    "                                {\n",
    "                                    InvMassZ1=(Lepton_1+Lepton_2).Mag()/1000.;\n",
    "                                    InvMassZ2=(Lepton_3+Lepton_4).Mag()/1000.;\n",
    "                                    delta_Z1 =  TMath::Abs(InvMassZ1 - 91.18); \n",
    "                                    delta_Z2 =  TMath::Abs(InvMassZ2 - 91.18);\n",
    "                                }\n",
    "                                if ( lep_type->at(goodlep1_index) == lep_type->at(goodlep3_index)  && ( (lep_charge->at(goodlep1_index) * lep_charge->at(goodlep3_index)) < 0 ) )\n",
    "                                {\n",
    "                                    InvMassZ1=(Lepton_1+Lepton_3).Mag()/1000.;\n",
    "                                    InvMassZ2=(Lepton_2+Lepton_4).Mag()/1000.;\n",
    "                                    delta_Z1 =  TMath::Abs(InvMassZ1 - 91.18); \n",
    "                                    delta_Z2 =  TMath::Abs(InvMassZ2 - 91.18);\n",
    "                                }\n",
    "                                if ( lep_type->at(goodlep1_index) == lep_type->at(goodlep4_index)  && ( (lep_charge->at(goodlep1_index) * lep_charge->at(goodlep4_index)) < 0 ) )\n",
    "                                {\n",
    "                                    InvMassZ1=(Lepton_1+Lepton_4).Mag()/1000.;\n",
    "                                    InvMassZ2=(Lepton_2+Lepton_3).Mag()/1000.;\n",
    "                                    delta_Z1 =  TMath::Abs(InvMassZ1 - 91.18); \n",
    "                                    delta_Z2 =  TMath::Abs(InvMassZ2 - 91.18);\n",
    "                                }\n",
    "\n",
    "                                if(delta_Z1 < delta_Z2) { InvMassZ1_min = InvMassZ1; InvMassZ2_min = InvMassZ2;}\n",
    "                                if(delta_Z2 < delta_Z1) { InvMassZ1_min = InvMassZ2; InvMassZ2_min = InvMassZ1;}\n",
    "                            } // eemumu overe\n",
    "\n",
    "                            if ( (sum_types == 44 || sum_types == 52 || sum_types == 48) )\n",
    "                            {\n",
    "\n",
    "                                TLorentzVector FourLepSystem = TLorentzVector();\n",
    "                                FourLepSystem = Lepton_1 + Lepton_2 + Lepton_3 + Lepton_4;\n",
    "                                float FourLepSystem_M = FourLepSystem.Mag()/1000.;\n",
    "                                float FourLepSystem_pt = FourLepSystem.Pt()/1000.;\n",
    "                                float FourLepSystem_y = FourLepSystem.Rapidity();\n",
    "\n",
    "\n",
    "                                //Preselection of good jets\n",
    "                                int goodjet_n = 0;\n",
    "                                int goodjet_index = 0;\n",
    "\n",
    "                                if (jet_n > 0)\n",
    "                                {\n",
    "                                    for(unsigned int i=0; i<jet_n; i++)\n",
    "                                    {\n",
    "                                        if(jet_pt->at(i) > 30000. && TMath::Abs(jet_eta->at(i)) < 4.4)\n",
    "                                        {\n",
    "                                            goodjet_n++;\n",
    "                                            goodjet_index = i;\n",
    "                                        }\n",
    "                                    }\n",
    "                                }\n",
    "\n",
    "\n",
    "                                //Start to fill histograms : definitions of x-axis variables\n",
    "                                double names_of_global_variable[]={InvMassZ1_min, InvMassZ2_min, FourLepSystem_pt, FourLepSystem_y, FourLepSystem_M, FourLepSystem_M,  (double)goodjet_n };\n",
    "\n",
    "                                double names_of_leadlep_variable[]={Lepton_1.Pt()/1000., Lepton_1.Eta(), Lepton_1.E()/1000., Lepton_1.Phi(), (double)lep_charge->at(goodlep1_index), (double)lep_type->at(goodlep1_index)};\n",
    "\n",
    "                                double names_of_secondlep_variable[]={Lepton_2.Pt()/1000., Lepton_2.Eta(), Lepton_2.E()/1000., Lepton_2.Phi(), (double)lep_charge->at(goodlep2_index), (double)lep_type->at(goodlep2_index)};\n",
    "\n",
    "                                double names_of_thirdlep_variable[]={Lepton_3.Pt()/1000., Lepton_3.Eta(), Lepton_3.E()/1000., Lepton_3.Phi(), (double)lep_charge->at(goodlep3_index), (double)lep_type->at(goodlep3_index)};\n",
    "\n",
    "                                double names_of_fourlep_variable[]={Lepton_4.Pt()/1000., Lepton_4.Eta(), Lepton_4.E()/1000., Lepton_4.Phi(), (double)lep_charge->at(goodlep4_index), (double)lep_type->at(goodlep4_index)};\n",
    "\n",
    "                                //Start to fill histograms : definitions of histogram names\n",
    "                                TString histonames_of_global_variable[]={\"hist_mLL1\",\"hist_mLL2\",\"hist_fourlepsys_pt\",\"hist_fourlepsys_y\",\"mass_ext_four_lep\", \"mass_four_lep\", \"hist_n_jets\"};\n",
    "\n",
    "                                TString histonames_of_lep_variable[]={\"hist_fourleptpt\", \"hist_fourlepteta\", \"hist_fourleptE\", \"hist_fourleptphi\", \"hist_fourleptch\", \"hist_fourleptID\"};\n",
    "\n",
    "                                //Start to fill histograms : find the histogram array length\n",
    "                                int length_global    = sizeof(names_of_global_variable)/sizeof(names_of_global_variable[0]);\n",
    "                                int length_leadlep   = sizeof(names_of_leadlep_variable)/sizeof(names_of_leadlep_variable[0]);\n",
    "\n",
    "                                for (int i=0; i<length_global; i++)\n",
    "                                {\n",
    "                                    FillHistogramsGlobal( names_of_global_variable[i], weight, histonames_of_global_variable[i]);\n",
    "                                }\n",
    "\n",
    "                                for (int i=0; i<length_leadlep; i++)\n",
    "                                {\n",
    "                                    FillHistogramsLeadlept( names_of_leadlep_variable[i], weight, histonames_of_lep_variable[i]);\n",
    "                                    FillHistogramsLeadlept( names_of_secondlep_variable[i], weight, histonames_of_lep_variable[i]);\n",
    "                                    FillHistogramsLeadlept( names_of_thirdlep_variable[i], weight, histonames_of_lep_variable[i]);\n",
    "                                    FillHistogramsLeadlept( names_of_fourlep_variable[i], weight, histonames_of_lep_variable[i]);\n",
    "                                }\n",
    "\n",
    "                            }\n",
    "                        }\n",
    "                    }\n",
    "                }\n",
    "            }\n",
    "}\n",
    "        //}\n",
    "    //return kTRUE;\n",
    "//}"
   ]
  },
  {
   "cell_type": "code",
   "execution_count": 14,
   "metadata": {},
   "outputs": [],
   "source": [
    "void HZZAnalysis::Terminate()\n",
    "{\n",
    "    // The Terminate() function is the last function to be called during the\n",
    "    // analysis of a tree with a selector. It always runs on the client, it can\n",
    "    // be used to present the results graphically or save the results to file.\n",
    "    \n",
    "    // creating the output file\n",
    "    TString filename_option = GetOption();\n",
    "    printf(\"Writting with name option: %s \\n\", filename_option.Data());\n",
    "    TString output_name=\"Output_HZZAnalysis/\"+filename_option+\".root\";\n",
    "    const char* filename = output_name;\n",
    " \n",
    "    TFile physicsoutput(filename,\"recreate\");\n",
    "    WriteHistograms();\n",
    "    physicsoutput.Close();\n",
    "}"
   ]
  },
  {
   "cell_type": "code",
   "execution_count": null,
   "metadata": {},
   "outputs": [],
   "source": []
  }
 ],
 "metadata": {
  "kernelspec": {
   "display_name": "ROOT C++",
   "language": "c++",
   "name": "root"
  },
  "language_info": {
   "codemirror_mode": "text/x-c++src",
   "file_extension": ".C",
   "mimetype": " text/x-c++src",
   "name": "c++"
  }
 },
 "nbformat": 4,
 "nbformat_minor": 2
}
