{
 "cells": [
  {
   "cell_type": "code",
   "execution_count": 1,
   "metadata": {},
   "outputs": [],
   "source": [
    "//%%cpp -d //Al parecer ya no es necesario.\n",
    "#define HZZAnalysis_cxx"
   ]
  },
  {
   "cell_type": "code",
   "execution_count": 2,
   "metadata": {},
   "outputs": [],
   "source": [
    "#include <iostream> ////\n",
    "#include <cstring>\n",
    "#include <string>\n",
    "\n",
    "#include <TH1.h> ////\n",
    "#include <TH2.h> ////\n",
    "#include <TH3.h>\n",
    "#include <TStyle.h>\n",
    "#include <TMath.h>\n",
    "#include <TLorentzVector.h>\n",
    "\n",
    "#include <TROOT.h>\n",
    "#include <TChain.h>\n",
    "#include <TFile.h>\n",
    "#include <TSelector.h>\n",
    "#include <vector>\n",
    "\n",
    "using namespace std;"
   ]
  },
  {
   "cell_type": "markdown",
   "metadata": {},
   "source": [
    "Cabeceras en local."
   ]
  },
  {
   "cell_type": "code",
   "execution_count": 3,
   "metadata": {},
   "outputs": [],
   "source": [
    "#include \"main_HZZAnalysis.C\""
   ]
  },
  {
   "cell_type": "code",
   "execution_count": 4,
   "metadata": {},
   "outputs": [],
   "source": [
    "#include \"HZZAnalysis.h\" //Modificado"
   ]
  },
  {
   "cell_type": "code",
   "execution_count": 5,
   "metadata": {},
   "outputs": [],
   "source": [
    "#include \"HZZAnalysisHistograms.h\" //Aún sin modificar"
   ]
  },
  {
   "cell_type": "code",
   "execution_count": 6,
   "metadata": {},
   "outputs": [],
   "source": [
    "#include \"selecEvent.cpp\""
   ]
  },
  {
   "cell_type": "markdown",
   "metadata": {},
   "source": [
    "### Adaptación de run.sh"
   ]
  },
  {
   "cell_type": "markdown",
   "metadata": {},
   "source": [
    "#### Which option should I run?\n",
    "Options are:\n",
    "\n",
    "0 = run all data and MC one after another\n",
    "\n",
    "1 = run data only\n",
    "\n",
    "2,3 = run MC samples only"
   ]
  },
  {
   "cell_type": "code",
   "execution_count": 7,
   "metadata": {},
   "outputs": [
    {
     "name": "stdout",
     "output_type": "stream",
     "text": [
      "Option: 0"
     ]
    }
   ],
   "source": [
    "Int_t option=0; //option\n",
    "cout << \"Option: \" << option;"
   ]
  },
  {
   "cell_type": "markdown",
   "metadata": {},
   "source": [
    "#### Should I use PROOF? (will make things faster)\n",
    "Options are:\n",
    "\n",
    "0 = NO\n",
    "\n",
    "1 = YES"
   ]
  },
  {
   "cell_type": "code",
   "execution_count": 8,
   "metadata": {},
   "outputs": [
    {
     "name": "stdout",
     "output_type": "stream",
     "text": [
      "Option: 1"
     ]
    }
   ],
   "source": [
    "Int_t parallel=1; //option\n",
    "cout << \"Option: \" << parallel;"
   ]
  },
  {
   "cell_type": "markdown",
   "metadata": {},
   "source": [
    "Fin. Adaptación de run.sh\n",
    "### Selección de eventos"
   ]
  },
  {
   "cell_type": "code",
   "execution_count": 9,
   "metadata": {},
   "outputs": [],
   "source": [
    "TString sample[30] = {};\n",
    "\n",
    "int s_size=1,size=0;\n",
    "for (int i=0;i<s_size;i++){\n",
    "    TString aux=selecEvent(option,s_size,i,size);\n",
    "    sample[i] = aux;\n",
    "}"
   ]
  },
  {
   "cell_type": "markdown",
   "metadata": {},
   "source": [
    "Fin. Selección de eventos\n",
    "### Número de eventos a correr"
   ]
  },
  {
   "cell_type": "code",
   "execution_count": 10,
   "metadata": {},
   "outputs": [
    {
     "name": "stdout",
     "output_type": "stream",
     "text": [
      " +++ Starting PROOF-Lite with 2 workers +++\n"
     ]
    },
    {
     "name": "stderr",
     "output_type": "stream",
     "text": [
      "Opening connections to workers: OK (2 workers)                 \n",
      "Setting up worker servers: OK (2 workers)                 \n"
     ]
    },
    {
     "name": "stdout",
     "output_type": "stream",
     "text": [
      "PROOF set to parallel mode (2 workers)\n",
      "1 Data escaneada: data\n",
      "2 Data escaneada: ZqqZll\n",
      "3 Data escaneada: WqqZll\n",
      "4 Data escaneada: WpqqWmlv\n",
      "5 Data escaneada: WplvWmqq\n",
      "6 Data escaneada: WlvZqq\n",
      "7 Data escaneada: llll\n",
      "8 Data escaneada: lllv\n",
      "9 Data escaneada: llvv\n",
      "10 Data escaneada: lvvv\n",
      "11 Data escaneada: Zee\n",
      "12 Data escaneada: Zmumu\n",
      "13 Data escaneada: Ztautau\n",
      "14 Data escaneada: single_top_tchan\n",
      "15 Data escaneada: single_antitop_tchan\n",
      "16 Data escaneada: single_top_schan\n",
      "17 Data escaneada: single_antitop_schan\n",
      "18 Data escaneada: single_top_wtchan\n",
      "19 Data escaneada: single_antitop_wtchan\n",
      "20 Data escaneada: ttbar_lep\n",
      "21 Data escaneada: Wplusenu\n",
      "22 Data escaneada: Wplusmunu\n",
      "23 Data escaneada: Wplustaunu\n",
      "24 Data escaneada: Wminusenu\n",
      "25 Data escaneada: Wminusmunu\n",
      "26 Data escaneada: Wminustaunu\n",
      "27 Data escaneada: ggH125_ZZ4lep\n",
      "28 Data escaneada: ZH125_ZZ4lep\n",
      "29 Data escaneada: WH125_ZZ4lep\n",
      "30 Data escaneada: VBF125_ZZ4lep\n"
     ]
    }
   ],
   "source": [
    "int nEvents,j;\n",
    "\n",
    "//Número de eventos a correr. \n",
    "int events_to_run; //OJO,se estan considerado como variables globales.\n",
    "\n",
    "// IMPORTANT: fraction events we want to run\n",
    "float fraction_events = 1;\n",
    "\n",
    "//int nbytes; //PUEDE SER BORRADO\n",
    "for (int i=0; i<s_size;i++) {\n",
    "    //int events_to_run,nbytes;\n",
    "    TChain *fChain = new TChain(\"mini\");\n",
    "    fChain = main_HZZAnalysis(parallel,sample[i]);\n",
    "    nEvents = (Int_t)fChain->GetEntries();\n",
    "    events_to_run = nEvents*fraction_events;\n",
    "    j=i;\n",
    "    cout<< i+1 << \" Data escaneada: \" << sample[i] <<endl;\n",
    "    /*cout<< \"Total # events = \"  << nEvents\n",
    "        << \". Events to run = \" << events_to_run\n",
    "        << \" corresponding to \" << fraction_events*100\n",
    "        << \"% of total events!\" << endl;*/\n",
    "}"
   ]
  },
  {
   "cell_type": "markdown",
   "metadata": {},
   "source": [
    "Fin. Número de eventos a correr\n",
    "### .\n",
    "OJO No se está llamando nada de \"analysis.h\", por eso los errores.\n",
    "De acá en adelante sólo se está considerando el ultimo evento que sale del \"Número de eventos a correr\"."
   ]
  },
  {
   "cell_type": "code",
   "execution_count": 11,
   "metadata": {},
   "outputs": [],
   "source": [
    "void HZZAnalysis::Begin(TTree * )\n",
    "{\n",
    "    nEvents=0;\n",
    "}"
   ]
  },
  {
   "cell_type": "code",
   "execution_count": 12,
   "metadata": {},
   "outputs": [],
   "source": [
    "void HZZAnalysis::SlaveBegin(TTree * )\n",
    "{\n",
    "    define_histograms();\n",
    "    FillOutputList();\n",
    "}"
   ]
  },
  {
   "cell_type": "code",
   "execution_count": 13,
   "metadata": {},
   "outputs": [
    {
     "name": "stdout",
     "output_type": "stream",
     "text": [
      "Contador: 30. Data escaneada: VBF125_ZZ4lep. Número de entradas: 191126\n"
     ]
    }
   ],
   "source": [
    "int nbytes;\n",
    "cout<< \"Contador: \" <<j+1 << \". Data escaneada: \" << sample[j] << \". Número de entradas: \" << events_to_run <<endl;\n",
    "\n",
    "for (int i=0; i < events_to_run; i++) {\n",
    "    TChain *fChain = new TChain(\"mini\");\n",
    "    nbytes = fChain->GetEntry(i);\n",
    "    \n",
    "    //cout << nbytes << endl;\n",
    "    //Scale factors\n",
    "    Float_t scaleFactor = 2.9/*scaleFactor_ELE*scaleFactor_MUON*scaleFactor_LepTRIGGER*scaleFactor_PILEUP*/;\n",
    "\n",
    "    //MC weight\n",
    "    Float_t m_mcWeight = 5.2/*mcWeight*/;\n",
    "}\n",
    "/*\n",
    "    // read input option\n",
    "    TString option = GetOption();\n",
    "    if(option.Contains(\"single\")){m_mcWeight = (mcWeight/TMath::Abs(mcWeight));} // set to 1 or -1 for single top MCs\n",
    "\n",
    "    //Total weight\n",
    "    Float_t weight = scaleFactor*m_mcWeight;\n",
    "\n",
    "    // Make difference between data and MC\n",
    "    if(option.Contains(\"data\")) {  weight = 1.; }\n",
    "\n",
    "    //Preselection cut for electron/muon trigger\n",
    "    if(trigE || trigM) {\n",
    "        // Preselection of good leptons\n",
    "        int goodlep_index[lep_n];\n",
    "        int goodlep_n = 0;\n",
    "        int lep_index =0;\n",
    "\n",
    "        for(unsigned int i=0; i<lep_n; i++) {\n",
    "            TLorentzVector leptemp;  leptemp.SetPtEtaPhiE(lep_pt->at(i)/1000., lep_eta->at(i), lep_phi->at(i), lep_E->at(i)/1000.);\n",
    "\n",
    "            // loosely isolated and very soft \n",
    "            if( lep_pt->at(i) > 5000. && TMath::Abs(lep_eta->at(i)) < 2.5 && ( (lep_ptcone30->at(i)/lep_pt->at(i)) < 0.3) && ( (lep_etcone20->at(i) / lep_pt->at(i)) < 0.3 ) ) {\n",
    "                // electron\n",
    "                if ( lep_type->at(i) == 11 && lep_pt->at(i) > 7000. && TMath::Abs(lep_eta->at(i)) <2.47 ) {\n",
    "                    if( TMath::Abs(lep_trackd0pvunbiased->at(i))/lep_tracksigd0pvunbiased->at(i) < 5 && TMath::Abs(lep_z0->at(i)*TMath::Sin(leptemp.Theta())) < 0.5) {\n",
    "                        goodlep_n = goodlep_n + 1;\n",
    "                        goodlep_index[lep_index] = i;\n",
    "                        lep_index++;\n",
    "                    }\n",
    "                }\n",
    "                //muon\n",
    "                if ( lep_type->at(i) == 13) {\n",
    "                    if( TMath::Abs(lep_trackd0pvunbiased->at(i))/lep_tracksigd0pvunbiased->at(i) < 3 && TMath::Abs(lep_z0->at(i)*TMath::Sin(leptemp.Theta())) < 0.5) {\n",
    "                        goodlep_n = goodlep_n + 1;\n",
    "                        goodlep_index[lep_index] = i;\n",
    "                        lep_index++;\n",
    "                    }\n",
    "                }\n",
    "            }\n",
    "        }\n",
    "        \n",
    "        //Exactly four good leptons\n",
    "        if(goodlep_n == 4 ) {\n",
    "            int goodlep1_index = goodlep_index[0];\n",
    "            int goodlep2_index = goodlep_index[1];\n",
    "            int goodlep3_index = goodlep_index[2];\n",
    "            int goodlep4_index = goodlep_index[3];\n",
    "\n",
    "            //first lepton pT > 25 GeV, second > 15 GeV and third > 10 GeV\n",
    "            if (lep_pt->at(goodlep1_index) > 25000. && lep_pt->at(goodlep2_index) > 15000. && lep_pt->at(goodlep3_index) > 10000. ) {\n",
    "                // TLorentzVector definitions\n",
    "                TLorentzVector Lepton_1  = TLorentzVector();\n",
    "                TLorentzVector Lepton_2  = TLorentzVector();\n",
    "                TLorentzVector Lepton_3  = TLorentzVector();\n",
    "                TLorentzVector Lepton_4  = TLorentzVector();\n",
    "\n",
    "                Lepton_1.SetPtEtaPhiE(lep_pt->at(goodlep1_index), lep_eta->at(goodlep1_index), lep_phi->at(goodlep1_index),lep_E->at(goodlep1_index));\n",
    "                Lepton_2.SetPtEtaPhiE(lep_pt->at(goodlep2_index), lep_eta->at(goodlep2_index), lep_phi->at(goodlep2_index),lep_E->at(goodlep2_index));\n",
    "                Lepton_3.SetPtEtaPhiE(lep_pt->at(goodlep3_index), lep_eta->at(goodlep3_index), lep_phi->at(goodlep3_index),lep_E->at(goodlep3_index));\n",
    "                Lepton_4.SetPtEtaPhiE(lep_pt->at(goodlep4_index), lep_eta->at(goodlep4_index), lep_phi->at(goodlep4_index),lep_E->at(goodlep4_index));\n",
    "\n",
    "                // minimisation of difference from the Z mass\n",
    "                float delta_Z1=0; \n",
    "                float delta_Z2=0; \n",
    "                float InvMassZ1=0; \n",
    "                float InvMassZ2=0;\n",
    "                float delta_Z1_1=0; float delta_Z1_2=0; float delta_Z1_3=0;\n",
    "                float delta_Z2_1=0; float delta_Z2_2=0; float delta_Z2_3=0;\n",
    "                float InvMassZ1_1=0; float InvMassZ1_2=0; float InvMassZ1_3=0;\n",
    "                float InvMassZ2_1=0; float InvMassZ2_2=0; float InvMassZ2_3=0;\n",
    "                float sum_ZZ1=0; float sum_ZZ2=0; float sum_ZZ3=0;\n",
    "\n",
    "                // final values\n",
    "                float InvMassZ1_min=0; float InvMassZ2_min=0; float sum_ZZ_fin=0;\n",
    "\n",
    "                float sum_charges = lep_charge->at(goodlep1_index) + lep_charge->at(goodlep2_index) + lep_charge->at(goodlep3_index) + lep_charge->at(goodlep4_index);\t\t\t \n",
    "\n",
    "                // step-by-step\n",
    "                // opposite charge leptons\n",
    "                if ( sum_charges == 0  ) {\n",
    "                    int sum_types  = lep_type->at(goodlep1_index) + lep_type->at(goodlep2_index) + lep_type->at(goodlep3_index) + lep_type->at(goodlep4_index) ;\n",
    "\n",
    "                    //type e=11, mu=13\n",
    "                    // begin case e+e-e+e- or mu+mu-mu+mu-\n",
    "                    if ( sum_types == 44 || sum_types == 52  ) {\n",
    "                        if ( lep_type->at(goodlep1_index) == lep_type->at(goodlep2_index) && ( (lep_charge->at(goodlep1_index) * lep_charge->at(goodlep2_index)) < 0 )  ) {\n",
    "                            InvMassZ1_1=(Lepton_1+Lepton_2).Mag()/1000.;\n",
    "                            InvMassZ2_1=(Lepton_3+Lepton_4).Mag()/1000.;\n",
    "                            delta_Z1_1 =  TMath::Abs(InvMassZ1_1 - 91.18); \n",
    "                            delta_Z2_1 =  TMath::Abs(InvMassZ2_1 - 91.18);\n",
    "                        }\n",
    "                        if ( lep_type->at(goodlep1_index) == lep_type->at(goodlep3_index)  && ( (lep_charge->at(goodlep1_index) * lep_charge->at(goodlep3_index)) < 0 ) ) {\n",
    "                            InvMassZ1_2=(Lepton_1+Lepton_3).Mag()/1000.;\n",
    "                            InvMassZ2_2=(Lepton_2+Lepton_4).Mag()/1000.;\n",
    "                            delta_Z1_2 =  TMath::Abs(InvMassZ1_2 - 91.18); \n",
    "                            delta_Z2_2 =  TMath::Abs(InvMassZ2_2 - 91.18);\n",
    "                        }\n",
    "                        if ( lep_type->at(goodlep1_index) == lep_type->at(goodlep4_index)  && ( (lep_charge->at(goodlep1_index) * lep_charge->at(goodlep4_index)) < 0 ) ) {\n",
    "                            InvMassZ1_3=(Lepton_1+Lepton_4).Mag()/1000.;\n",
    "                            InvMassZ2_3=(Lepton_2+Lepton_3).Mag()/1000.;\n",
    "                            delta_Z1_3 =  TMath::Abs(InvMassZ1_3 - 91.18); \n",
    "                            delta_Z2_3 =  TMath::Abs(InvMassZ2_3 - 91.18);\n",
    "                        }\n",
    "\n",
    "                        if(delta_Z1_1 < delta_Z2_1) { InvMassZ1_min = InvMassZ1_1; InvMassZ2_min = InvMassZ2_1;}\n",
    "                        if(delta_Z2_1 < delta_Z1_1) { InvMassZ1_min = InvMassZ2_1; InvMassZ2_min = InvMassZ1_1;}\n",
    "\n",
    "                        if(delta_Z1_2 < delta_Z2_2) { InvMassZ1_min = InvMassZ1_2; InvMassZ2_min = InvMassZ2_2;}\n",
    "                        if(delta_Z2_2 < delta_Z1_2) { InvMassZ1_min = InvMassZ2_2; InvMassZ2_min = InvMassZ1_2;}\n",
    "\n",
    "                        if(delta_Z1_3 < delta_Z2_3) { InvMassZ1_min = InvMassZ1_3; InvMassZ2_min = InvMassZ2_3;}\n",
    "                        if(delta_Z2_3 < delta_Z1_3) { InvMassZ1_min = InvMassZ2_3; InvMassZ2_min = InvMassZ1_3;}\n",
    "\n",
    "                    } // cases of eeee or mumumumu\n",
    "\n",
    "                    ////////////////////////////////////\n",
    "                    // case eemumu \n",
    "                    if ( sum_types == 48 ) {\n",
    "                        if ( lep_type->at(goodlep1_index) == lep_type->at(goodlep2_index)  && ( (lep_charge->at(goodlep1_index) * lep_charge->at(goodlep2_index)) < 0 ) ) {\n",
    "                            InvMassZ1=(Lepton_1+Lepton_2).Mag()/1000.;\n",
    "                            InvMassZ2=(Lepton_3+Lepton_4).Mag()/1000.;\n",
    "                            delta_Z1 =  TMath::Abs(InvMassZ1 - 91.18); \n",
    "                            delta_Z2 =  TMath::Abs(InvMassZ2 - 91.18);\n",
    "                        }\n",
    "                        if ( lep_type->at(goodlep1_index) == lep_type->at(goodlep3_index)  && ( (lep_charge->at(goodlep1_index) * lep_charge->at(goodlep3_index)) < 0 ) ) {\n",
    "                            InvMassZ1=(Lepton_1+Lepton_3).Mag()/1000.;\n",
    "                            InvMassZ2=(Lepton_2+Lepton_4).Mag()/1000.;\n",
    "                            delta_Z1 =  TMath::Abs(InvMassZ1 - 91.18); \n",
    "                            delta_Z2 =  TMath::Abs(InvMassZ2 - 91.18);\n",
    "                        }\n",
    "                        if ( lep_type->at(goodlep1_index) == lep_type->at(goodlep4_index)  && ( (lep_charge->at(goodlep1_index) * lep_charge->at(goodlep4_index)) < 0 ) ) {\n",
    "                            InvMassZ1=(Lepton_1+Lepton_4).Mag()/1000.;\n",
    "                            InvMassZ2=(Lepton_2+Lepton_3).Mag()/1000.;\n",
    "                            delta_Z1 =  TMath::Abs(InvMassZ1 - 91.18); \n",
    "                            delta_Z2 =  TMath::Abs(InvMassZ2 - 91.18);\n",
    "                        }\n",
    "\n",
    "                        if(delta_Z1 < delta_Z2) { InvMassZ1_min = InvMassZ1; InvMassZ2_min = InvMassZ2;}\n",
    "                        if(delta_Z2 < delta_Z1) { InvMassZ1_min = InvMassZ2; InvMassZ2_min = InvMassZ1;}\n",
    "                    } // eemumu overe\n",
    "\n",
    "                    if ( (sum_types == 44 || sum_types == 52 || sum_types == 48) ) {\n",
    "\n",
    "                        TLorentzVector FourLepSystem = TLorentzVector();\n",
    "                        FourLepSystem = Lepton_1 + Lepton_2 + Lepton_3 + Lepton_4;\n",
    "                        float FourLepSystem_M = FourLepSystem.Mag()/1000.;\n",
    "                        float FourLepSystem_pt = FourLepSystem.Pt()/1000.;\n",
    "                        float FourLepSystem_y = FourLepSystem.Rapidity();\n",
    "\n",
    "\n",
    "                        //Preselection of good jets\n",
    "                        int goodjet_n = 0;\n",
    "                        int goodjet_index = 0;\n",
    "\n",
    "                        if (jet_n > 0) {\n",
    "                            for(unsigned int i=0; i<jet_n; i++) {\n",
    "                                if(jet_pt->at(i) > 30000. && TMath::Abs(jet_eta->at(i)) < 4.4) {\n",
    "                                    goodjet_n++;\n",
    "                                    goodjet_index = i;\n",
    "                                }\n",
    "                            }\n",
    "                        }\n",
    "\n",
    "\n",
    "                        //Start to fill histograms : definitions of x-axis variables\n",
    "                        double names_of_global_variable[]={InvMassZ1_min, InvMassZ2_min, FourLepSystem_pt, FourLepSystem_y, FourLepSystem_M, FourLepSystem_M,  (double)goodjet_n };\n",
    "\n",
    "                        double names_of_leadlep_variable[]={Lepton_1.Pt()/1000., Lepton_1.Eta(), Lepton_1.E()/1000., Lepton_1.Phi(), (double)lep_charge->at(goodlep1_index), (double)lep_type->at(goodlep1_index)};\n",
    "\n",
    "                        double names_of_secondlep_variable[]={Lepton_2.Pt()/1000., Lepton_2.Eta(), Lepton_2.E()/1000., Lepton_2.Phi(), (double)lep_charge->at(goodlep2_index), (double)lep_type->at(goodlep2_index)};\n",
    "\n",
    "                        double names_of_thirdlep_variable[]={Lepton_3.Pt()/1000., Lepton_3.Eta(), Lepton_3.E()/1000., Lepton_3.Phi(), (double)lep_charge->at(goodlep3_index), (double)lep_type->at(goodlep3_index)};\n",
    "\n",
    "                        double names_of_fourlep_variable[]={Lepton_4.Pt()/1000., Lepton_4.Eta(), Lepton_4.E()/1000., Lepton_4.Phi(), (double)lep_charge->at(goodlep4_index), (double)lep_type->at(goodlep4_index)};\n",
    "\n",
    "                        //Start to fill histograms : definitions of histogram names\n",
    "                        TString histonames_of_global_variable[]={\"hist_mLL1\",\"hist_mLL2\",\"hist_fourlepsys_pt\",\"hist_fourlepsys_y\",\"mass_ext_four_lep\", \"mass_four_lep\", \"hist_n_jets\"};\n",
    "\n",
    "                        TString histonames_of_lep_variable[]={\"hist_fourleptpt\", \"hist_fourlepteta\", \"hist_fourleptE\", \"hist_fourleptphi\", \"hist_fourleptch\", \"hist_fourleptID\"};\n",
    "\n",
    "                        //Start to fill histograms : find the histogram array length\n",
    "                        int length_global    = sizeof(names_of_global_variable)/sizeof(names_of_global_variable[0]);\n",
    "                        int length_leadlep   = sizeof(names_of_leadlep_variable)/sizeof(names_of_leadlep_variable[0]);\n",
    "\n",
    "                        for (int i=0; i<length_global; i++) {\n",
    "                            FillHistogramsGlobal( names_of_global_variable[i], weight, histonames_of_global_variable[i]);\n",
    "                        }\n",
    "\n",
    "                        for (int i=0; i<length_leadlep; i++) {\n",
    "                            FillHistogramsLeadlept( names_of_leadlep_variable[i], weight, histonames_of_lep_variable[i]);\n",
    "                            FillHistogramsLeadlept( names_of_secondlep_variable[i], weight, histonames_of_lep_variable[i]);\n",
    "                            FillHistogramsLeadlept( names_of_thirdlep_variable[i], weight, histonames_of_lep_variable[i]);\n",
    "                            FillHistogramsLeadlept( names_of_fourlep_variable[i], weight, histonames_of_lep_variable[i]);\n",
    "                        }\n",
    "                    }\n",
    "                }\n",
    "            }\n",
    "        }\n",
    "    }\n",
    "}\n",
    "\n",
    "\n",
    "*/"
   ]
  },
  {
   "cell_type": "code",
   "execution_count": 14,
   "metadata": {},
   "outputs": [],
   "source": [
    "void HZZAnalysis::Terminate()\n",
    "{\n",
    "    // The Terminate() function is the last function to be called during the\n",
    "    // analysis of a tree with a selector. It always runs on the client, it can\n",
    "    // be used to present the results graphically or save the results to file.\n",
    "    \n",
    "    // creating the output file\n",
    "    TString filename_option = GetOption();\n",
    "    printf(\"Writting with name option: %s \\n\", filename_option.Data());\n",
    "    TString output_name=\"Output_HZZAnalysis/\"+filename_option+\".root\";\n",
    "    const char* filename = output_name;\n",
    " \n",
    "    TFile physicsoutput(filename,\"recreate\");\n",
    "    WriteHistograms();\n",
    "    physicsoutput.Close();\n",
    "}"
   ]
  },
  {
   "cell_type": "code",
   "execution_count": null,
   "metadata": {},
   "outputs": [],
   "source": []
  }
 ],
 "metadata": {
  "kernelspec": {
   "display_name": "ROOT C++",
   "language": "c++",
   "name": "root"
  },
  "language_info": {
   "codemirror_mode": "text/x-c++src",
   "file_extension": ".C",
   "mimetype": " text/x-c++src",
   "name": "c++"
  }
 },
 "nbformat": 4,
 "nbformat_minor": 2
}
