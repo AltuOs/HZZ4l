{
 "cells": [
  {
   "cell_type": "code",
   "execution_count": 1,
   "metadata": {},
   "outputs": [],
   "source": [
    "%jsroot off"
   ]
  },
  {
   "cell_type": "code",
   "execution_count": 2,
   "metadata": {},
   "outputs": [],
   "source": [
    "#include<TFile.h>\n",
    "#include<TH1.h>\n",
    "#include<TMath.h>\n",
    "#include<math.h>\n",
    "#include<TF1.h>\n",
    "#include<TLine.h>\n",
    "#include<TPoint.h>\n",
    "#include<iostream>\n",
    "#include<string>\n",
    "#include<stdio.h>"
   ]
  },
  {
   "cell_type": "code",
   "execution_count": 3,
   "metadata": {},
   "outputs": [],
   "source": [
    "// gROOT->SetStyle(\"ATLAS\"); // Establecer estilo.\n",
    "gStyle->SetOptStat(1002210);\n",
    "gStyle->SetOptFit(1112);"
   ]
  },
  {
   "cell_type": "code",
   "execution_count": 4,
   "metadata": {},
   "outputs": [],
   "source": [
    "TCanvas *c1 = new TCanvas(\"c1\",\"The FillRandom example\",10,10,900,600);\n",
    "c1->SetGrid();"
   ]
  },
  {
   "cell_type": "code",
   "execution_count": 5,
   "metadata": {},
   "outputs": [],
   "source": [
    "const Int_t fit = 4; // Opciones 1, 2, 3, 4, 5, 6, 7, 8 = Distribuciones\n",
    "const Int_t n = 7; // OJO Modificar de 4 a 7."
   ]
  },
  {
   "cell_type": "code",
   "execution_count": 6,
   "metadata": {},
   "outputs": [],
   "source": [
    "const Double_t max_data = 135;\n",
    "const Double_t min_data = 110;\n",
    "\n",
    "TH1D *h_data = new TH1D(\"h_data\",\"h_data\",n,min_data,max_data); // Histograma de datos.\n",
    "\n",
    "// Para 4:\n",
    "if (n == 4) {\n",
    "    h_data->SetBinContent(1, 1);\n",
    "    h_data->SetBinContent(2, 6);\n",
    "    h_data->SetBinContent(3, 7);\n",
    "    h_data->SetBinContent(4, 1);\n",
    "    //h_data->SetBinError(1, 0.38974303); // Configurar.\n",
    "    //h_data->SetBinError(2, 0.536510944); // Configurar.\n",
    "    //h_data->SetBinError(3, 0.529702604); // Configurar.\n",
    "    //h_data->SetBinError(4, 0.642001867); // Configurar.\n",
    "}\n",
    "\n",
    "// Para 5:\n",
    "if (n == 5) {\n",
    "    h_data->SetBinContent(1, 1);\n",
    "    h_data->SetBinContent(2, 0);\n",
    "    h_data->SetBinContent(3, 10);\n",
    "    h_data->SetBinContent(4, 3);\n",
    "    h_data->SetBinContent(5, 2);\n",
    "}\n",
    "\n",
    "// Para 6:\n",
    "if (n == 6) {  \n",
    "    h_data->SetBinContent(1, 1);\n",
    "    h_data->SetBinContent(2, 0);\n",
    "    h_data->SetBinContent(3, 8);\n",
    "    h_data->SetBinContent(4, 5);\n",
    "    h_data->SetBinContent(5, 2);\n",
    "    h_data->SetBinContent(6, 2);\n",
    "}\n",
    "\n",
    "// Para 7:\n",
    "if (n == 7) {  \n",
    "    h_data->SetBinContent(1, 1);\n",
    "    h_data->SetBinContent(2, 0);\n",
    "    h_data->SetBinContent(3, 1);\n",
    "    h_data->SetBinContent(4, 6);\n",
    "    h_data->SetBinContent(5, 4);\n",
    "    h_data->SetBinContent(6, 0);\n",
    "    h_data->SetBinContent(7, 2);\n",
    "}"
   ]
  },
  {
   "cell_type": "code",
   "execution_count": 7,
   "metadata": {},
   "outputs": [],
   "source": [
    "Double_t myBWDist(Double_t* x, Double_t* par)\n",
    "{   // Double_t x, Double_t mean, Double_t gamma\n",
    "    return par[0]*TMath::BreitWigner(x[0], par[1], par[2]);\n",
    "}"
   ]
  },
  {
   "cell_type": "code",
   "execution_count": 8,
   "metadata": {},
   "outputs": [],
   "source": [
    "Double_t myChisquareDist(Double_t* x, Double_t* par) {\n",
    "       if ((x[0]-par[2]) <  0) {\n",
    "          return 0.0;\n",
    "       }\n",
    "       Double_t a = par[1]/2 -1.;\n",
    "       // let return inf for case x  = x0 and treat special case of r = 2 otherwise will return nan\n",
    "       if (x[0] == par[2] && a == 0) return 0.5;\n",
    " \n",
    "       return par[0]*(std::exp ((par[1]/2 - 1) * std::log((x[0]-par[2])/2) - (x[0]-par[2])/2 - ROOT::Math::lgamma(par[1]/2))/2);\n",
    "}"
   ]
  },
  {
   "cell_type": "code",
   "execution_count": 9,
   "metadata": {},
   "outputs": [],
   "source": [
    "/*Double_t myGammaDist(Double_t* x, Double_t* par) {\n",
    "    if ((x[0]-par[2]) < 0) {\n",
    "        return 0.0;\n",
    "    } else if ((x[0]-par[2]) == 0) {\n",
    "        if (par[0] == 1) {\n",
    "            return par[3]*(1.0/par[1]);\n",
    "        } else {\n",
    "            return 0.0;\n",
    "        }\n",
    "    } else if (par[0] == 1) {\n",
    "        return  par[3]*(std::exp(-(x[0]-par[2])/par[1])/par[1]);\n",
    "    } else {\n",
    "        return par[3]*(std::exp((par[0] - 1) * std::log((x[0]-par[2])/par[1]) - (x[0]-par[2])/par[1] - ROOT::Math::lgamma(par[0]))/par[1]);\n",
    "    }\n",
    "}*/"
   ]
  },
  {
   "cell_type": "code",
   "execution_count": 10,
   "metadata": {},
   "outputs": [],
   "source": [
    "/*Double_t myGammaDist(Double_t* x, Double_t* par)\n",
    "{ //double x, double alpha, double theta, double x0 = 0\n",
    "    return par[0]*TMath::GammaDist(x[0],TMath::Gamma(par[1]),par[2],par[3]);\n",
    "}*/"
   ]
  },
  {
   "cell_type": "code",
   "execution_count": 11,
   "metadata": {},
   "outputs": [],
   "source": [
    "Double_t myCauchyDist(Double_t* x, Double_t* par)\n",
    "{   // Double_t x, Double_t t, Double_t s\n",
    "    // t is the location parameter\n",
    "    // s is the scale parameter\n",
    "    return par[0]*TMath::CauchyDist(x[0],par[1],par[2]);\n",
    "}"
   ]
  },
  {
   "cell_type": "code",
   "execution_count": 12,
   "metadata": {},
   "outputs": [],
   "source": [
    "Double_t myLogNormalDist(Double_t* x, Double_t* par) {\n",
    "     if ((x[0]<par[1]) || (par[0]<=0) || (par[2]<=0)) {\n",
    "        Error(\"TMath::Lognormal\", \"illegal parameter values\");\n",
    "        return 0;\n",
    "     }\n",
    "     // lognormal_pdf uses same definition of http://en.wikipedia.org/wiki/Log-normal_distribution\n",
    "     // where mu = log(m)\n",
    "  \n",
    "    return par[3]*(ROOT::Math::lognormal_pdf(x[0],par[0],par[1],par[2]));\n",
    "  \n",
    "}"
   ]
  },
  {
   "cell_type": "code",
   "execution_count": 13,
   "metadata": {},
   "outputs": [],
   "source": [
    "h_data->Draw(\"E1\"); // E1: Para representar los puntos con barras de error.\n",
    "\n",
    "if (fit == 1) {\n",
    "    TF1 *pdf = new TF1(\"pdf\",\"[0]*(2*sqrt(2)*[2]*[1]*(sqrt(pow([2],2)*(pow([2],2)+pow([1],2))))/(TMath::Pi()*sqrt(pow([2],2)+(sqrt(pow([2],2)*(pow([2],2)+pow([1],2)))))))/((pow((pow(x,2)-pow([2],2)),2))+(pow([2],2)*pow([1],2)))\",min_data,max_data); //Función de Densidad de Probabilidad.\n",
    "    pdf->SetParameters(1,h_data->GetStdDev(),h_data->GetMean());\n",
    "    //pdf->FixParameter(2,h_data->GetMean());\n",
    "    pdf->SetParNames (\"Constant\",\"Gamma\",\"Mean\");\n",
    "}\n",
    "if (fit == 2) TF1 *pdf = new TF1(\"pdf\",\"gaus\",min_data,max_data);\n",
    "if (fit == 3) TF1 *pdf = new TF1(\"pdf\",\"landau\",min_data,max_data);\n",
    "if (fit == 4) {\n",
    "    TF1 *pdf = new TF1(\"pdf\",\"myBWDist\",min_data,max_data,3);\n",
    "    pdf->SetParameters(1,1,1);\n",
    "    //pdf->SetParameters(1,h_data->GetStdDev(),h_data->GetMean());\n",
    "    //pdf->FixParameter(1,h_data->GetMean());\n",
    "    //pdf->FixParameter(2,h_data->GetStdDev());\n",
    "    //pdf->SetParLimits(1,122.0,125.0);\n",
    "    //pdf->SetParLimits(2,1,2);\n",
    "    pdf->SetParNames (\"Constant\",\"Mean\",\"Gamma\");\n",
    "}\n",
    "if (fit == 5) { // OJO no funciona bien.\n",
    "    TF1 *pdf = new TF1(\"pdf\",\"myGammaDist\",min_data,max_data,4);\n",
    "    pdf->SetParameters(1,1,1,5);\n",
    "    //pdf->SetParNames (\"Constant\",\"Mean\",\"Gamma\");\n",
    "}\n",
    "if (fit == 6) {\n",
    "    TF1 *pdf = new TF1(\"pdf\",\"myCauchyDist\",min_data,max_data,3);\n",
    "    pdf->SetParameters(1,1,1);\n",
    "    //pdf->SetParNames (\"Constant\",\"Mean\",\"Gamma\");\n",
    "}\n",
    "if (fit == 7) { // OJO no funciona bien.\n",
    "    TF1 *pdf = new TF1(\"pdf\",\"myChisquareDist\",min_data,max_data,3);\n",
    "    pdf->SetParameters(1,1,1);\n",
    "    //pdf->SetParNames (\"Constant\",\"Mean\",\"Gamma\");\n",
    "}\n",
    "if (fit == 8) { // OJO funciona extraño.\n",
    "    TF1 *pdf = new TF1(\"pdf\",\"myLogNormalDist\",min_data,max_data,4);\n",
    "    pdf->SetParameters(1,1,1,1);\n",
    "}"
   ]
  },
  {
   "cell_type": "code",
   "execution_count": 14,
   "metadata": {},
   "outputs": [
    {
     "name": "stdout",
     "output_type": "stream",
     "text": [
      " FCN=3.64248 FROM MIGRAD    STATUS=CONVERGED     258 CALLS         259 TOTAL\n",
      "                     EDM=5.82989e-08    STRATEGY= 1      ERROR MATRIX ACCURATE \n",
      "  EXT PARAMETER                                   STEP         FIRST   \n",
      "  NO.   NAME      VALUE            ERROR          SIZE      DERIVATIVE \n",
      "   1  Constant     5.86462e+01   1.59217e+01   2.20362e-02   1.08215e-05\n",
      "   2  Mean         1.23834e+02   8.41927e-01   1.16123e-03  -1.35839e-04\n",
      "   3  Gamma        5.34662e+00   2.91261e+00   3.98121e-03   3.30510e-05\n",
      "                               ERR DEF= 0.5\n"
     ]
    }
   ],
   "source": [
    "h_data->Fit(\"pdf\",\"SL\");\n",
    "pdf->SetTitle(\"Fit\");"
   ]
  },
  {
   "cell_type": "code",
   "execution_count": 15,
   "metadata": {},
   "outputs": [],
   "source": [
    "TGraphErrors *gr = new TGraphErrors(h_data);\n",
    "int nPoints = h_data->GetNbinsX();\n",
    "  for (int i=0; i<nPoints; i++){\n",
    "    gr->SetPoint(i, h_data->GetBinCenter(i+h_data->FindBin(110)), 0); \n",
    "}\n",
    "(TVirtualFitter::GetFitter())->GetConfidenceIntervals(gr,0.68);\n",
    "gr->SetFillColor(3);\n",
    "//h_data->Draw() ; \n",
    "//gr->Draw(\"E3\") ; \n",
    "//pdf->Draw(\"same\") ;\n",
    "\n",
    "h_data->Draw(\"e\") ; \n",
    "gr->Draw(\"E3\") ; \n",
    "h_data->Draw(\"same e\") ; \n",
    "pdf->Draw(\"same\") ;"
   ]
  },
  {
   "cell_type": "code",
   "execution_count": 16,
   "metadata": {},
   "outputs": [
    {
     "name": "stdout",
     "output_type": "stream",
     "text": [
      "Coordenada del punto máximo en el ajuste: (123.834,6.98298).\n",
      "Intersecciones en m4l a média altura: 121.161 GeV y 126.507 GeV.\n",
      "Ancho de decaimiento, Γ = 5.34662 GeV.\n",
      "Tiempo de vida media, τ = 1.87034e-10 s.\n"
     ]
    }
   ],
   "source": [
    "mode_x = pdf->GetMaximumX(min_data,max_data); // Coordenada x del máximo en el ajuste dentro del intervalo [min_data,max_data].\n",
    "mode_y = pdf->Eval(mode_x); // Coordenada y del máximo.\n",
    "\n",
    "upper_halfwidth = pdf->GetX(mode_y/2.0,mode_x,max_data);\n",
    "lower_halfwidth = pdf->GetX(mode_y/2.0,min_data,mode_x);\n",
    "\n",
    "width = upper_halfwidth-lower_halfwidth;\n",
    "\n",
    "cout    << \"Coordenada del punto máximo en el ajuste: (\" << mode_x << \",\" << mode_y << \").\" << endl\n",
    "        << \"Intersecciones en m4l a média altura: \" << lower_halfwidth << \" GeV\" << \" y \" << upper_halfwidth << \" GeV.\" << endl\n",
    "        << \"Ancho de decaimiento, \\u0393 = \" << width << \" GeV.\" << endl\n",
    "        << \"Tiempo de vida media, \\u03C4 = \" << 1/(width*1E9) << \" s.\" << endl;\n",
    "        //<< \"Tiempo de vida media, \\u03C4 = \" << 4.135667696E-15/(2*TMath::Pi()*width*1E9) << \" s.\" << endl; // Consultar.\n",
    "\n",
    "\n",
    "TLine *l1 = new TLine(lower_halfwidth,mode_y/2.0,upper_halfwidth,mode_y/2.0);\n",
    "l1->SetLineColor(kBlue);\n",
    "l1->SetLineStyle(7);\n",
    "l1->Draw(\"same\");\n",
    "\n",
    "TLine *l2 = new TLine(mode_x,mode_y,mode_x,0);\n",
    "l2->SetLineColor(kBlue);\n",
    "l2->SetLineStyle(7);\n",
    "l2->Draw(\"same\");"
   ]
  },
  {
   "cell_type": "code",
   "execution_count": 17,
   "metadata": {
    "scrolled": false
   },
   "outputs": [
    {
     "data": {
      "image/png": "[encoded data removed]",
      "text/plain": [
       "<IPython.core.display.Image object>"
      ]
     },
     "metadata": {},
     "output_type": "display_data"
    }
   ],
   "source": [
    "//Histograma que representa la PDF. Toma los cortes en x de los centros de los bines y los evalua en la PDF para obtener la altura de los bines.\n",
    "TH1F *h_data_f = new TH1F(\"h_data_f\",\"Test random numbers\",n,min_data,max_data);\n",
    "for (int i=1; i<n+1; i++) h_data_f->SetBinContent(i,pdf->Eval(h_data->GetXaxis()->GetBinCenter(i)));\n",
    "//h_data_f->Draw(\"SAME E1\");\n",
    "c1->Draw();"
   ]
  },
  {
   "cell_type": "code",
   "execution_count": null,
   "metadata": {},
   "outputs": [],
   "source": []
  },
  {
   "cell_type": "code",
   "execution_count": null,
   "metadata": {},
   "outputs": [],
   "source": []
  },
  {
   "cell_type": "code",
   "execution_count": null,
   "metadata": {},
   "outputs": [],
   "source": []
  },
  {
   "cell_type": "code",
   "execution_count": 18,
   "metadata": {},
   "outputs": [],
   "source": [
    "// TFile myfile(\"fillrandom.root\",\"RECREATE\");\n",
    "// pdf->Write();\n",
    "// h_data_f->Write();"
   ]
  },
  {
   "cell_type": "code",
   "execution_count": 19,
   "metadata": {},
   "outputs": [
    {
     "name": "stdout",
     "output_type": "stream",
     "text": [
      "Chi2 = 2.577190, Prob = 0.764828, NDF = 5, igood = 3\n"
     ]
    },
    {
     "name": "stderr",
     "output_type": "stream",
     "text": [
      "Info in <TH1D::Chi2TestX>: There is a bin in h1 with less than 1 event.\n",
      "\n",
      "Info in <TH1D::Chi2TestX>: There is a bin in h2 with less than 1 event.\n",
      "\n"
     ]
    }
   ],
   "source": [
    "//apply the chi2 test and retrieve the residuals\n",
    "Double_t res[n], x[n];\n",
    "h_data->Chi2Test(h_data_f,\"UU P\",res);"
   ]
  },
  {
   "cell_type": "code",
   "execution_count": 20,
   "metadata": {},
   "outputs": [
    {
     "data": {
      "image/png": "[encoded data removed]",
      "text/plain": [
       "<IPython.core.display.Image object>"
      ]
     },
     "metadata": {},
     "output_type": "display_data"
    }
   ],
   "source": [
    "//Graph for Residuals\n",
    "for (Int_t i=0; i<n; i++) x[i]= 4.+i*12./20.+12./40.;\n",
    "TGraph *resgr = new TGraph(n,x,res);\n",
    "resgr->GetXaxis()->SetRangeUser(4,16);\n",
    "resgr->GetYaxis()->SetRangeUser(-3.5,3.5);\n",
    "resgr->GetYaxis()->SetTitle(\"Normalized Residuals\");\n",
    "resgr->SetMarkerStyle(21);\n",
    "resgr->SetMarkerColor(2);\n",
    "resgr->SetMarkerSize(.9);\n",
    "resgr->SetTitle(\"Normalized Residuals\");\n",
    " \n",
    "//Quantile-Quantile plot\n",
    "TF1 *f = new TF1(\"f\",\"TMath::Gaus(x,0,1)\",-10,10);\n",
    "TGraphQQ *qqplot = new TGraphQQ(n,res,f);\n",
    "qqplot->SetMarkerStyle(20);\n",
    "qqplot->SetMarkerColor(2);\n",
    "qqplot->SetMarkerSize(.9);\n",
    "qqplot->SetTitle(\"Q-Q plot of Normalized Residuals\");\n",
    " \n",
    "//create Canvas\n",
    "TCanvas *c2 = new TCanvas(\"c2\",\"Chistat Plot\",10,10,700,600);\n",
    "c2->Divide(2,2);\n",
    " \n",
    "// Draw Histogramms and Graphs\n",
    "c2->cd(1);\n",
    "h_data->SetMarkerColor(4);\n",
    "h_data->SetMarkerStyle(20);\n",
    " \n",
    "h_data->Draw(\"E\");\n",
    " \n",
    "c2->cd(2);\n",
    "h_data_f->Draw(\"E\");\n",
    "h_data_f->SetMarkerColor(4);\n",
    "h_data_f->SetMarkerStyle(20);\n",
    " \n",
    "c2->cd(3);\n",
    "gPad->SetGridy();\n",
    "resgr->Draw(\"APL\");\n",
    " \n",
    "c2->cd(4);\n",
    "qqplot->Draw(\"AP\");\n",
    " \n",
    "c2->cd(0);\n",
    "\n",
    "c2->Draw();\n",
    "c2->Update();"
   ]
  },
  {
   "cell_type": "markdown",
   "metadata": {},
   "source": [
    "Esqueleto del código:\n",
    "https://root.cern/doc/v610/fillrandom_8C.html\n",
    "\n",
    "Ejemplo aplicación Chi2:\n",
    "https://root.cern/doc/v610/chi2test_8C_source.html\n",
    "http://www.hep.by/root/TH1.html#TH1:Chi2Test\n",
    "http://citeseerx.ist.psu.edu/viewdoc/download?doi=10.1.1.173.6388&rep=rep1&type=pdf\n",
    "https://arxiv.org/pdf/physics/0605123.pdf\n",
    "\n",
    "Funciones pruebas de bondad:\n",
    "KolmogorovTest\n",
    "Chi2Test\n",
    "\n",
    "Información sobre histogramas y ajustes con ROOT:\n",
    "http://hadron.physics.fsu.edu/~skpark/document/ROOT/RootLecture/RootLecture290305.pdf"
   ]
  },
  {
   "cell_type": "code",
   "execution_count": null,
   "metadata": {},
   "outputs": [],
   "source": []
  }
 ],
 "metadata": {
  "kernelspec": {
   "display_name": "ROOT C++",
   "language": "c++",
   "name": "root"
  },
  "language_info": {
   "codemirror_mode": "text/x-c++src",
   "file_extension": ".C",
   "mimetype": " text/x-c++src",
   "name": "c++"
  }
 },
 "nbformat": 4,
 "nbformat_minor": 5
}
