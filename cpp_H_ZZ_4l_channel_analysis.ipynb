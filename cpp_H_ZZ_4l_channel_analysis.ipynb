{
 "cells": [
  {
   "cell_type": "code",
   "execution_count": 1,
   "metadata": {},
   "outputs": [],
   "source": [
    "%jsroot on"
   ]
  },
  {
   "cell_type": "markdown",
   "metadata": {},
   "source": [
    "Librerias. Los comentarios distintos al código se asocian a la ubicación donde son usados."
   ]
  },
  {
   "cell_type": "code",
   "execution_count": 2,
   "metadata": {},
   "outputs": [],
   "source": [
    "#include <TROOT.h> //main_HZZAnalisis.c //HZZAnalysisHistograms.h\n",
    "#include <TChain.h> //01-cpp_Hyy //main_HZZAnalisis.c\n",
    "#include <TFile.h> //01-cpp_Hyy //main_HZZAnalisis.c\n",
    "\n",
    "//#include <TProof.h> //main_HZZAnalisis.c\n",
    "\n",
    "#include <vector> //01-cpp_Hyy\n",
    "#include <iostream> //01-cpp_Hyy //HZZAnalysisHistograms.h //HZZAnalysis.C\n",
    "#include <string> //01-cpp_Hyy //HZZAnalysis.C\n",
    "#include <stdio.h> //01-cpp_Hyy\n",
    "\n",
    "#include <cstring> //HZZAnalysis.C\n",
    "\n",
    "//#include <time.h>\n",
    "\n",
    "//#include \"TSelector.h\"\n",
    "#include \"TH1.h\" //HZZAnalysisHistograms.h //HZZAnalysis.C(aunque con <> OJO)\n",
    "#include \"TH2.h\" //HZZAnalysisHistograms.h //HZZAnalysis.C(aunque con <> OJO)\n",
    "#include \"TH3.h\" //HZZAnalysisHistograms.h\n",
    "#include <TStyle.h> //HZZAnalysis.C\n",
    "#include <TMath.h> //HZZAnalysis.C\n",
    "#include <TLorentzVector.h> //HZZAnalysis.C"
   ]
  },
  {
   "cell_type": "markdown",
   "metadata": {},
   "source": [
    "Función. Ubica datos. Agrega datos .root a \"chain_data\". Extraido de \"main_HZZAnalysis.C\""
   ]
  },
  {
   "cell_type": "code",
   "execution_count": 3,
   "metadata": {},
   "outputs": [],
   "source": [
    "//void main_HZZAnalysis(int proof=0, int option=0)\n",
    "//{\n",
    "//    if (option==1 || option==0){ //SÓLO DATA\n",
    "        TString path = \"home/student/Proyecto_de_grado/DATA/4lep/\";\n",
    "        TChain* fChain = new TChain(\"mini\");\n",
    "        fChain->AddFile(path+\"Data/data_A.4lep.root\");\n",
    "        fChain->AddFile(path+\"Data/data_B.4lep.root\");\n",
    "        fChain->AddFile(path+\"Data/data_C.4lep.root\");\n",
    "        fChain->AddFile(path+\"Data/data_D.4lep.root\");\n",
    "//    }\n",
    "//}"
   ]
  },
  {
   "cell_type": "code",
   "execution_count": 4,
   "metadata": {},
   "outputs": [],
   "source": [
    "// Declaration of leaf types   \n",
    "   Int_t           runNumber;\n",
    "   Int_t           eventNumber;\n",
    "   Int_t           channelNumber;\n",
    "   Float_t         mcWeight;\n",
    "   Float_t         scaleFactor_PILEUP;\n",
    "   Float_t         scaleFactor_ELE;\n",
    "   Float_t         scaleFactor_MUON;\n",
    "   Float_t         scaleFactor_PHOTON;\n",
    "   Float_t         scaleFactor_TAU;\n",
    "   Float_t         scaleFactor_BTAG;\n",
    "   Float_t         scaleFactor_LepTRIGGER;\n",
    "   Float_t         scaleFactor_PhotonTRIGGER;\n",
    "   Float_t         scaleFactor_TauTRIGGER;\n",
    "   Float_t         scaleFactor_DiTauTRIGGER;\n",
    "   Bool_t          trigE;\n",
    "   Bool_t          trigM;\n",
    "   Bool_t          trigP;\n",
    "   Bool_t          trigT;\n",
    "   Bool_t          trigDT;\n",
    "   UInt_t          lep_n;\n",
    "   vector<bool>    *lep_truthMatched;\n",
    "   vector<bool>    *lep_trigMatched;\n",
    "   vector<float>   *lep_pt;\n",
    "   vector<float>   *lep_eta;\n",
    "   vector<float>   *lep_phi;\n",
    "   vector<float>   *lep_E;\n",
    "   vector<float>   *lep_z0;\n",
    "   vector<int>     *lep_charge;\n",
    "   vector<unsigned int> *lep_type;\n",
    "   vector<bool>    *lep_isTightID;\n",
    "   vector<float>   *lep_ptcone30;\n",
    "   vector<float>   *lep_etcone20;\n",
    "   vector<float>   *lep_trackd0pvunbiased;\n",
    "   vector<float>   *lep_tracksigd0pvunbiased;\n",
    "   Float_t         met_et;\n",
    "   Float_t         met_phi;\n",
    "   UInt_t          jet_n;\n",
    "   vector<float>   *jet_pt;\n",
    "   vector<float>   *jet_eta;\n",
    "   vector<float>   *jet_phi;\n",
    "   vector<float>   *jet_E;\n",
    "   vector<float>   *jet_jvt;\n",
    "   vector<int>     *jet_trueflav;\n",
    "   vector<bool>    *jet_truthMatched;\n",
    "   vector<float>   *jet_MV2c10;\n",
    "   vector<float>   *lep_pt_syst;\n",
    "   Float_t         met_et_syst;\n",
    "   vector<float>   *jet_pt_syst;"
   ]
  },
  {
   "cell_type": "markdown",
   "metadata": {},
   "source": [
    "Me gustaría saber bien qué hace esto o qué hará luego. No creo que sea util para éste código."
   ]
  },
  {
   "cell_type": "code",
   "execution_count": 5,
   "metadata": {},
   "outputs": [],
   "source": [
    "// List of branches\n",
    "   TBranch        *b_runNumber;   //!\n",
    "   TBranch        *b_eventNumber;   //!\n",
    "   TBranch        *b_channelNumber;   //!\n",
    "   TBranch        *b_mcWeight;   //!\n",
    "   TBranch        *b_scaleFactor_PILEUP;   //!\n",
    "   TBranch        *b_scaleFactor_ELE;   //!\n",
    "   TBranch        *b_scaleFactor_MUON;   //!\n",
    "   TBranch        *b_scaleFactor_PHOTON;   //!\n",
    "   TBranch        *b_scaleFactor_TAU;   //!\n",
    "   TBranch        *b_scaleFactor_BTAG;   //!\n",
    "   TBranch        *b_scaleFactor_LepTRIGGER;   //!\n",
    "   TBranch        *b_scaleFactor_PhotonTRIGGER;   //!\n",
    "   TBranch        *b_scaleFactor_TauTRIGGER;   //!\n",
    "   TBranch        *b_scaleFactor_DiTauTRIGGER;   //!\n",
    "   TBranch        *b_trigE;   //!\n",
    "   TBranch        *b_trigM;   //!\n",
    "   TBranch        *b_trigP;   //!\n",
    "   TBranch        *b_trigT;   //!\n",
    "   TBranch        *b_trigDT;   //!\n",
    "   TBranch        *b_lep_n;   //!\n",
    "   TBranch        *b_lep_truthMatched;   //!\n",
    "   TBranch        *b_lep_trigMatched;   //!\n",
    "   TBranch        *b_lep_pt;   //!\n",
    "   TBranch        *b_lep_eta;   //!\n",
    "   TBranch        *b_lep_phi;   //!\n",
    "   TBranch        *b_lep_E;   //!\n",
    "   TBranch        *b_lep_z0;   //!\n",
    "   TBranch        *b_lep_charge;   //!\n",
    "   TBranch        *b_lep_type;   //!\n",
    "   TBranch        *b_lep_isTightID;   //!\n",
    "   TBranch        *b_lep_ptcone30;   //!\n",
    "   TBranch        *b_lep_etcone20;   //!\n",
    "   TBranch        *b_lep_trackd0pvunbiased;   //!\n",
    "   TBranch        *b_lep_tracksigd0pvunbiased;   //!\n",
    "   TBranch        *b_met_et;   //!\n",
    "   TBranch        *b_met_phi;   //!\n",
    "   TBranch        *b_jet_n;   //!\n",
    "   TBranch        *b_jet_pt;   //!\n",
    "   TBranch        *b_jet_eta;   //!\n",
    "   TBranch        *b_jet_phi;   //!\n",
    "   TBranch        *b_jet_E;   //!\n",
    "   TBranch        *b_jet_jvt;   //!\n",
    "   TBranch        *b_jet_trueflav;   //!\n",
    "   TBranch        *b_jet_truthMatched;   //!\n",
    "   TBranch        *b_jet_MV2c10;   //!\n",
    "   TBranch        *b_lep_pt_syst;   //!\n",
    "   TBranch        *b_met_et_syst;   //!\n",
    "   TBranch        *b_jet_pt_syst;   //!"
   ]
  },
  {
   "cell_type": "markdown",
   "metadata": {},
   "source": [
    "Llenando las variables definidas"
   ]
  },
  {
   "cell_type": "code",
   "execution_count": 6,
   "metadata": {},
   "outputs": [],
   "source": [
    "   fChain->SetBranchAddress(\"runNumber\", &runNumber, &b_runNumber);\n",
    "   fChain->SetBranchAddress(\"eventNumber\", &eventNumber, &b_eventNumber);\n",
    "   fChain->SetBranchAddress(\"channelNumber\", &channelNumber, &b_channelNumber);\n",
    "   fChain->SetBranchAddress(\"mcWeight\", &mcWeight, &b_mcWeight);\n",
    "   fChain->SetBranchAddress(\"scaleFactor_PILEUP\", &scaleFactor_PILEUP, &b_scaleFactor_PILEUP);\n",
    "   fChain->SetBranchAddress(\"scaleFactor_ELE\", &scaleFactor_ELE, &b_scaleFactor_ELE);\n",
    "   fChain->SetBranchAddress(\"scaleFactor_MUON\", &scaleFactor_MUON, &b_scaleFactor_MUON);\n",
    "   fChain->SetBranchAddress(\"scaleFactor_PHOTON\", &scaleFactor_PHOTON, &b_scaleFactor_PHOTON);\n",
    "   fChain->SetBranchAddress(\"scaleFactor_TAU\", &scaleFactor_TAU, &b_scaleFactor_TAU);\n",
    "   fChain->SetBranchAddress(\"scaleFactor_BTAG\", &scaleFactor_BTAG, &b_scaleFactor_BTAG);\n",
    "   fChain->SetBranchAddress(\"scaleFactor_LepTRIGGER\", &scaleFactor_LepTRIGGER, &b_scaleFactor_LepTRIGGER);\n",
    "   fChain->SetBranchAddress(\"scaleFactor_PhotonTRIGGER\", &scaleFactor_PhotonTRIGGER, &b_scaleFactor_PhotonTRIGGER);\n",
    "   fChain->SetBranchAddress(\"trigE\", &trigE, &b_trigE);\n",
    "   fChain->SetBranchAddress(\"trigM\", &trigM, &b_trigM);\n",
    "   fChain->SetBranchAddress(\"trigP\", &trigP, &b_trigP);\n",
    "   fChain->SetBranchAddress(\"lep_n\", &lep_n, &b_lep_n);\n",
    "   fChain->SetBranchAddress(\"lep_truthMatched\", &lep_truthMatched, &b_lep_truthMatched);\n",
    "   fChain->SetBranchAddress(\"lep_trigMatched\", &lep_trigMatched, &b_lep_trigMatched);\n",
    "   fChain->SetBranchAddress(\"lep_pt\", &lep_pt, &b_lep_pt);\n",
    "   fChain->SetBranchAddress(\"lep_eta\", &lep_eta, &b_lep_eta);\n",
    "   fChain->SetBranchAddress(\"lep_phi\", &lep_phi, &b_lep_phi);\n",
    "   fChain->SetBranchAddress(\"lep_E\", &lep_E, &b_lep_E);\n",
    "   fChain->SetBranchAddress(\"lep_z0\", &lep_z0, &b_lep_z0);\n",
    "   fChain->SetBranchAddress(\"lep_charge\", &lep_charge, &b_lep_charge);\n",
    "   fChain->SetBranchAddress(\"lep_type\", &lep_type, &b_lep_type);\n",
    "   fChain->SetBranchAddress(\"lep_isTightID\", &lep_isTightID, &b_lep_isTightID);\n",
    "   fChain->SetBranchAddress(\"lep_ptcone30\", &lep_ptcone30, &b_lep_ptcone30);\n",
    "   fChain->SetBranchAddress(\"lep_etcone20\", &lep_etcone20, &b_lep_etcone20);\n",
    "   fChain->SetBranchAddress(\"lep_trackd0pvunbiased\", &lep_trackd0pvunbiased, &b_lep_trackd0pvunbiased);\n",
    "   fChain->SetBranchAddress(\"lep_tracksigd0pvunbiased\", &lep_tracksigd0pvunbiased, &b_lep_tracksigd0pvunbiased);\n",
    "   fChain->SetBranchAddress(\"met_et\", &met_et, &b_met_et);\n",
    "   fChain->SetBranchAddress(\"met_phi\", &met_phi, &b_met_phi);\n",
    "   fChain->SetBranchAddress(\"jet_n\", &jet_n, &b_jet_n);\n",
    "   fChain->SetBranchAddress(\"jet_pt\", &jet_pt, &b_jet_pt);\n",
    "   fChain->SetBranchAddress(\"jet_eta\", &jet_eta, &b_jet_eta);\n",
    "   fChain->SetBranchAddress(\"jet_phi\", &jet_phi, &b_jet_phi);\n",
    "   fChain->SetBranchAddress(\"jet_E\", &jet_E, &b_jet_E);\n",
    "   fChain->SetBranchAddress(\"jet_jvt\", &jet_jvt, &b_jet_jvt);\n",
    "   fChain->SetBranchAddress(\"jet_trueflav\", &jet_trueflav, &b_jet_trueflav);\n",
    "   fChain->SetBranchAddress(\"jet_truthMatched\", &jet_truthMatched, &b_jet_truthMatched);\n",
    "   fChain->SetBranchAddress(\"jet_MV2c10\", &jet_MV2c10, &b_jet_MV2c10);\n",
    "   fChain->SetBranchAddress(\"lep_pt_syst\", &lep_pt_syst, &b_lep_pt_syst);\n",
    "   fChain->SetBranchAddress(\"met_et_syst\", &met_et_syst, &b_met_et_syst);\n",
    "   fChain->SetBranchAddress(\"jet_pt_syst\", &jet_pt_syst, &b_jet_pt_syst);"
   ]
  },
  {
   "cell_type": "markdown",
   "metadata": {},
   "source": [
    "Creando los Histogramas. Para luego llenarlos con los eventos."
   ]
  },
  {
   "cell_type": "code",
   "execution_count": 7,
   "metadata": {},
   "outputs": [],
   "source": [
    "// Global variables histograms\n",
    "  TH1F *hist_mLL1 = new TH1F(\"hist_mLL1\",\"Mass of Dilepton System; m_{ll,1} [GeV];Events / bin\", 30, 50, 106);\n",
    "  TH1F *hist_mLL2 = new TH1F(\"hist_mLL2\",\"Mass of Dilepton System; m_{ll,2} [GeV];Events / bin\", 30, 12, 140);\n",
    "\n",
    "  TH1F *hist_fourlepsys_pt = new TH1F(\"hist_fourlepsys_pt\",\"Transverse Momentum of four-lepton system; p_{T,4l} [GeV];Events / bin\", 20, 0, 200);\n",
    "  TH1F *hist_fourlepsys_y = new TH1F(\"hist_fourlepsys_y\",\"Rapidity of four-lepton system; y_{4l} ;Events / bin\", 20, -3, 3);\n",
    "\n",
    "  TH1F *mass_four_lep = new TH1F(\"mass_four_lep\",\"Mass of four-lepton system; m_{4l} [GeV];Events / bin\", 24, 80, 170);\n",
    "  TH1F *mass_ext_four_lep = new TH1F(\"mass_ext_four_lep\",\"Mass of four-lepton system; m_{4l} [GeV];Events / bin\", 30, 80, 250);\n",
    "\n",
    "  TH1F *hist_n_jets = new TH1F(\"hist_n_jets\",\"Number of Jets;N_{jets};Events\", 4, -0.5, 3.5);\n",
    "\n",
    "// Leading Lepton histograms\n",
    "  TH1F *hist_fourleptpt = new TH1F(\"hist_fourleptpt\",\" Leptons Transverse Momentum;p_{T}^{all lep} [GeV];Leptons / bin\", 5, 0, 200);\n",
    "  TH1F *hist_fourlepteta = new TH1F(\"hist_fourlepteta\", \" Leptons Pseudorapidity; #eta^{all lep}; Leptons / bin\", 10, -3, 3);\n",
    "  TH1F *hist_fourleptE = new TH1F(\"hist_fourleptE\",\" Leptons Energy; E^{all lep} [GeV]; Leptons / bin\", 10, 0, 300);\n",
    "  TH1F *hist_fourleptphi = new TH1F(\"hist_fourleptphi\",\" Leptons Azimuthal Angle ; #phi^{all lep}; Leptons / bin\", 8, -3.2, 3.2);\n",
    "  TH1F *hist_fourleptch = new TH1F(\"hist_fourleptch\",\" Leptons Charge; Q^{all lep}; Leptons / bin\", 7, -1.75, 1.75);\n",
    "  TH1F *hist_fourleptID = new TH1F(\"hist_fourleptID\",\" Leptons Absolute PDG ID; |PDG ID|^{all lep}; Leptons / bin\",  15, 5.5, 20.5);\n",
    "  TH1F *hist_fourlept_ptc = new TH1F(\"hist_fourlept_ptc\",\" Leptons Relative Transverse Momentum Isolation; ptconerel30^{all lep}; Leptons / bin\", 10, -0.1, 0.4);\n",
    "  TH1F *hist_fourleptetc = new TH1F(\"hist_fourleptetc\",\" Lepton Relative Transverse Energy Isolation; etconerel20^{all lep}; Leptons / bin\", 10, -0.1, 0.4);\n",
    "  TH1F *hist_fourlepz0 = new TH1F(\"hist_fourlepz0\",\" Lepton z0 impact parameter; z_{0}^{all lep} [mm]; Leptons / bin\", 20, -1, 1);\n",
    "  TH1F *hist_fourlepd0 = new TH1F(\"hist_fourlepd0\",\" Lepton d0 impact parameter; d_{0}^{all lep} [mm]; Leptons / bin\", 20, -1, 1);"
   ]
  },
  {
   "cell_type": "markdown",
   "metadata": {},
   "source": [
    "Analisis. Antes de esto falta agregar el formato de los gráficos."
   ]
  },
  {
   "cell_type": "code",
   "execution_count": null,
   "metadata": {},
   "outputs": [],
   "source": [
    "nEvents=0;\n"
   ]
  }
 ],
 "metadata": {
  "kernelspec": {
   "display_name": "ROOT C++",
   "language": "c++",
   "name": "root"
  },
  "language_info": {
   "codemirror_mode": "text/x-c++src",
   "file_extension": ".C",
   "mimetype": " text/x-c++src",
   "name": "c++"
  }
 },
 "nbformat": 4,
 "nbformat_minor": 2
}
