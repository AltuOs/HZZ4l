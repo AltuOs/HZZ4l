{
 "cells": [
  {
   "cell_type": "code",
   "execution_count": 1,
   "metadata": {},
   "outputs": [],
   "source": [
    "%jsroot on"
   ]
  },
  {
   "cell_type": "code",
   "execution_count": 2,
   "metadata": {},
   "outputs": [],
   "source": [
    "#include<TFile.h>\n",
    "#include<TH1.h>\n",
    "#include<TLine.h>\n",
    "#include<iostream>\n",
    "#include<string>\n",
    "#include<stdio.h>"
   ]
  },
  {
   "cell_type": "code",
   "execution_count": 3,
   "metadata": {},
   "outputs": [
    {
     "name": "stdout",
     "output_type": "stream",
     "text": [
      "TH1.Print Name  = mass_four_lep, Entries= 321, Total sum= 95\n"
     ]
    }
   ],
   "source": [
    "TFile *f=new TFile(\"//Analysis/Output_HZZAnalysis/data.root\");\n",
    "//TFile *f = new TFile(\"//Analysis/Output_HZZAnalysis/ggH125_ZZ4lep.root\");\n",
    "mass_four_lep->Print(); // Test de lectura"
   ]
  },
  {
   "cell_type": "code",
   "execution_count": 4,
   "metadata": {},
   "outputs": [],
   "source": [
    "// gROOT->SetStyle(\"ATLAS\"); // Establecer estilo.\n",
    "gStyle->SetOptStat(\"emr\"); // Dibujar estadisticas de grafico.\n",
    "gStyle->SetOptFit(1112);"
   ]
  },
  {
   "cell_type": "code",
   "execution_count": 5,
   "metadata": {},
   "outputs": [],
   "source": [
    "TCanvas *c1 = new TCanvas(\"c1\",\"c1\",10,10,900,600);"
   ]
  },
  {
   "cell_type": "code",
   "execution_count": 6,
   "metadata": {},
   "outputs": [],
   "source": [
    "TH1F *m_four_lep = (TH1F*)f->Get(\"mass_four_lep\");\n",
    "m_four_lep->Draw();\n",
    "// m_four_lep->Draw(\"E1\"); // E1: Para representar los puntos con barras de error."
   ]
  },
  {
   "cell_type": "code",
   "execution_count": 7,
   "metadata": {},
   "outputs": [],
   "source": [
    "Int_t fit = 3; // Option 0 ="
   ]
  },
  {
   "cell_type": "code",
   "execution_count": 8,
   "metadata": {},
   "outputs": [],
   "source": [
    "Double_t mybw(Double_t* x, Double_t* par)\n",
    "{\n",
    "    Double_t arg1 = 2/TMath::Pi();\n",
    "    Double_t arg2 = pow(par[1],2)*pow(par[2],2); // Gamma=par[1] M=par[2]\n",
    "    Double_t arg3 = pow((pow(x[0],2)-pow(par[2],2)),2);\n",
    "    Double_t arg4 = pow(x[0],4)*(pow(par[1],2)/pow(par[2],2));\n",
    "    return par[0]*arg1*arg2/(arg3+arg4);\n",
    "}"
   ]
  },
  {
   "cell_type": "code",
   "execution_count": 9,
   "metadata": {},
   "outputs": [],
   "source": [
    "if (fit == 0) {\n",
    "    TF1 *f1 = new TF1(\"f1\",\"mybw\",115,140,3);\n",
    "    f1->SetParameters(1,m_four_lep->GetMean(),m_four_lep->GetRMS());\n",
    "    f1->SetParNames (\"Constant\",\"Mean\",\"Sigma\");\n",
    "}\n",
    "if (fit == 1) {TF1 *f1 = new TF1(\"f1\",\"gaus\",110,140);}\n",
    "if (fit == 2) {TF1 *f1 = new TF1(\"f1\",\"landau\",110,140);}\n",
    "if (fit == 3) {TF1 *f1 = new TF1(\"f1\",\"gausn\",110,140);}"
   ]
  },
  {
   "cell_type": "code",
   "execution_count": 10,
   "metadata": {},
   "outputs": [
    {
     "name": "stdout",
     "output_type": "stream",
     "text": [
      " FCN=4.58114 FROM MIGRAD    STATUS=CONVERGED      79 CALLS          80 TOTAL\n",
      "                     EDM=6.57626e-10    STRATEGY= 1      ERROR MATRIX ACCURATE \n",
      "  EXT PARAMETER                                   STEP         FIRST   \n",
      "  NO.   NAME      VALUE            ERROR          SIZE      DERIVATIVE \n",
      "   1  Constant     1.07067e+02   2.01209e+01   2.31676e-02   1.47042e-07\n",
      "   2  Mean         1.24701e+02   1.30045e+00   1.19324e-03  -1.05361e-05\n",
      "   3  Sigma        5.39714e+00   1.48300e+00   7.85902e-05   4.96810e-04\n"
     ]
    }
   ],
   "source": [
    "m_four_lep->Fit(\"f1\",\"R\"); // Puede usarse V para agregar más detalles estadísticos.\n",
    "f1->SetLineColor(kRed);"
   ]
  },
  {
   "cell_type": "code",
   "execution_count": 11,
   "metadata": {},
   "outputs": [
    {
     "name": "stdout",
     "output_type": "stream",
     "text": [
      "Formula based function:     f1 \n",
      "                   f1 : gausn Ndim= 1, Npar= 3, Number= 100 \n",
      " Formula expression: \n",
      "\t[Constant]*exp(-0.5*((x-[Mean])/[Sigma])*((x-[Mean])/[Sigma]))/(sqrt(2*pi)*[Sigma]) \n",
      "List of  Variables: \n",
      "Var   0                    x =    0.000000 \n",
      "List of  Parameters: \n",
      "Par   0             Constant =  107.067367 \n",
      "Par   1                 Mean =  124.700692 \n",
      "Par   2                Sigma =    5.397143 \n",
      "Expression passed to Cling:\n",
      "\t#pragma cling optimize(2)\n",
      "Double_t TFormula____id5659692697328198837(Double_t *x,Double_t *p){ return p[0]*TMath::Exp(-0.5*((x[0]-p[1])/p[2])*((x[0]-p[1])/p[2]))/(TMath::Sqrt(2*3.141593)*p[2]) ; }\n"
     ]
    }
   ],
   "source": [
    "// Print the full information of the fit including covariance matrix.\n",
    "f1->Print(\"V\"); \n",
    "\n",
    "// Store the result in a ROOT file.\n",
    "//f1->Write(); "
   ]
  },
  {
   "cell_type": "code",
   "execution_count": 12,
   "metadata": {},
   "outputs": [
    {
     "data": {
      "text/html": [
       "\n",
       "<div id=\"root_plot_1\"\n",
       "     style=\"width: 896px; height: 572px\">\n",
       "</div>\n",
       "\n",
       "<script>\n",
       " requirejs.config({\n",
       "     paths: {\n",
       "       'JSRootCore' : 'https://root.cern.ch/js/notebook//scripts/JSRootCore',\n",
       "     }\n",
       "   });\n",
       " require(['JSRootCore'],\n",
       "     function(Core) {\n",
       "       var obj = Core.JSONR_unref({\"_typename\":\"TCanvas\",\"fUniqueID\":0,\"fBits\":53673992,\"fLineColor\":1,\"fLineStyle\":1,\"fLineWidth\":1,\"fFillColor\":0,\"fFillStyle\":1001,\"fLeftMargin\":0.1,\"fRightMargin\":0.1,\"fBottomMargin\":0.1,\"fTopMargin\":0.1,\"fXfile\":2,\"fYfile\":2,\"fAfile\":1,\"fXstat\":0.99,\"fYstat\":0.99,\"fAstat\":2,\"fFrameFillColor\":0,\"fFrameLineColor\":1,\"fFrameFillStyle\":1001,\"fFrameLineStyle\":1,\"fFrameLineWidth\":1,\"fFrameBorderSize\":1,\"fFrameBorderMode\":0,\"fX1\":68.7499991618096,\"fY1\":-2.62500019557775,\"fX2\":181.25000083819,\"fY2\":23.6250001955778,\"fXtoAbsPixelk\":-547.555490720621,\"fXtoPixelk\":-547.555490720621,\"fXtoPixel\":7.96444432576497,\"fYtoAbsPixelk\":514.800046590614,\"fYtoPixelk\":514.800046590614,\"fYtoPixel\":-21.7904758657728,\"fUtoAbsPixelk\":5e-5,\"fUtoPixelk\":5e-5,\"fUtoPixel\":896,\"fVtoAbsPixelk\":572.00005,\"fVtoPixelk\":572,\"fVtoPixel\":-572,\"fAbsPixeltoXk\":68.7499991618096,\"fPixeltoXk\":68.7499991618096,\"fPixeltoX\":0.125558037585246,\"fAbsPixeltoYk\":23.6250001955778,\"fPixeltoYk\":-2.62500019557775,\"fPixeltoY\":-0.0458916090754467,\"fXlowNDC\":0,\"fYlowNDC\":0,\"fXUpNDC\":0,\"fYUpNDC\":0,\"fWNDC\":1,\"fHNDC\":1,\"fAbsXlowNDC\":0,\"fAbsYlowNDC\":0,\"fAbsWNDC\":1,\"fAbsHNDC\":1,\"fUxmin\":80,\"fUymin\":0,\"fUxmax\":170,\"fUymax\":21,\"fTheta\":30,\"fPhi\":30,\"fAspectRatio\":0,\"fNumber\":0,\"fTickx\":0,\"fTicky\":0,\"fLogx\":0,\"fLogy\":0,\"fLogz\":0,\"fPadPaint\":0,\"fCrosshair\":0,\"fCrosshairPos\":0,\"fBorderSize\":2,\"fBorderMode\":0,\"fModified\":false,\"fGridx\":false,\"fGridy\":false,\"fAbsCoord\":false,\"fEditable\":true,\"fFixedAspectRatio\":false,\"fPrimitives\":{\"_typename\":\"TList\",\"name\":\"TList\",\"arr\":[{\"_typename\":\"TFrame\",\"fUniqueID\":0,\"fBits\":50331656,\"fLineColor\":1,\"fLineStyle\":1,\"fLineWidth\":1,\"fFillColor\":0,\"fFillStyle\":1001,\"fX1\":80,\"fY1\":0,\"fX2\":170,\"fY2\":21,\"fBorderSize\":1,\"fBorderMode\":0},{\"_typename\":\"TH1F\",\"fUniqueID\":0,\"fBits\":50331656,\"fName\":\"mass_four_lep\",\"fTitle\":\"Mass of four-lepton system\",\"fLineColor\":602,\"fLineStyle\":1,\"fLineWidth\":1,\"fFillColor\":0,\"fFillStyle\":1001,\"fMarkerColor\":1,\"fMarkerStyle\":1,\"fMarkerSize\":1,\"fNcells\":26,\"fXaxis\":{\"_typename\":\"TAxis\",\"fUniqueID\":0,\"fBits\":50331648,\"fName\":\"xaxis\",\"fTitle\":\" m_{4l} [GeV]\",\"fNdivisions\":510,\"fAxisColor\":1,\"fLabelColor\":1,\"fLabelFont\":42,\"fLabelOffset\":0.005,\"fLabelSize\":0.035,\"fTickLength\":0.03,\"fTitleOffset\":1,\"fTitleSize\":0.035,\"fTitleColor\":1,\"fTitleFont\":42,\"fNbins\":24,\"fXmin\":80,\"fXmax\":170,\"fXbins\":[],\"fFirst\":0,\"fLast\":0,\"fBits2\":0,\"fTimeDisplay\":false,\"fTimeFormat\":\"\",\"fLabels\":null,\"fModLabs\":null},\"fYaxis\":{\"_typename\":\"TAxis\",\"fUniqueID\":0,\"fBits\":50331648,\"fName\":\"yaxis\",\"fTitle\":\"Events \\/ bin\",\"fNdivisions\":510,\"fAxisColor\":1,\"fLabelColor\":1,\"fLabelFont\":42,\"fLabelOffset\":0.005,\"fLabelSize\":0.035,\"fTickLength\":0.03,\"fTitleOffset\":0,\"fTitleSize\":0.035,\"fTitleColor\":1,\"fTitleFont\":42,\"fNbins\":1,\"fXmin\":0,\"fXmax\":1,\"fXbins\":[],\"fFirst\":0,\"fLast\":0,\"fBits2\":0,\"fTimeDisplay\":false,\"fTimeFormat\":\"\",\"fLabels\":null,\"fModLabs\":null},\"fZaxis\":{\"_typename\":\"TAxis\",\"fUniqueID\":0,\"fBits\":50331648,\"fName\":\"zaxis\",\"fTitle\":\"\",\"fNdivisions\":510,\"fAxisColor\":1,\"fLabelColor\":1,\"fLabelFont\":42,\"fLabelOffset\":0.005,\"fLabelSize\":0.035,\"fTickLength\":0.03,\"fTitleOffset\":1,\"fTitleSize\":0.035,\"fTitleColor\":1,\"fTitleFont\":42,\"fNbins\":1,\"fXmin\":0,\"fXmax\":1,\"fXbins\":[],\"fFirst\":0,\"fLast\":0,\"fBits2\":0,\"fTimeDisplay\":false,\"fTimeFormat\":\"\",\"fLabels\":null,\"fModLabs\":null},\"fBarOffset\":0,\"fBarWidth\":1000,\"fEntries\":321,\"fTsumw\":95,\"fTsumw2\":95,\"fTsumwx\":11030.9741134644,\"fTsumwx2\":1341716.84406426,\"fMaximum\":-1111,\"fMinimum\":-1111,\"fNormFactor\":0,\"fContour\":[],\"fSumw2\":[],\"fOption\":\"\",\"fFunctions\":{\"_typename\":\"TList\",\"name\":\"TList\",\"arr\":[{\"_typename\":\"TF1\",\"fUniqueID\":0,\"fBits\":50332672,\"fName\":\"f1\",\"fTitle\":\"gausn\",\"fLineColor\":2,\"fLineStyle\":1,\"fLineWidth\":2,\"fFillColor\":19,\"fFillStyle\":0,\"fMarkerColor\":1,\"fMarkerStyle\":1,\"fMarkerSize\":1,\"fXmin\":110,\"fXmax\":140,\"fNpar\":3,\"fNdim\":1,\"fNpx\":100,\"fType\":0,\"fNpfits\":8,\"fNDF\":5,\"fChisquare\":4.58114000754746,\"fMinimum\":-1111,\"fMaximum\":-1111,\"fParErrors\":[20.1208699340254,1.30045392615254,1.48300222675999],\"fParMin\":[0,0,0],\"fParMax\":[0,0,61.0048433248623],\"fSave\":[0.193811316165361,0.22514443001093,0.260736270229739,0.301023122020222,0.346462653989318,0.397531150288777,0.454720012479325,0.518531490458905,0.589473613554257,0.668054307130543,0.75477469676128,0.850121620971128,0.954559394572633,1.06852088731943,1.19239800654635,1.32653169711676,1.47120159671193,1.62661550856139,1.79289887634406,1.97008446636563,2.15810247939207,2.35677132785885,2.56578932278326,2.78472751785987,3.01302395529519,3.24997954845522,3.4947558200394,3.74637469113397,4.00372048622356,4.26554428237061,4.53047068785936,4.79700708743163,5.06355533882562,5.32842584988101,5.58985390838308,5.84601807961417,6.09506043088248,6.33510828977086,6.56429719514087,6.78079465862001,6.98282432084303,7.16869006237628,7.33679961505888,7.48568721619328,7.61403485604615,7.72069168857168,7.80469120588266,7.86526581815888,7.90185853144363,7.91413147487119,7.90197109475015,7.86548990382924,7.80502474805875,7.72113162818933,7.61457718754591,7.48632704823515,7.33753124395399,7.16950705669409,6.98371961544,6.78176065616911,6.56532587312567,6.33619131084453,6.09618925448087,5.84718407275305,5.59104845365921,5.32964044883014,5.06478170896463,4.79823725151765,4.53169705413137,4.2667597147897,4.0049183639893,3.74754895701948,3.49590101734783,3.25109084665032,3.01409716459152,2.78575909326837,2.5667763582933,2.35771154159208,2.15899419068799,1.97092656585018,1.79369079009182,1.62735715749068,1.47189335235092,1.32717433485131,1.19299265740912,1.06906898930844,0.955062644400539,0.850581927046049,0.755194134092341,0.668435074737997,0.589817994849715,0.518841816948876,0.454998631037155,0.3977803941391,0.34668481745672,0.301220439011354,0.260910896346815,0.22529842813438,0.193946645295013,0.166442621554929,0.142398360264702,110,140],\"fNormalized\":false,\"fNormIntegral\":0,\"fFormula\":{\"_typename\":\"TFormula\",\"fUniqueID\":0,\"fBits\":50349056,\"fName\":\"f1\",\"fTitle\":\"gausn\",\"fClingParameters\":[107.067367156122,124.700691577809,5.39714269845917],\"fAllParametersSetted\":true,\"fParams\":[{\"$pair\":\"pair<TString,int,TFormulaParamOrder>\",\"first\":\"Constant\",\"second\":0},{\"$pair\":\"pair<TString,int,TFormulaParamOrder>\",\"first\":\"Mean\",\"second\":1},{\"$pair\":\"pair<TString,int,TFormulaParamOrder>\",\"first\":\"Sigma\",\"second\":2}],\"fFormula\":\"[Constant]*exp(-0.5*((x-[Mean])\\/[Sigma])*((x-[Mean])\\/[Sigma]))\\/(sqrt(2*pi)*[Sigma])\",\"fNdim\":1,\"fLinearParts\":[],\"fVectorized\":false},\"fParams\":null,\"fComposition_ptr\":null},{\"_typename\":\"TPaveStats\",\"fUniqueID\":0,\"fBits\":50331657,\"fLineColor\":1,\"fLineStyle\":1,\"fLineWidth\":1,\"fFillColor\":0,\"fFillStyle\":1001,\"fX1\":138.500001743436,\"fY1\":11.4187503109686,\"fX2\":179.00000295043,\"fY2\":21.9187502327375,\"fX1NDC\":0.620000013709068,\"fY1NDC\":0.535000011324883,\"fX2NDC\":0.980000019073486,\"fY2NDC\":0.935000002384186,\"fBorderSize\":1,\"fInit\":1,\"fShadowColor\":1,\"fCornerRadius\":0,\"fOption\":\"brNDC\",\"fName\":\"stats\",\"fTextAngle\":0,\"fTextSize\":0,\"fTextAlign\":12,\"fTextColor\":1,\"fTextFont\":42,\"fLabel\":\"\",\"fLongest\":27,\"fMargin\":0.05,\"fLines\":{\"_typename\":\"TList\",\"name\":\"TList\",\"arr\":[{\"_typename\":\"TLatex\",\"fUniqueID\":0,\"fBits\":50331648,\"fName\":\"\",\"fTitle\":\"Entries = 321    \",\"fTextAngle\":0,\"fTextSize\":0,\"fTextAlign\":0,\"fTextColor\":0,\"fTextFont\":0,\"fX\":0,\"fY\":0,\"fLineColor\":1,\"fLineStyle\":1,\"fLineWidth\":2,\"fLimitFactorSize\":3,\"fOriginSize\":0.04},{\"_typename\":\"TLatex\",\"fUniqueID\":0,\"fBits\":50331648,\"fName\":\"\",\"fTitle\":\"Mean  =  116.1\",\"fTextAngle\":0,\"fTextSize\":0,\"fTextAlign\":0,\"fTextColor\":0,\"fTextFont\":0,\"fX\":0,\"fY\":0,\"fLineColor\":1,\"fLineStyle\":1,\"fLineWidth\":2,\"fLimitFactorSize\":3,\"fOriginSize\":0.04},{\"_typename\":\"TLatex\",\"fUniqueID\":0,\"fBits\":50331648,\"fName\":\"\",\"fTitle\":\"Std Dev   =  25.31\",\"fTextAngle\":0,\"fTextSize\":0,\"fTextAlign\":0,\"fTextColor\":0,\"fTextFont\":0,\"fX\":0,\"fY\":0,\"fLineColor\":1,\"fLineStyle\":1,\"fLineWidth\":2,\"fLimitFactorSize\":3,\"fOriginSize\":0.04},{\"_typename\":\"TLatex\",\"fUniqueID\":0,\"fBits\":50331648,\"fName\":\"\",\"fTitle\":\"#chi^{2} \\/ ndf = 4.581 \\/ 5\",\"fTextAngle\":0,\"fTextSize\":0,\"fTextAlign\":0,\"fTextColor\":0,\"fTextFont\":0,\"fX\":0,\"fY\":0,\"fLineColor\":1,\"fLineStyle\":1,\"fLineWidth\":2,\"fLimitFactorSize\":3,\"fOriginSize\":0.04},{\"_typename\":\"TLatex\",\"fUniqueID\":0,\"fBits\":50331648,\"fName\":\"\",\"fTitle\":\"Prob  = 0.4691\",\"fTextAngle\":0,\"fTextSize\":0,\"fTextAlign\":0,\"fTextColor\":0,\"fTextFont\":0,\"fX\":0,\"fY\":0,\"fLineColor\":1,\"fLineStyle\":1,\"fLineWidth\":2,\"fLimitFactorSize\":3,\"fOriginSize\":0.04},{\"_typename\":\"TLatex\",\"fUniqueID\":0,\"fBits\":50331648,\"fName\":\"\",\"fTitle\":\"Constant = 107.1 #pm 20.1 \",\"fTextAngle\":0,\"fTextSize\":0,\"fTextAlign\":0,\"fTextColor\":0,\"fTextFont\":0,\"fX\":0,\"fY\":0,\"fLineColor\":1,\"fLineStyle\":1,\"fLineWidth\":2,\"fLimitFactorSize\":3,\"fOriginSize\":0.04},{\"_typename\":\"TLatex\",\"fUniqueID\":0,\"fBits\":50331648,\"fName\":\"\",\"fTitle\":\"Mean     = 124.7 #pm 1.3 \",\"fTextAngle\":0,\"fTextSize\":0,\"fTextAlign\":0,\"fTextColor\":0,\"fTextFont\":0,\"fX\":0,\"fY\":0,\"fLineColor\":1,\"fLineStyle\":1,\"fLineWidth\":2,\"fLimitFactorSize\":3,\"fOriginSize\":0.04},{\"_typename\":\"TLatex\",\"fUniqueID\":0,\"fBits\":50331648,\"fName\":\"\",\"fTitle\":\"Sigma    = 5.397 #pm 1.483 \",\"fTextAngle\":0,\"fTextSize\":0,\"fTextAlign\":0,\"fTextColor\":0,\"fTextFont\":0,\"fX\":0,\"fY\":0,\"fLineColor\":1,\"fLineStyle\":1,\"fLineWidth\":2,\"fLimitFactorSize\":3,\"fOriginSize\":0.04}],\"opt\":[\"\",\"\",\"\",\"\",\"\",\"\",\"\",\"\"]},\"fOptFit\":1112,\"fOptStat\":1110,\"fFitFormat\":\"5.4g\",\"fStatFormat\":\"6.4g\",\"fParent\":{\"$ref\":3}}],\"opt\":[\"\",\"brNDC\"]},\"fBufferSize\":0,\"fBuffer\":[],\"fBinStatErrOpt\":0,\"fStatOverflows\":2,\"fArray\":[0,1,6,20,7,4,3,1,0,2,1,7,9,7,3,3,1,4,1,2,4,2,1,4,2,226]},{\"_typename\":\"TLine\",\"fUniqueID\":0,\"fBits\":50331656,\"fLineColor\":416,\"fLineStyle\":7,\"fLineWidth\":1,\"fX1\":118.346041675169,\"fY1\":3.95706576992169,\"fX2\":131.055341485968,\"fY2\":3.95706576992169},{\"_typename\":\"TLine\",\"fUniqueID\":0,\"fBits\":50331656,\"fLineColor\":416,\"fLineStyle\":7,\"fLineWidth\":1,\"fX1\":124.700691606417,\"fY1\":7.91413153984338,\"fX2\":124.700691606417,\"fY2\":0},{\"_typename\":\"TPaveText\",\"fUniqueID\":0,\"fBits\":50331657,\"fLineColor\":1,\"fLineStyle\":1,\"fLineWidth\":1,\"fFillColor\":0,\"fFillStyle\":0,\"fX1\":100.27008891721,\"fY1\":21.8967223229662,\"fX2\":149.72991108279,\"fY2\":23.4937503187917,\"fX1NDC\":0.280178571428571,\"fY1NDC\":0.934160843929211,\"fX2NDC\":0.719821428571429,\"fY2NDC\":0.995000004768372,\"fBorderSize\":0,\"fInit\":1,\"fShadowColor\":1,\"fCornerRadius\":0,\"fOption\":\"blNDC\",\"fName\":\"title\",\"fTextAngle\":0,\"fTextSize\":0,\"fTextAlign\":22,\"fTextColor\":1,\"fTextFont\":42,\"fLabel\":\"\",\"fLongest\":26,\"fMargin\":0.05,\"fLines\":{\"_typename\":\"TList\",\"name\":\"TList\",\"arr\":[{\"_typename\":\"TLatex\",\"fUniqueID\":0,\"fBits\":50331648,\"fName\":\"\",\"fTitle\":\"Mass of four-lepton system\",\"fTextAngle\":0,\"fTextSize\":0,\"fTextAlign\":0,\"fTextColor\":0,\"fTextFont\":0,\"fX\":0,\"fY\":0,\"fLineColor\":1,\"fLineStyle\":1,\"fLineWidth\":2,\"fLimitFactorSize\":3,\"fOriginSize\":0.0517132878303528}],\"opt\":[\"\"]}}],\"opt\":[\"\",\"\",\"same\",\"same\",\"blNDC\"]},\"fExecs\":null,\"fName\":\"c1\",\"fTitle\":\"c1\",\"fNumPaletteColor\":0,\"fNextPaletteColor\":0,\"fDISPLAY\":\"$DISPLAY\",\"fDoubleBuffer\":0,\"fRetained\":true,\"fXsizeUser\":0,\"fYsizeUser\":0,\"fXsizeReal\":20,\"fYsizeReal\":13.33333,\"fWindowTopX\":0,\"fWindowTopY\":0,\"fWindowWidth\":0,\"fWindowHeight\":0,\"fCw\":896,\"fCh\":572,\"fCatt\":{\"_typename\":\"TAttCanvas\",\"fXBetween\":2,\"fYBetween\":2,\"fTitleFromTop\":1.2,\"fXdate\":0.2,\"fYdate\":0.3,\"fAdate\":1},\"kMoveOpaque\":true,\"kResizeOpaque\":true,\"fHighLightColor\":2,\"fBatch\":true,\"kShowEventStatus\":false,\"kAutoExec\":true,\"kMenuBar\":true});\n",
       "       Core.draw(\"root_plot_1\", obj, \"\");\n",
       "     }\n",
       " );\n",
       "</script>\n"
      ],
      "text/plain": [
       "<IPython.core.display.HTML object>"
      ]
     },
     "metadata": {},
     "output_type": "display_data"
    },
    {
     "name": "stdout",
     "output_type": "stream",
     "text": [
      "Coordenada del punto máximo en el ajuste: (124.701,7.91413).\n",
      "Intersecciones en m4l a média altura: 118.346 GeV y 131.055 GeV.\n",
      "Ancho de decaimiento, Γ = 12.7093 GeV.\n",
      "Tiempo de vida media, τ = 3.25405e-25 s.\n"
     ]
    }
   ],
   "source": [
    "minx = f1->GetXmin(); // Mínimo en x del ajuste.\n",
    "maxx = f1->GetXmax(); // Máximo en x del ajuste.\n",
    "\n",
    "mode_x = f1->GetMaximumX(minx,maxx); // Coordenada x del máximo en el ajuste dentro del intervalo [minx,maxx].\n",
    "mode_y = f1->Eval(mode_x); // Coordenada y del máximo.\n",
    "\n",
    "upper_halfwidth = f1->GetX(mode_y/2.0,mode_x,maxx);\n",
    "lower_halfwidth = f1->GetX(mode_y/2.0,minx,mode_x);\n",
    "\n",
    "width = upper_halfwidth-lower_halfwidth;\n",
    "\n",
    "cout    << \"Coordenada del punto máximo en el ajuste: (\" << mode_x << \",\" << mode_y << \").\" << endl\n",
    "        << \"Intersecciones en m4l a média altura: \" << lower_halfwidth << \" GeV\" << \" y \" << upper_halfwidth << \" GeV.\" << endl\n",
    "        << \"Ancho de decaimiento, \\u0393 = \" << width << \" GeV.\" << endl\n",
    "        << \"Tiempo de vida media, \\u03C4 = \" << 4.135667696E-15/(width*1E9) << \" s.\" << endl;\n",
    "\n",
    "TLine *l1 = new TLine(lower_halfwidth,mode_y/2.0,upper_halfwidth,mode_y/2.0);\n",
    "l1->SetLineColor(kGreen);\n",
    "l1->SetLineStyle(7);\n",
    "l1->Draw(\"same\");\n",
    "\n",
    "TLine *l2 = new TLine(mode_x,mode_y,mode_x,0);\n",
    "l2->SetLineColor(kGreen);\n",
    "l2->SetLineStyle(7);\n",
    "l2->Draw(\"same\");\n",
    "\n",
    "c1->Draw();"
   ]
  },
  {
   "cell_type": "markdown",
   "metadata": {},
   "source": [
    "#### OJO Revisar los orden de magnitud y unidades."
   ]
  }
 ],
 "metadata": {
  "kernelspec": {
   "display_name": "ROOT C++",
   "language": "c++",
   "name": "root"
  },
  "language_info": {
   "codemirror_mode": "text/x-c++src",
   "file_extension": ".C",
   "mimetype": " text/x-c++src",
   "name": "c++"
  }
 },
 "nbformat": 4,
 "nbformat_minor": 2
}
