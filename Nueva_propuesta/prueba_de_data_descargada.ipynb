{
 "cells": [
  {
   "cell_type": "markdown",
   "metadata": {},
   "source": [
    "La data esta siendo leída desde la carpeta compartida entre la Maquina real y la virtual."
   ]
  },
  {
   "cell_type": "code",
   "execution_count": 1,
   "metadata": {},
   "outputs": [],
   "source": [
    "%%cpp -d\n",
    "#define HZZAnalysis_cxx\n",
    "#include \"main_HZZAnalysis.C\"\n",
    "#include <iostream>\n",
    "#include <cstring>\n",
    "#include <string>\n",
    "using namespace std;"
   ]
  },
  {
   "cell_type": "code",
   "execution_count": 2,
   "metadata": {},
   "outputs": [
    {
     "name": "stdout",
     "output_type": "stream",
     "text": [
      "Cantidad de data a escanear: 30\n"
     ]
    }
   ],
   "source": [
    "TString sample[] = {\"data\",\"ZqqZll\",\"WqqZll\",\"WpqqWmlv\",\"WplvWmqq\",\"WlvZqq\",\"llll\",\"lllv\",\"llvv\",\"lvvv\",\"Zee\",\"Zmumu\",\"Ztautau\",\"single_top_tchan\",\"single_antitop_tchan\",\"single_top_schan\",\"single_antitop_schan\",\"single_top_wtchan\",\"single_antitop_wtchan\",\"ttbar_lep\",\"Wplusenu\",\"Wplusmunu\",\"Wplustaunu\",\"Wminusenu\",\"Wminusmunu\",\"Wminustaunu\",\"ggH125_ZZ4lep\",\"ZH125_ZZ4lep\",\"WH125_ZZ4lep\",\"VBF125_ZZ4lep\"};\n",
    "Int_t size = sizeof(sample)/sizeof(sample[0]); //Dimensión del array.\n",
    "cout << \"Cantidad de data a escanear: \" << size <<endl;"
   ]
  },
  {
   "cell_type": "code",
   "execution_count": 3,
   "metadata": {},
   "outputs": [
    {
     "name": "stdout",
     "output_type": "stream",
     "text": [
      "1 Data escaneada: data. N-tuplas: 832\n",
      "2 Data escaneada: ZqqZll. N-tuplas: 254\n",
      "3 Data escaneada: WqqZll. N-tuplas: 1316619\n",
      "4 Data escaneada: WpqqWmlv. N-tuplas: 13375\n",
      "5 Data escaneada: WplvWmqq. N-tuplas: 14245\n",
      "6 Data escaneada: WlvZqq. N-tuplas: 28199\n",
      "7 Data escaneada: llll. N-tuplas: 554279\n",
      "8 Data escaneada: lllv. N-tuplas: 9340\n",
      "9 Data escaneada: llvv. N-tuplas: 137\n",
      "10 Data escaneada: lvvv. N-tuplas: 11789\n",
      "11 Data escaneada: Zee. N-tuplas: 898\n",
      "12 Data escaneada: Zmumu. N-tuplas: 684\n",
      "13 Data escaneada: Ztautau. N-tuplas: 9\n",
      "14 Data escaneada: single_top_tchan. N-tuplas: 2\n",
      "15 Data escaneada: single_antitop_tchan. N-tuplas: 2\n",
      "16 Data escaneada: single_top_schan. N-tuplas: 2\n",
      "17 Data escaneada: single_antitop_schan. N-tuplas: 2\n",
      "18 Data escaneada: single_top_wtchan. N-tuplas: 56\n",
      "19 Data escaneada: single_antitop_wtchan. N-tuplas: 48\n",
      "20 Data escaneada: ttbar_lep. N-tuplas: 1031\n",
      "21 Data escaneada: Wplusenu. N-tuplas: 41502\n",
      "22 Data escaneada: Wplusmunu. N-tuplas: 35184\n",
      "23 Data escaneada: Wplustaunu. N-tuplas: 1774\n",
      "24 Data escaneada: Wminusenu. N-tuplas: 31893\n",
      "25 Data escaneada: Wminusmunu. N-tuplas: 30307\n",
      "26 Data escaneada: Wminustaunu. N-tuplas: 1409\n",
      "27 Data escaneada: ggH125_ZZ4lep. N-tuplas: 164716\n",
      "28 Data escaneada: ZH125_ZZ4lep. N-tuplas: 14485\n",
      "29 Data escaneada: WH125_ZZ4lep. N-tuplas: 15379\n",
      "30 Data escaneada: VBF125_ZZ4lep. N-tuplas: 191126\n"
     ]
    }
   ],
   "source": [
    "int nEvents;\n",
    "for (int i=0; i<size;i++){\n",
    "    TChain *fChain = new TChain(\"mini\");\n",
    "    fChain = main_HZZAnalysis(0,sample[i]); //sustituido \"parallel\" por cero\n",
    "    //fChain->Print();\n",
    "    nEvents = (Int_t)fChain->GetEntries();\n",
    "    cout << i+1 << \" Data escaneada: \" << sample[i] << \". N-tuplas: \" << nEvents <<endl;\n",
    "}"
   ]
  },
  {
   "cell_type": "markdown",
   "metadata": {},
   "source": [
    "Validando paso a paso alguna data en la Web:"
   ]
  },
  {
   "cell_type": "code",
   "execution_count": 4,
   "metadata": {},
   "outputs": [
    {
     "name": "stdout",
     "output_type": "stream",
     "text": [
      "Nombre de evento: MC/mc_361105.Wminustaunu.2lep.root. N-tuplas: 1409\n"
     ]
    }
   ],
   "source": [
    "TString path2 = \"https://atlas-opendata.web.cern.ch/atlas-opendata/samples/2020/2lep/\";\n",
    "TString name = \"MC/mc_361105.Wminustaunu.2lep.root\";\n",
    "TChain *f = new TChain(\"mini\");\n",
    "\n",
    "TChain* chain_WqqZll = new TChain(\"mini\");\n",
    "\n",
    "chain_WqqZll->AddFile(path2+name);\n",
    "\n",
    "TChain *fChain = new TChain(\"mini\");\n",
    "fChain = chain_WqqZll; //sustituido \"parallel\" por cero\n",
    "//fChain->Print();\n",
    "nEvents = (Int_t)fChain->GetEntries();\n",
    "cout << \"Nombre de evento: \" << name << \". N-tuplas: \" << nEvents <<endl;"
   ]
  },
  {
   "cell_type": "code",
   "execution_count": null,
   "metadata": {},
   "outputs": [],
   "source": []
  }
 ],
 "metadata": {
  "kernelspec": {
   "display_name": "ROOT C++",
   "language": "c++",
   "name": "root"
  },
  "language_info": {
   "codemirror_mode": "text/x-c++src",
   "file_extension": ".C",
   "mimetype": " text/x-c++src",
   "name": "c++"
  }
 },
 "nbformat": 4,
 "nbformat_minor": 2
}
