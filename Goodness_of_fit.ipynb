{
 "cells": [
  {
   "cell_type": "code",
   "execution_count": 1,
   "metadata": {},
   "outputs": [],
   "source": [
    "%jsroot off"
   ]
  },
  {
   "cell_type": "code",
   "execution_count": 2,
   "metadata": {},
   "outputs": [],
   "source": [
    "#include<TFile.h>\n",
    "#include<TH1.h>\n",
    "#include<TMath.h>\n",
    "#include<math.h>\n",
    "#include<TF1.h>\n",
    "#include<TLine.h>\n",
    "#include<TPoint.h>\n",
    "#include<iostream>\n",
    "#include<string>\n",
    "#include<stdio.h>"
   ]
  },
  {
   "cell_type": "code",
   "execution_count": 3,
   "metadata": {},
   "outputs": [],
   "source": [
    "// gROOT->SetStyle(\"ATLAS\"); // Establecer estilo.\n",
    "gStyle->SetOptStat(1001110);\n",
    "gStyle->SetOptFit(1112);"
   ]
  },
  {
   "cell_type": "code",
   "execution_count": 4,
   "metadata": {},
   "outputs": [],
   "source": [
    "TCanvas *c1 = new TCanvas(\"c1\",\"The FillRandom example\",10,10,900,600);\n",
    "c1->SetGrid();"
   ]
  },
  {
   "cell_type": "code",
   "execution_count": 5,
   "metadata": {},
   "outputs": [],
   "source": [
    "/*TFile *f=new TFile(\"//Analysis/Output_HZZAnalysis/data.root\");\n",
    "//TFile *f = new TFile(\"//Analysis/Output_HZZAnalysis/ggH125_ZZ4lep.root\"); // Prueba MC gg->H125->ZZ->4lep.\n",
    "mass_four_lep->Print(); // Test de lectura de datos*/"
   ]
  },
  {
   "cell_type": "code",
   "execution_count": 6,
   "metadata": {},
   "outputs": [],
   "source": [
    "/*const Int_t n = 20;\n",
    "const Double_t max_data = 135;\n",
    "const Double_t min_data = 110;\n",
    "\n",
    "(max_data-min_data)/n\n",
    "\n",
    "TH1D *h_data = new TH1D(\"h_data\",\"h_data\",n,min_data,max_data); // Histograma de datos.\n",
    "h_data->SetBinContent(1, 0);\n",
    "h_data->SetBinContent(2, 1);\n",
    "h_data->SetBinContent(3, 0);\n",
    "h_data->SetBinContent(4, 1);\n",
    "h_data->SetBinContent(5, 1);\n",
    "h_data->SetBinContent(6, 6);\n",
    "h_data->SetBinContent(7, 7);\n",
    "h_data->SetBinContent(8, 2);\n",
    "h_data->SetBinContent(9, 22);\n",
    "h_data->SetBinContent(10, 30);\n",
    "h_data->SetBinContent(11, 27);\n",
    "h_data->SetBinContent(12, 20);\n",
    "h_data->SetBinContent(13, 13);\n",
    "h_data->SetBinContent(14, 9);\n",
    "h_data->SetBinContent(15, 9);\n",
    "h_data->SetBinContent(16, 13);\n",
    "h_data->SetBinContent(17, 19);\n",
    "h_data->SetBinContent(18, 11);\n",
    "h_data->SetBinContent(19, 9);\n",
    "h_data->SetBinContent(20, 0);\n",
    "\n",
    "h_data->SetBinError(1, 0.38974303 );\n",
    "h_data->SetBinError(2, 0.536510944);\n",
    "h_data->SetBinError(3, 0.529702604);\n",
    "h_data->SetBinError(4, 0.642001867);\n",
    "h_data->SetBinError(5, 0.969341516);\n",
    "h_data->SetBinError(6, 1.47611344);\n",
    "h_data->SetBinError(7, 1.69797957);\n",
    "h_data->SetBinError(8, 3.28577447);\n",
    "h_data->SetBinError(9, 5.40784931);\n",
    "h_data->SetBinError(10, 9.10106468);\n",
    "h_data->SetBinError(11, 9.73541737);\n",
    "h_data->SetBinError(12, 5.55019951);\n",
    "h_data->SetBinError(13, 3.57914758);\n",
    "h_data->SetBinError(14, 2.77877331);\n",
    "h_data->SetBinError(15, 3.23697519);\n",
    "h_data->SetBinError(16, 4.3608489);\n",
    "h_data->SetBinError(17, 5.77172089);\n",
    "h_data->SetBinError(18, 3.38666105);\n",
    "h_data->SetBinError(19, 2.98861837);\n",
    "h_data->SetBinError(20, 1.58402085);*/"
   ]
  },
  {
   "cell_type": "code",
   "execution_count": 7,
   "metadata": {},
   "outputs": [],
   "source": [
    "Int_t fit = 0; // Opciones 0, 1, 2, 3, 4, 5, 6 = Distribuciones"
   ]
  },
  {
   "cell_type": "code",
   "execution_count": 8,
   "metadata": {},
   "outputs": [],
   "source": [
    "const Int_t n = 4;\n",
    "const Double_t max_data = 135;\n",
    "const Double_t min_data = 110;\n",
    "\n",
    "TH1D *h_data = new TH1D(\"h_data\",\"h_data\",n,min_data,max_data); // Histograma de datos.\n",
    "h_data->SetBinContent(1, 1);\n",
    "h_data->SetBinContent(2, 4);\n",
    "h_data->SetBinContent(3, 2);\n",
    "h_data->SetBinContent(4, 1);"
   ]
  },
  {
   "cell_type": "code",
   "execution_count": 9,
   "metadata": {},
   "outputs": [],
   "source": [
    "Double_t myBWDist(Double_t* x, Double_t* par)\n",
    "{   // Double_t x, Double_t mean, Double_t gamma\n",
    "    return par[0]*TMath::BreitWigner(x[0], par[1], par[2]);\n",
    "}"
   ]
  },
  {
   "cell_type": "code",
   "execution_count": 10,
   "metadata": {},
   "outputs": [
    {
     "name": "stdout",
     "output_type": "stream",
     "text": [
      " FCN=0.184019 FROM MIGRAD    STATUS=CONVERGED     331 CALLS         332 TOTAL\n",
      "                     EDM=2.10272e-07    STRATEGY= 1      ERROR MATRIX ACCURATE \n",
      "  EXT PARAMETER                                   STEP         FIRST   \n",
      "  NO.   NAME      VALUE            ERROR          SIZE      DERIVATIVE \n",
      "   1  Constant     6.30160e+01   2.50071e+01   1.19693e-02   4.05194e-06\n",
      "   2  Mean         9.05575e+00   6.97499e+00   3.18602e-03   5.23226e-05\n",
      "   3  Gamma        1.21124e+02   2.01273e+00   1.01918e-03  -1.99674e-04\n"
     ]
    },
    {
     "data": {
      "image/png": "[encoded data removed]",
      "text/plain": [
       "<IPython.core.display.Image object>"
      ]
     },
     "metadata": {},
     "output_type": "display_data"
    }
   ],
   "source": [
    "/*const Int_t n = 6;\n",
    "\n",
    "TH1F *h_data = (TH1F*)f->Get(\"mass_four_lep\");*/\n",
    "h_data->Draw(\"E1\"); // E1: Para representar los puntos con barras de error.\n",
    "\n",
    "if (fit == 0) {\n",
    "    TF1 *pdf = new TF1(\"pdf\",\"[0]*(2*sqrt(2)*[2]*[1]*(sqrt(pow([2],2)*(pow([2],2)+pow([1],2))))/(TMath::Pi()*sqrt(pow([2],2)+(sqrt(pow([2],2)*(pow([2],2)+pow([1],2)))))))/((pow((pow(x,2)-pow([2],2)),2))+(pow([2],2)*pow([1],2)))\",110,140); //Función de Densidad de Probabilidad.\n",
    "    pdf->SetParameters(1,h_data->GetStdDev(),h_data->GetMean());\n",
    "    pdf->SetParNames (\"Constant\",\"Mean\",\"Gamma\");\n",
    "}\n",
    "if (fit == 1) TF1 *pdf = new TF1(\"pdf\",\"gaus\",110,140);\n",
    "if (fit == 2) TF1 *pdf = new TF1(\"pdf\",\"landau\",110,140);\n",
    "if (fit == 3) TF1 *pdf = new TF1(\"pdf\",\"expo\",110,140);\n",
    "if (fit == 4) {\n",
    "    TF1 *pdf = new TF1(\"pdf\",\"myBWDist\",110,140,3);\n",
    "    pdf->SetParameters(1,1,1);\n",
    "    //pdf->SetParameters(1,h_data->GetStdDev(),h_data->GetMean());\n",
    "    //pdf->FixParameter(1,h_data->GetMean());\n",
    "    //pdf->FixParameter(2,h_data->GetStdDev());\n",
    "    //pdf->SetParLimits(1,122.0,125.0);\n",
    "    //pdf->SetParLimits(2,1,2);\n",
    "    pdf->SetParNames (\"Constant\",\"Mean\",\"Gamma\");\n",
    "}\n",
    "\n",
    "h_data->Fit(\"pdf\",\"R\");\n",
    "pdf->SetTitle(\"Fit\");\n",
    "\n",
    "//Histograma que representa la PDF. Toma los cortes en x de los centros de los bines y los evalua en la PDF para obtener la altura de los bines.\n",
    "TH1F *h_data_f = new TH1F(\"h_data_f\",\"Test random numbers\",n,min_data,max_data);\n",
    "for (int i=1; i<n+1; i++) h_data_f->SetBinContent(i,pdf->Eval(h_data->GetXaxis()->GetBinCenter(i)));\n",
    "//h_data_f->Draw(\"SAME E1\");\n",
    "c1->Draw();"
   ]
  },
  {
   "cell_type": "code",
   "execution_count": 11,
   "metadata": {},
   "outputs": [],
   "source": [
    "// TFile myfile(\"fillrandom.root\",\"RECREATE\");\n",
    "// pdf->Write();\n",
    "// h_data_f->Write();"
   ]
  },
  {
   "cell_type": "code",
   "execution_count": 12,
   "metadata": {},
   "outputs": [
    {
     "name": "stdout",
     "output_type": "stream",
     "text": [
      "Chi2 = 0.105750, Prob = 0.991139, NDF = 3, igood = 2\n"
     ]
    },
    {
     "name": "stderr",
     "output_type": "stream",
     "text": [
      "Info in <TH1D::Chi2TestX>: There is a bin in h2 with less than 1 event.\n",
      "\n"
     ]
    }
   ],
   "source": [
    "//apply the chi2 test and retrieve the residuals\n",
    "Double_t res[n], x[n];\n",
    "h_data->Chi2Test(h_data_f,\"UU P\",res);"
   ]
  },
  {
   "cell_type": "code",
   "execution_count": 13,
   "metadata": {},
   "outputs": [
    {
     "data": {
      "image/png": "[encoded data removed]",
      "text/plain": [
       "<IPython.core.display.Image object>"
      ]
     },
     "metadata": {},
     "output_type": "display_data"
    }
   ],
   "source": [
    "//Graph for Residuals\n",
    "for (Int_t i=0; i<n; i++) x[i]= 4.+i*12./20.+12./40.;\n",
    "TGraph *resgr = new TGraph(n,x,res);\n",
    "resgr->GetXaxis()->SetRangeUser(4,16);\n",
    "resgr->GetYaxis()->SetRangeUser(-3.5,3.5);\n",
    "resgr->GetYaxis()->SetTitle(\"Normalized Residuals\");\n",
    "resgr->SetMarkerStyle(21);\n",
    "resgr->SetMarkerColor(2);\n",
    "resgr->SetMarkerSize(.9);\n",
    "resgr->SetTitle(\"Normalized Residuals\");\n",
    " \n",
    "//Quantile-Quantile plot\n",
    "TF1 *f = new TF1(\"f\",\"TMath::Gaus(x,0,1)\",-10,10);\n",
    "TGraphQQ *qqplot = new TGraphQQ(n,res,f);\n",
    "qqplot->SetMarkerStyle(20);\n",
    "qqplot->SetMarkerColor(2);\n",
    "qqplot->SetMarkerSize(.9);\n",
    "qqplot->SetTitle(\"Q-Q plot of Normalized Residuals\");\n",
    " \n",
    "//create Canvas\n",
    "TCanvas *c2 = new TCanvas(\"c2\",\"Chistat Plot\",10,10,700,600);\n",
    "c2->Divide(2,2);\n",
    " \n",
    "// Draw Histogramms and Graphs\n",
    "c2->cd(1);\n",
    "h_data->SetMarkerColor(4);\n",
    "h_data->SetMarkerStyle(20);\n",
    " \n",
    "h_data->Draw(\"E\");\n",
    " \n",
    "c2->cd(2);\n",
    "h_data_f->Draw(\"E\");\n",
    "h_data_f->SetMarkerColor(4);\n",
    "h_data_f->SetMarkerStyle(20);\n",
    " \n",
    "c2->cd(3);\n",
    "gPad->SetGridy();\n",
    "resgr->Draw(\"APL\");\n",
    " \n",
    "c2->cd(4);\n",
    "qqplot->Draw(\"AP\");\n",
    " \n",
    "c2->cd(0);\n",
    "\n",
    "c2->Draw();\n",
    "c2->Update();"
   ]
  },
  {
   "cell_type": "code",
   "execution_count": null,
   "metadata": {},
   "outputs": [],
   "source": []
  },
  {
   "cell_type": "code",
   "execution_count": null,
   "metadata": {},
   "outputs": [],
   "source": []
  },
  {
   "cell_type": "code",
   "execution_count": null,
   "metadata": {},
   "outputs": [],
   "source": []
  },
  {
   "cell_type": "code",
   "execution_count": null,
   "metadata": {},
   "outputs": [],
   "source": []
  },
  {
   "cell_type": "code",
   "execution_count": null,
   "metadata": {},
   "outputs": [],
   "source": []
  },
  {
   "cell_type": "markdown",
   "metadata": {},
   "source": [
    "Esqueleto del código:\n",
    "https://root.cern/doc/v610/fillrandom_8C.html\n",
    "\n",
    "Ejemplo aplicación Chi2:\n",
    "https://root.cern/doc/v610/chi2test_8C_source.html\n",
    "http://www.hep.by/root/TH1.html#TH1:Chi2Test\n",
    "http://citeseerx.ist.psu.edu/viewdoc/download?doi=10.1.1.173.6388&rep=rep1&type=pdf\n",
    "https://arxiv.org/pdf/physics/0605123.pdf\n",
    "\n",
    "Funciones pruebas de bondad:\n",
    "KolmogorovTest\n",
    "Chi2Test\n",
    "\n",
    "Información sobre histogramas y ajustes con ROOT:\n",
    "http://hadron.physics.fsu.edu/~skpark/document/ROOT/RootLecture/RootLecture290305.pdf"
   ]
  },
  {
   "cell_type": "code",
   "execution_count": null,
   "metadata": {},
   "outputs": [],
   "source": []
  }
 ],
 "metadata": {
  "kernelspec": {
   "display_name": "ROOT C++",
   "language": "c++",
   "name": "root"
  },
  "language_info": {
   "codemirror_mode": "text/x-c++src",
   "file_extension": ".C",
   "mimetype": " text/x-c++src",
   "name": "c++"
  }
 },
 "nbformat": 4,
 "nbformat_minor": 5
}
