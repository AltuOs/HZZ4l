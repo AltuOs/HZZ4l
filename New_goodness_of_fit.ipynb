{
 "cells": [
  {
   "cell_type": "code",
   "execution_count": null,
   "metadata": {},
   "outputs": [],
   "source": [
    "%jsroot off"
   ]
  },
  {
   "cell_type": "code",
   "execution_count": null,
   "metadata": {},
   "outputs": [],
   "source": [
    "#include<TFile.h>\n",
    "#include<TH1.h>\n",
    "#include<TMath.h>\n",
    "#include<math.h>\n",
    "#include<TF1.h>\n",
    "#include<TLine.h>\n",
    "#include<TStyle.h>\n",
    "#include<TPoint.h>\n",
    "#include<iostream>\n",
    "#include<string>\n",
    "#include<stdio.h>"
   ]
  },
  {
   "cell_type": "code",
   "execution_count": null,
   "metadata": {},
   "outputs": [],
   "source": [
    "// Selección de fit:\n",
    "const Int_t fit = 1; // Opciones: 1: Gauss. 2: Breit Wigner."
   ]
  },
  {
   "cell_type": "code",
   "execution_count": null,
   "metadata": {},
   "outputs": [],
   "source": [
    "void PrintCanvas(TCanvas* c1, string title) {\n",
    "    string outFolder=\"Optimization\";\n",
    "    string tpng = outFolder+\"/\"+title+\".png\";\n",
    "    c1->SaveAs(tpng.c_str());\n",
    "\n",
    "    string tpdf = outFolder+\"/\"+title+\".pdf\";\n",
    "    c1->SaveAs(tpdf.c_str());\n",
    "\n",
    "    string troot = outFolder+\"/\"+title+\".root\";\n",
    "    c1->SaveAs(troot.c_str());\n",
    "    \n",
    "    return;\n",
    "}"
   ]
  },
  {
   "cell_type": "code",
   "execution_count": null,
   "metadata": {
    "scrolled": false
   },
   "outputs": [],
   "source": [
    "TFile *f = new TFile(\"//Plotting/histograms/mass_four_lep.root\",\"READ\");\n",
    "//f->ls();\n",
    "TH1F * h1 = (TH1F*)f->Get(\"c\");\n",
    "\n",
    "h1->SaveAs(\"Optimization/mass_four_lep.png\");\n",
    "h1->SaveAs(\"Optimization/mass_four_lep.root\");\n",
    "\n",
    "h1->Draw();"
   ]
  },
  {
   "cell_type": "code",
   "execution_count": null,
   "metadata": {},
   "outputs": [],
   "source": [
    "TCanvas *c1 = new TCanvas(\"c1\",\"c1\",900, 600); //este es comodin, por si queremos dibujar algo\n",
    "/*TCanvas *cToys = new TCanvas(\"cToys\",\"cToys\",900, 600); //este lo usaremos para los modelos\n",
    "cToys->Divide(2,1); //lo dividimos en una red the 3x1*/"
   ]
  },
  {
   "cell_type": "code",
   "execution_count": null,
   "metadata": {},
   "outputs": [],
   "source": [
    "c1->cd();\n",
    "//c1->SetGrid();\n",
    "/*gStyle->SetPaperSize(20,26);\n",
    "\n",
    "gStyle->SetPadTopMargin(0.05);\n",
    "gStyle->SetPadRightMargin(0.05); \n",
    "gStyle->SetPadBottomMargin(0.16);\n",
    "gStyle->SetPadLeftMargin(0.16);*/\n",
    "\n",
    "gStyle->SetTitleXOffset(1.5);\n",
    "gStyle->SetTitleYOffset(1.5);\n",
    "\n",
    "//Legendas\n",
    "gStyle->SetOptTitle (0/1);\n",
    "gStyle->SetOptStat(0);\n",
    "gStyle->SetOptFit(1100);\n",
    "\n",
    "gStyle->SetLegendBorderSize(0);\n",
    "gStyle->SetStatFontSize(0.02);\n",
    "gStyle->SetStatW(0.15);\n",
    "gStyle->SetStatBorderSize(0);\n",
    "gStyle->SetStatX(.39); gStyle->SetStatY(.81); // Posición\n",
    "\n",
    "gStyle->SetPalette(1); //opcional: cambia la paleta de colores en los plots."
   ]
  },
  {
   "cell_type": "code",
   "execution_count": null,
   "metadata": {},
   "outputs": [],
   "source": [
    "/*// create the rest plot\n",
    "data->Add(bgd,-1);\n",
    "//h_ratio->GetYaxis()->SetTitle(\"Data - bkg      \");\n",
    "\n",
    "float errore;\n",
    "int nbine = data[fIter->first]->GetNbinsX();\n",
    "for(int i_bin=0;i_bin<=nbine;i_bin++){\n",
    "        errore = data[fIter->first]->GetBinError(i_bin);\n",
    "        h_ratio->SetBinError(i_bin, errore);\n",
    "} \n",
    "\n",
    "TH1F *copy_fit = new TH1F(\"copy_fit\",\"copy_fit\",5500,105,160); //  smooth\n",
    "copy_fit->Eval(fit);\n",
    "copy_fit->SetLineColor(2);\n",
    "copy_fit->SetLineStyle(1);\n",
    "copy_fit->SetLineWidth(2);\n",
    "\n",
    "h_ratio2 = (TH1F*)copy_fit->Clone(\"h_ratio2\");\n",
    "h_ratio2->Add(bgd,-1);\n",
    "delete copy_fit;*/"
   ]
  },
  {
   "cell_type": "code",
   "execution_count": null,
   "metadata": {},
   "outputs": [],
   "source": [
    "Float_t minVal = 110.0; //Valor mínimo del intervalo.\n",
    "Float_t maxVal = 135.0; //Valor máximo del intervalo."
   ]
  },
  {
   "cell_type": "code",
   "execution_count": null,
   "metadata": {},
   "outputs": [],
   "source": [
    "Int_t n = 7;\n",
    "Int_t nbins = 7;\n",
    "TH1D *data = new TH1D(\"data\",\"data\",n,minVal,maxVal); // Histograma de datos.\n",
    "\n",
    "// Con 7 bins:\n",
    "if (n == 7) {  \n",
    "    data->SetBinContent(1, 1);\n",
    "    data->SetBinContent(2, 0);\n",
    "    data->SetBinContent(3, 1);\n",
    "    data->SetBinContent(4, 8);\n",
    "    data->SetBinContent(5, 4);\n",
    "    data->SetBinContent(6, 0);\n",
    "    data->SetBinContent(7, 2);\n",
    "}\n",
    "data->SetName(\"data\");\n",
    "data->GetXaxis()->SetTitle(\"m_{4l} [GeV]\");\n",
    "c1->SetBottomMargin(0.12);\n",
    "data->GetYaxis()->SetTitle(\"Events/5 GeV\");\n",
    "data->SetAxisRange(0,11,\"y\");\n",
    "data->SetLineColor(kBlack);\n",
    "data->SetLineWidth(1);\n",
    "data->SetMarkerStyle(21);\n",
    "data->SetMarkerSize(1);\n",
    "data->SetMarkerColor(kBlack);"
   ]
  },
  {
   "cell_type": "code",
   "execution_count": null,
   "metadata": {},
   "outputs": [],
   "source": [
    "if (fit == 1) {\n",
    "    //PDF de la señal, más info: https://root.cern.ch/root/html524/TMath.html#TMath:Gaus\n",
    "    TF1 *signalModel = new TF1(\"signalModel\",\"[2]*TMath::Gaus(x,[0],[1],1)\",minVal,maxVal);\n",
    "    signalModel->SetParNames (\"mean\",\"sigma\",\"constant\"); //nombres de los parámetros\n",
    "    signalModel->SetParameters(125.0,5.0,1.0); //valores de los parámetros\n",
    "    //signalModel->FixParameter(0,123.8);\n",
    "    signalModel->SetLineColor(kBlack);\n",
    "    signalModel->SetLineWidth(2);\n",
    "}\n",
    "Float_t normSig;\n",
    "if (fit == 2) {\n",
    "    //PDF de la señal, más info: https://root.cern.ch/root/html524/TMath.html#TMath:BreitWigner\n",
    "    TF1 *signalModel = new TF1(\"signalModel\",\"[2]*TMath::BreitWigner(x,[0],[1])\",minVal,maxVal);\n",
    "    signalModel->SetParNames(\"mass\",\"width\",\"constant\"); //nombres de los parámetros\n",
    "    signalModel->SetParameters(125.0,5.0,1.0); //valores de los parámetros\n",
    "    //signalModel->FixParameter(0,123.8);\n",
    "    signalModel->SetLineColor(kBlack);\n",
    "    signalModel->SetLineWidth(2);\n",
    "}"
   ]
  },
  {
   "cell_type": "code",
   "execution_count": null,
   "metadata": {},
   "outputs": [],
   "source": [
    "r = data->Fit(\"signalModel\",  \"LQS\", \"\", minVal, maxVal); // L: likelihood, Q: quiet, reduce printing, S: save fit result\n",
    "r->Print(\"v\");\n",
    "//r->Print();\n",
    "//cout << \"Probabilidad de = \" << TMath::Prob(signalModel->MinFcnValue()) << endl;"
   ]
  },
  {
   "cell_type": "code",
   "execution_count": null,
   "metadata": {},
   "outputs": [],
   "source": [
    "cout << \"Probabilidad de X2= \" << TMath::Prob(signalModel->GetChisquare(),4) << endl;"
   ]
  },
  {
   "cell_type": "code",
   "execution_count": null,
   "metadata": {},
   "outputs": [],
   "source": [
    "TGraphErrors *gr = new TGraphErrors(data);\n",
    "Int_t nPoints = data->GetNbinsX();\n",
    "for (Int_t i=0; i<nPoints; i++){\n",
    "    gr->SetPoint(i, data->GetBinCenter(i+data->FindBin(110)), 0); \n",
    "}\n",
    "(TVirtualFitter::GetFitter())->GetConfidenceIntervals(gr,0.68);\n",
    "gr->SetName(\"gr\");\n",
    "gr->SetFillColor(3);\n",
    "data->Draw(\"E\");\n",
    "gr->Draw(\"E3\");\n",
    "data->Draw(\"E1P SAME\");"
   ]
  },
  {
   "cell_type": "code",
   "execution_count": null,
   "metadata": {},
   "outputs": [],
   "source": [
    "//create legend\n",
    "auto legend = new TLegend(.63,.64,.90,.87);\n",
    "legend->AddEntry(\"data\",\"data\",\"lep\");\n",
    "if (fit == 1) legend->AddEntry(signalModel,\"Gaussian fit\",\"L\");\n",
    "if (fit == 2) legend->AddEntry(signalModel,\"Breit Wigner fit\",\"L\");\n",
    "legend->AddEntry(\"gr\",\"#pm 1 #sigma\",\"f\");\n",
    "legend->Draw(\"SAME\");\n",
    "c1->Draw();\n",
    "PrintCanvas(c1, \"fit\"); // Guardar fit en formato PNG, PDF y ROOT."
   ]
  },
  {
   "cell_type": "markdown",
   "metadata": {},
   "source": [
    "Primero creamos un histograma bidimensional"
   ]
  },
  {
   "cell_type": "code",
   "execution_count": null,
   "metadata": {},
   "outputs": [],
   "source": [
    "Float_t stepMass = 0.5;\n",
    "Float_t stepWidth = 0.25;\n",
    "binMass = int((maxVal-minVal)/stepMass);\n",
    "binWidth = int(10./stepWidth);\n",
    "L_Plot = new TH2D(\"L_Plot\",\"L_Plot\",binMass,minVal-stepMass/2.0,maxVal-stepMass/2.0,binWidth,0.5,10.5);\n",
    "\n",
    "//cout << \"binMass: \" << binMass << endl;\n",
    "//cout << \"binWidth: \" << binWidth << endl;"
   ]
  },
  {
   "cell_type": "markdown",
   "metadata": {},
   "source": [
    "Luego realizamos ajustes fijando tanto la masa como la anchura, de forma que nos permitan obtener el $\\chi^{2}$ en función de dichos parámetros. Sin fijarlos, obtendríamos siempre el valor que más se ajuste a los datos (en el mínimo!).  "
   ]
  },
  {
   "cell_type": "code",
   "execution_count": null,
   "metadata": {
    "scrolled": true
   },
   "outputs": [],
   "source": [
    "//this is for the likelihood con the mass and width\n",
    "L_Plot->Clear();\n",
    "for (Float_t masses = minVal; masses < maxVal; masses+=stepMass){\n",
    "    //cout << \"Filling: externo mass: \"<< masses << \". bin:\" << L_Plot->GetXaxis()->FindBin(masses) << endl;\n",
    "    for (Float_t widths = 0.25; widths < 10.5; widths+=stepWidth){\n",
    "        //cout << \"Filling: interno mass and bin: \" << widths << L_Plot->GetYaxis()->FindBin(widths) << endl;\n",
    "        \n",
    "        for (Int_t i=0; i<3; i++) signalModel->ReleaseParameter(i);\n",
    "        signalModel->FixParameter(0,masses);\n",
    "        signalModel->FixParameter(1,widths);\n",
    "        r = data->Fit(\"signalModel\",\"QLS\");\n",
    "        L_Plot->SetBinContent(L_Plot->FindBin(masses,widths),r->MinFcnValue());\n",
    "    }\n",
    "}"
   ]
  },
  {
   "cell_type": "code",
   "execution_count": null,
   "metadata": {
    "scrolled": false
   },
   "outputs": [],
   "source": [
    "//remove borders..\n",
    "//L_Plot->SetAxisRange(0.5,10,\"y\");\n",
    "//L_Plot->SetAxisRange(0,20,\"z\");\n",
    "L_Plot->SetAxisRange(110,135,\"x\");\n",
    "L_Plot->GetXaxis()->SetTitle(\"m_{4l} [GeV]\");\n",
    "L_Plot->GetYaxis()->SetTitle(\"Width of the signal [GeV]\");\n",
    "c1->SetRightMargin(0.15);\n",
    "L_Plot->GetZaxis()->SetTitle(\"-ln(L)\");\n",
    "L_Plot->Draw(\"colz\");\n",
    "gStyle->SetOptStat(000000);\n",
    "c1->Draw();\n",
    "PrintCanvas(c1, \"2D_profile_likelihood\"); // Guardar 2D_hyperspace en formato PNG, PDF y ROOT."
   ]
  },
  {
   "cell_type": "code",
   "execution_count": null,
   "metadata": {},
   "outputs": [],
   "source": [
    "auto c2=new TCanvas(\"Canvas2\",\"Canvas2\",900,600);\n",
    "c2->Divide(2,2);\n",
    "c2->cd(1); L_Plot->ProjectionX()->Draw(\"E\");\n",
    "c2->cd(2); L_Plot->ProjectionY()->Draw(\"E\");\n",
    "c2->cd(3); L_Plot->ProfileX()->Draw(\"E\");\n",
    "c2->cd(4); L_Plot->ProfileY()->Draw(\"E\");\n",
    "c2->Draw();"
   ]
  },
  {
   "cell_type": "markdown",
   "metadata": {},
   "source": [
    "Cuando se realiza una proyección a lo largo de la dirección x(y), para cada ubicación a lo largo del eje x(y), se suman todos los contenidos de la ubicación a lo largo del eje y(x).\n",
    "Cuando se realiza un perfil a lo largo de la dirección x(y), para cada contenedor a lo largo del eje x(y), el promedio de todos los contenidos del contenedor a lo largo de y(x) se calcula junto con su valor eficaz y se muestra como un símbolo con barra de error.\n",
    "https://root.cern.ch/root/htmldoc/guides/primer/ROOTPrimer.html"
   ]
  },
  {
   "cell_type": "code",
   "execution_count": null,
   "metadata": {},
   "outputs": [],
   "source": [
    "c1->cd();\n",
    "// remove borders..\n",
    "L_Plot->SetAxisRange(0.5,10,\"y\");\n",
    "L_Plot->SetAxisRange(115,128,\"x\");\n",
    "L_Plot->GetXaxis()->SetTitle(\"m_{4l} [GeV]\");\n",
    "L_Plot->GetYaxis()->SetTitle(\"Width of the signal [GeV]\");\n",
    "L_Plot->GetZaxis()->SetTitle(\"-ln(L)\");\n",
    "L_Plot->Draw(\"surf2\");\n",
    "gStyle->SetOptStat(000000);\n",
    "c1->Draw();\n",
    "PrintCanvas(c1, \"3D_profile_likelihood_1\"); // Guardar 3D_hyperspace en formato PNG, PDF y ROOT."
   ]
  },
  {
   "cell_type": "code",
   "execution_count": null,
   "metadata": {},
   "outputs": [],
   "source": [
    "// remove borders..\n",
    "L_Plot->SetAxisRange(0.5,10,\"y\");\n",
    "L_Plot->SetAxisRange(115,128,\"x\");\n",
    "L_Plot->GetXaxis()->SetTitle(\"m_{4l} [GeV]\");\n",
    "L_Plot->GetYaxis()->SetTitle(\"Width of the signal [GeV]\");\n",
    "L_Plot->GetZaxis()->SetTitle(\"-ln(L)\");\n",
    "L_Plot->Draw(\"surf3\");\n",
    "gStyle->SetOptStat(000000);\n",
    "c1->Draw();\n",
    "PrintCanvas(c1, \"3D_profile_likelihood_2\"); // Guardar 3D_hyperspace en formato PNG, PDF y ROOT."
   ]
  },
  {
   "cell_type": "code",
   "execution_count": null,
   "metadata": {},
   "outputs": [],
   "source": []
  }
 ],
 "metadata": {
  "kernelspec": {
   "display_name": "ROOT C++",
   "language": "c++",
   "name": "root"
  },
  "language_info": {
   "codemirror_mode": "text/x-c++src",
   "file_extension": ".C",
   "mimetype": " text/x-c++src",
   "name": "c++"
  }
 },
 "nbformat": 4,
 "nbformat_minor": 2
}
