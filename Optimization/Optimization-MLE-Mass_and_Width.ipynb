{
 "cells": [
  {
   "cell_type": "markdown",
   "metadata": {},
   "source": [
    "### Optimization-MLE-Mass_and_Width code\n",
    "#### Author: Oscar Altuve (ULA - VENEZUELA 2021)\n",
    "DISCLAIMER:\n",
    "Under no circumstances does it qualify to reproduce actual ATLAS analysis results or produce publishable results!"
   ]
  },
  {
   "cell_type": "markdown",
   "metadata": {},
   "source": [
    "Antes de ejecutar el cuaderno se debe correr el código de \"Analysis\" y \"Plotting\". Debe asegurarse de que el código de “Analysis” en la celda 6, esté configurado a la creación del histograma “mass_four_lep” entre el rango (110, 135) GeV y 7 bines. Esto es, la línea de código:\n",
    "\n",
    "`TH1F *mass_four_lep      = new TH1F(\"mass_four_lep\",    \"Mass of four-lepton system; m_{4l} [GeV];Events / bin\", 7, 110, 135);`"
   ]
  },
  {
   "cell_type": "code",
   "execution_count": null,
   "metadata": {},
   "outputs": [],
   "source": [
    "%jsroot off"
   ]
  },
  {
   "cell_type": "code",
   "execution_count": null,
   "metadata": {},
   "outputs": [],
   "source": [
    "#include<TFile.h>\n",
    "#include<TH1.h>\n",
    "#include<TMath.h>\n",
    "#include<math.h>\n",
    "#include<TF1.h>\n",
    "#include<TLine.h>\n",
    "#include<TStyle.h>\n",
    "#include<TPoint.h>\n",
    "#include<iostream>\n",
    "#include<string>\n",
    "#include<stdio.h>"
   ]
  },
  {
   "cell_type": "markdown",
   "metadata": {},
   "source": [
    "#### Selección función de densidad de probabilidad (PDF, por sus siglas en inglés) a ajustar mediante el método de máxima verosimilitud (Likelihood, por su traducción del inglés) sobre los datos:"
   ]
  },
  {
   "cell_type": "code",
   "execution_count": null,
   "metadata": {},
   "outputs": [],
   "source": [
    "const Int_t fit = 2; // Opciones: 1: Gauss. 2: Breit Wigner."
   ]
  },
  {
   "cell_type": "markdown",
   "metadata": {},
   "source": [
    "Función que guarda histogramas en formato .png, .pdf y .root en la caperta \"Optimization/histograms/\":"
   ]
  },
  {
   "cell_type": "code",
   "execution_count": null,
   "metadata": {},
   "outputs": [],
   "source": [
    "void PrintCanvas(TCanvas* c1, string title) {\n",
    "    string outFolder=\"histograms/\";\n",
    "    string tpng = outFolder+\"/\"+title+\".png\";\n",
    "    c1->SaveAs(tpng.c_str());\n",
    "\n",
    "    string tpdf = outFolder+\"/\"+title+\".pdf\";\n",
    "    c1->SaveAs(tpdf.c_str());\n",
    "\n",
    "    string troot = outFolder+\"/\"+title+\".root\";\n",
    "    c1->SaveAs(troot.c_str());\n",
    "    \n",
    "    return;\n",
    "}"
   ]
  },
  {
   "cell_type": "markdown",
   "metadata": {},
   "source": [
    "#### Lectura y dibujado del histograma \"mass_four_lep.root\" obtenido en el cuaderno de Jupyter de \"Plotting\":"
   ]
  },
  {
   "cell_type": "code",
   "execution_count": null,
   "metadata": {
    "scrolled": false
   },
   "outputs": [],
   "source": [
    "TFile *f = new TFile(\"//../Plotting/histograms/mass_four_lep.root\",\"READ\");\n",
    "//f->ls();\n",
    "TH1F * h1 = (TH1F*)f->Get(\"c\");\n",
    "\n",
    "// Guardar histograma en formato .png y .root en la carpeta \"Optimization/histograms/\".\n",
    "h1->SaveAs(\"histograms/mass_four_lep.png\");\n",
    "h1->SaveAs(\"histograms/mass_four_lep.root\");\n",
    "\n",
    "h1->Draw();"
   ]
  },
  {
   "cell_type": "code",
   "execution_count": null,
   "metadata": {},
   "outputs": [],
   "source": [
    "TCanvas *c1 = new TCanvas(\"c1\",\"c1\",900, 600); // Creación de Canvas para la representación del ajuste."
   ]
  },
  {
   "cell_type": "markdown",
   "metadata": {},
   "source": [
    "Estilo de gráficos:"
   ]
  },
  {
   "cell_type": "code",
   "execution_count": null,
   "metadata": {},
   "outputs": [],
   "source": [
    "gROOT->ForceStyle();\n",
    "\n",
    "c1->cd();\n",
    "//c1->SetGrid();\n",
    "\n",
    "// Tamaño y margenes del pad\n",
    "gStyle->SetPaperSize(20,26);\n",
    "gStyle->SetPadTopMargin(0.05);\n",
    "gStyle->SetPadRightMargin(0.05); \n",
    "gStyle->SetPadBottomMargin(0.16);\n",
    "gStyle->SetPadLeftMargin(0.16);\n",
    "\n",
    "// Distancia entre el eje y el título del eje\n",
    "gStyle->SetTitleXOffset(1.4);\n",
    "gStyle->SetTitleYOffset(1.4);\n",
    "\n",
    "// Tamaño de título y etiquetas de los ejes X, Y y Z\n",
    "gStyle->SetLabelSize(0.04,\"XYZ\");\n",
    "gStyle->SetTitleSize(0.04,\"XYZ\");\n",
    "\n",
    "// Formato de fuente\n",
    "gStyle->SetTextFont(42);\n",
    "\n",
    "//////////////////////////\n",
    "// Legendas:\n",
    "gStyle->SetOptTitle (0/1); // sin título\n",
    "gStyle->SetOptStat(0); // No muestra estadística\n",
    "gStyle->SetOptFit(1100); // Muestra chi^2/número de grados de libertar y p-value\n",
    "\n",
    "gStyle->SetLegendBorderSize(0); // Tamaño de bordes de la leyenda\n",
    "gStyle->SetStatFontSize(0.02); // tamaño de fuentes\n",
    "gStyle->SetStatW(0.15); // ancho de la leyenda\n",
    "gStyle->SetStatBorderSize(0); // Tamaño de bordes de la leyenda con información del ajuste\n",
    "gStyle->SetStatX(.41); gStyle->SetStatY(.81); // Posición\n",
    "\n",
    "gStyle->SetPalette(1); //opcional: cambia la paleta de colores en los plots."
   ]
  },
  {
   "cell_type": "markdown",
   "metadata": {},
   "source": [
    "Rango del histograma: entre 110 GeV y 135 GeV."
   ]
  },
  {
   "cell_type": "code",
   "execution_count": null,
   "metadata": {},
   "outputs": [],
   "source": [
    "Float_t minVal = 110.0; //Valor mínimo del intervalo.\n",
    "Float_t maxVal = 135.0; //Valor máximo del intervalo."
   ]
  },
  {
   "cell_type": "markdown",
   "metadata": {},
   "source": [
    "#### Construcción de histograma de candidatos a bosón de Higgs. El tratamiento se dio al histograma mostrado en la celda anterior, al que se sustrajo el fondo simulado de MC (barras azul y morada) a los datos experimentales. Obteniéndose:"
   ]
  },
  {
   "cell_type": "code",
   "execution_count": null,
   "metadata": {},
   "outputs": [],
   "source": [
    "// Representación de eventos candidatos a bosón de Higgs:\n",
    "Int_t n = 7;\n",
    "Int_t nbins = 7;\n",
    "TH1D *data = new TH1D(\"data\",\"data\",n,minVal,maxVal); // Histograma de datos.\n",
    "\n",
    "// Con 7 bins:\n",
    "if (n == 7) {  \n",
    "    data->SetBinContent(1, 1);\n",
    "    data->SetBinContent(2, 0);\n",
    "    data->SetBinContent(3, 1);\n",
    "    data->SetBinContent(4, 8);\n",
    "    data->SetBinContent(5, 4);\n",
    "    data->SetBinContent(6, 0);\n",
    "    data->SetBinContent(7, 2);\n",
    "}\n",
    "\n",
    "// Ajuste de etiquetas y estilo\n",
    "data->SetName(\"data\");\n",
    "data->GetXaxis()->SetTitle(\"m_{4l} [GeV]\");\n",
    "c1->SetBottomMargin(0.12);\n",
    "data->GetYaxis()->SetTitle(\"Events/5 GeV\");\n",
    "c1->SetLeftMargin(0.12);\n",
    "data->SetAxisRange(0,11,\"y\");\n",
    "data->SetLineColor(kBlack);\n",
    "data->SetLineWidth(1);\n",
    "data->SetMarkerStyle(21);\n",
    "data->SetMarkerSize(1);\n",
    "data->SetMarkerColor(kBlack);"
   ]
  },
  {
   "cell_type": "markdown",
   "metadata": {},
   "source": [
    "Definición de PDF’s y parámetros a usar:"
   ]
  },
  {
   "cell_type": "code",
   "execution_count": null,
   "metadata": {},
   "outputs": [],
   "source": [
    "if (fit == 1) {\n",
    "    //PDF de la señal, más info: https://root.cern.ch/root/html524/TMath.html#TMath:Gaus\n",
    "    TF1 *signalModel = new TF1(\"signalModel\",\"[2]*TMath::Gaus(x,[0],[1],1)\",minVal,maxVal);\n",
    "    signalModel->SetParNames (\"mean\",\"sigma\",\"constant\"); //nombres de los parámetros\n",
    "    signalModel->SetParameters(125.0,5.0,1.0); //valores de los parámetros\n",
    "    //signalModel->FixParameter(0,123.8);\n",
    "    signalModel->SetLineColor(kBlack);\n",
    "    signalModel->SetLineWidth(2);\n",
    "}\n",
    "if (fit == 2) {\n",
    "    //PDF de la señal, más info: https://root.cern.ch/root/html524/TMath.html#TMath:BreitWigner\n",
    "    TF1 *signalModel = new TF1(\"signalModel\",\"[2]*TMath::BreitWigner(x,[0],[1])\",minVal,maxVal);\n",
    "    signalModel->SetParNames(\"mass\",\"width\",\"constant\"); //nombres de los parámetros\n",
    "    signalModel->SetParameters(125.0,5.0,1.0); //valores de los parámetros\n",
    "    //signalModel->FixParameter(0,123.8);\n",
    "    signalModel->SetLineColor(kBlack);\n",
    "    signalModel->SetLineWidth(2);\n",
    "}"
   ]
  },
  {
   "cell_type": "markdown",
   "metadata": {},
   "source": [
    "Configuración del ajuste de Likelihood y pintado de los resultados del ajuste:"
   ]
  },
  {
   "cell_type": "code",
   "execution_count": null,
   "metadata": {},
   "outputs": [],
   "source": [
    "r = data->Fit(\"signalModel\",  \"LQS\", \"\", minVal, maxVal); // L: likelihood, Q: quiet, reduce printing, S: save fit result\n",
    "r->Print(\"v\");\n",
    "data->Draw(\"E\");\n",
    "//r->Print();"
   ]
  },
  {
   "cell_type": "markdown",
   "metadata": {},
   "source": [
    "Cálculo del p-value, conocido $\\chi^{2}$:"
   ]
  },
  {
   "cell_type": "code",
   "execution_count": null,
   "metadata": {},
   "outputs": [],
   "source": [
    "cout << \"p-value = \" << TMath::Prob(signalModel->GetChisquare(),signalModel->GetNDF()) << endl;"
   ]
  },
  {
   "cell_type": "markdown",
   "metadata": {},
   "source": [
    "Si el ajuste es con la PDF de Gauss, calcula la anchura a media altura (FWHM, por sus siglas en inglés) con su incertidumbre relativa."
   ]
  },
  {
   "cell_type": "code",
   "execution_count": null,
   "metadata": {},
   "outputs": [],
   "source": [
    "if (fit == 1) cout << \"FWHM = \" << 2.35*signalModel->GetParameter(1) << \" +/- \" << 2.35*signalModel->GetParError(1) << \" GeV\" << endl;"
   ]
  },
  {
   "cell_type": "markdown",
   "metadata": {},
   "source": [
    "Representación de granja de intervalo de confianza $\\pm 1\\sigma$ (verde) y $\\pm 2\\sigma$ (gris):"
   ]
  },
  {
   "cell_type": "code",
   "execution_count": null,
   "metadata": {},
   "outputs": [],
   "source": [
    "TGraphErrors *gr = new TGraphErrors(data);\n",
    "Int_t nPoints = data->GetNbinsX();\n",
    "for (Int_t i=0; i<nPoints; i++){\n",
    "    gr->SetPoint(i, data->GetBinCenter(i+data->FindBin(110)), 0); \n",
    "}\n",
    "(TVirtualFitter::GetFitter())->GetConfidenceIntervals(gr,0.68);\n",
    "gr->SetName(\"gr\");\n",
    "gr->SetFillColor(3);\n",
    "\n",
    "if (fit == 2) {\n",
    "    TGraphErrors *gr2 = new TGraphErrors(data);\n",
    "    for (Int_t i=0; i<nPoints; i++){\n",
    "        gr2->SetPoint(i, data->GetBinCenter(i+data->FindBin(110)), 0); \n",
    "    }\n",
    "    (TVirtualFitter::GetFitter())->GetConfidenceIntervals(gr2,0.95);\n",
    "    gr2->SetName(\"gr2\");\n",
    "    gr2->SetFillColor(17);\n",
    "    //gr2->SetFillStyle(3002);\n",
    "    gr2->Draw(\"E3\");\n",
    "}\n",
    "\n",
    "gr->Draw(\"E3\");\n",
    "data->Draw(\"E1P SAME\");"
   ]
  },
  {
   "cell_type": "code",
   "execution_count": null,
   "metadata": {},
   "outputs": [],
   "source": [
    "// Creación y ajuste de leyenda\n",
    "auto legend = new TLegend(.63,.64,.90,.87);\n",
    "legend->AddEntry(\"data\",\"data\",\"lep\");\n",
    "if (fit == 1) legend->AddEntry(signalModel,\"Gaussian fit\",\"L\");\n",
    "if (fit == 2) legend->AddEntry(signalModel,\"Breit Wigner fit\",\"L\");\n",
    "legend->AddEntry(\"gr\",\"#pm 1 #sigma\",\"f\");\n",
    "if (fit == 2) legend->AddEntry(\"gr2\",\"#pm 2 #sigma\",\"f\");\n",
    "legend->Draw(\"SAME\");\n",
    "\n",
    "// Pintado del histograma\n",
    "c1->Draw();\n",
    "PrintCanvas(c1, \"fit\"); // Guardar fit en formato PNG, PDF y ROOT."
   ]
  },
  {
   "cell_type": "markdown",
   "metadata": {},
   "source": [
    "Creación de \"mapa de calor\" que representa el ancho de la señal como función de la masa invariante de los eventos reales candidatos a bosón de Higgs, para distintos valores de $− 𝑙𝑛(\\mathcal{𝐿})$."
   ]
  },
  {
   "cell_type": "code",
   "execution_count": null,
   "metadata": {},
   "outputs": [],
   "source": [
    "Float_t stepMass = 0.5;\n",
    "Float_t stepWidth = 0.25;\n",
    "binMass = int((maxVal-minVal)/stepMass);\n",
    "binWidth = int(10./stepWidth);\n",
    "L_Plot = new TH2D(\"L_Plot\",\"L_Plot\",binMass,minVal-stepMass/2.0,maxVal-stepMass/2.0,binWidth,0.5,10.5);\n",
    "\n",
    "cout << \"binMass: \" << binMass << endl;\n",
    "cout << \"binWidth: \" << binWidth << endl;"
   ]
  },
  {
   "cell_type": "markdown",
   "metadata": {},
   "source": [
    "Ajuste de fijando tanto la masa como la anchura, de forma que nos permitan obtener el $− 𝑙𝑛(\\mathcal{𝐿})$ en función de dichos parámetros. Sin fijarlos, se obtendría siempre el valor que más se ajuste a los datos, esto es: el mínimo."
   ]
  },
  {
   "cell_type": "code",
   "execution_count": null,
   "metadata": {
    "scrolled": true
   },
   "outputs": [],
   "source": [
    "L_Plot->Clear();\n",
    "for (Float_t masses = minVal; masses < maxVal; masses+=stepMass){\n",
    "    //cout << \"Filling: externo mass: \"<< masses << \". bin:\" << L_Plot->GetXaxis()->FindBin(masses) << endl;\n",
    "    for (Float_t widths = 0.25; widths < 10.5; widths+=stepWidth){\n",
    "        //cout << \"Filling: interno mass and bin: \" << widths << L_Plot->GetYaxis()->FindBin(widths) << endl;\n",
    "        \n",
    "        for (Int_t i=0; i<3; i++) signalModel->ReleaseParameter(i);\n",
    "        signalModel->FixParameter(0,masses);\n",
    "        signalModel->FixParameter(1,widths);\n",
    "        r = data->Fit(\"signalModel\",\"QLS\");\n",
    "        L_Plot->SetBinContent(L_Plot->FindBin(masses,widths),r->MinFcnValue());\n",
    "    }\n",
    "}"
   ]
  },
  {
   "cell_type": "code",
   "execution_count": null,
   "metadata": {
    "scrolled": false
   },
   "outputs": [],
   "source": [
    "// Pintado y ajustes de \"mapa de calor\"\n",
    "L_Plot->SetAxisRange(0.5,10.4,\"y\");\n",
    "L_Plot->SetAxisRange(0,30,\"z\");\n",
    "L_Plot->SetAxisRange(110,134.7,\"x\");\n",
    "c1->SetRightMargin(0.15);\n",
    "L_Plot->GetXaxis()->SetTitle(\"m_{4l} [GeV]\");\n",
    "L_Plot->GetYaxis()->SetTitle(\"Width of the signal [GeV]\");\n",
    "c1->SetRightMargin(0.15);\n",
    "L_Plot->GetZaxis()->SetTitle(\"-ln(L)\");\n",
    "L_Plot->Draw(\"colz\");\n",
    "gStyle->SetOptStat(000000);\n",
    "c1->Draw();\n",
    "PrintCanvas(c1, \"2D_profile_likelihood\"); // Guardar 2D_profile_likelihood en formato .png, .pdf y .root."
   ]
  },
  {
   "cell_type": "markdown",
   "metadata": {},
   "source": [
    "#### Representaciones extra:\n",
    "Proyección y perfil en el eje X e Y"
   ]
  },
  {
   "cell_type": "code",
   "execution_count": null,
   "metadata": {},
   "outputs": [],
   "source": [
    "auto c2 = new TCanvas(\"Canvas2\",\"Canvas2\",900,600);\n",
    "c2->Divide(2,2);\n",
    "c2->cd(1); L_Plot->ProjectionX()->Draw(\"E\");\n",
    "c2->cd(2); L_Plot->ProjectionY()->Draw(\"E\");\n",
    "c2->cd(3); L_Plot->ProfileX()->Draw(\"E\");\n",
    "c2->cd(4); L_Plot->ProfileY()->Draw(\"E\");\n",
    "c2->Draw();"
   ]
  },
  {
   "cell_type": "markdown",
   "metadata": {},
   "source": [
    "Proyección: https://root.cern.ch/doc/master/classTH2.html#a974ece9e7d260f92df00a39dba14e5b0\n",
    "\n",
    "Perfil: https://root.cern.ch/doc/master/classTH2.html#a19eb4ae4f4d399b0f4ad820d838de75e"
   ]
  },
  {
   "cell_type": "code",
   "execution_count": null,
   "metadata": {},
   "outputs": [],
   "source": [
    "// Mapa de calor en 3D\n",
    "\n",
    "c1->cd();\n",
    "\n",
    "// remove borders..\n",
    "L_Plot->SetAxisRange(0.5,10,\"y\");\n",
    "\n",
    "L_Plot->Draw(\"surf2\");\n",
    "c1->Draw();\n",
    "PrintCanvas(c1, \"3D_profile_likelihood_1\"); // Guardar 3D_profile_likelihood_1 en formato .png, .pdf y .root."
   ]
  },
  {
   "cell_type": "code",
   "execution_count": null,
   "metadata": {},
   "outputs": [],
   "source": [
    "// // Mapa de calor en 3D\n",
    "\n",
    "L_Plot->Draw(\"surf3\");\n",
    "c1->Draw();\n",
    "PrintCanvas(c1, \"3D_profile_likelihood_2\"); // Guardar 3D_profile_likelihood_2 en formato .png, .pdf y .root."
   ]
  }
 ],
 "metadata": {
  "kernelspec": {
   "display_name": "ROOT C++",
   "language": "c++",
   "name": "root"
  },
  "language_info": {
   "codemirror_mode": "text/x-c++src",
   "file_extension": ".C",
   "mimetype": " text/x-c++src",
   "name": "c++"
  }
 },
 "nbformat": 4,
 "nbformat_minor": 2
}
