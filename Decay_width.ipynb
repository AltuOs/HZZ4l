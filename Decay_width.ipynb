{
 "cells": [
  {
   "cell_type": "code",
   "execution_count": 1,
   "metadata": {},
   "outputs": [],
   "source": [
    "%jsroot on"
   ]
  },
  {
   "cell_type": "code",
   "execution_count": 2,
   "metadata": {},
   "outputs": [],
   "source": [
    "#include<TFile.h>\n",
    "#include<TH1.h>\n",
    "//#include<TMath.h>\n",
    "#include<TLine.h>\n",
    "#include<TPoint.h>\n",
    "#include<iostream>\n",
    "#include<string>\n",
    "#include<stdio.h>"
   ]
  },
  {
   "cell_type": "code",
   "execution_count": 3,
   "metadata": {},
   "outputs": [
    {
     "name": "stdout",
     "output_type": "stream",
     "text": [
      "TH1.Print Name  = mass_four_lep, Entries= 321, Total sum= 33\n"
     ]
    }
   ],
   "source": [
    "TFile *f=new TFile(\"//Analysis/Output_HZZAnalysis/data.root\");\n",
    "//TFile *f = new TFile(\"//Analysis/Output_HZZAnalysis/ggH125_ZZ4lep.root\"); // Prueba MC gg->H125->ZZ->4lep.\n",
    "mass_four_lep->Print(); // Test de lectura de datos"
   ]
  },
  {
   "cell_type": "code",
   "execution_count": 4,
   "metadata": {},
   "outputs": [],
   "source": [
    "// gROOT->SetStyle(\"ATLAS\"); // Establecer estilo.\n",
    "gStyle->SetOptStat(\"emr\"); // Dibujar estadisticas de grafico.\n",
    "gStyle->SetOptFit(1112);"
   ]
  },
  {
   "cell_type": "code",
   "execution_count": 5,
   "metadata": {},
   "outputs": [],
   "source": [
    "TCanvas *c1 = new TCanvas(\"c1\",\"c1\",10,10,900,600);\n",
    "c1->SetGrid();"
   ]
  },
  {
   "cell_type": "code",
   "execution_count": 6,
   "metadata": {},
   "outputs": [],
   "source": [
    "TH1F *m_four_lep = (TH1F*)f->Get(\"mass_four_lep\");\n",
    "Double_t scale = m_four_lep->GetXaxis()->GetBinWidth(1)/(m_four_lep->Integral());\n",
    "m_four_lep->Scale(scale);\n",
    "/*Double_t num = m_four_lep->GetBinContent(i);\n",
    "Double_t den = m_four_lep->GetBinWidth(i);\n",
    "Double_t value = 0;\n",
    "if (den!=0)\n",
    "  {\n",
    "     value = num/den;\n",
    "     m_four_lep->SetBinContent(i,value);\n",
    "}*/\n",
    "//m_four_lep->Draw();\n",
    "m_four_lep->Draw(\"E1\"); // E1: Para representar los puntos con barras de error."
   ]
  },
  {
   "cell_type": "code",
   "execution_count": 7,
   "metadata": {},
   "outputs": [],
   "source": [
    "Int_t fit = 5; // Opciones 0, 1, 2, 3, 4 = Distribuciones"
   ]
  },
  {
   "cell_type": "code",
   "execution_count": 8,
   "metadata": {},
   "outputs": [],
   "source": [
    "Double_t myBW(Double_t* x, Double_t* par) // Distribución de Breit-Wigner relativista\n",
    "{\n",
    "    Double_t arg1 = sqrt(pow(par[2],2)*(pow(par[2],2)+pow(par[1],2))); // Gamma=par[1] M=par[2]\n",
    "    Double_t arg2 = 2*sqrt(2)*par[2]*par[1]*arg1/(TMath::Pi()*sqrt(pow(par[2],2)+arg1));\n",
    "    Double_t arg3 = pow((pow(x[0],2)-pow(par[2],2)),2);\n",
    "    Double_t arg4 = pow(par[2],2)*pow(par[1],2);\n",
    "    return par[0]*arg2/(arg3+arg4);\n",
    "}"
   ]
  },
  {
   "cell_type": "code",
   "execution_count": 9,
   "metadata": {},
   "outputs": [],
   "source": [
    "Double_t myBWDist(Double_t* x, Double_t* par)\n",
    "{   // Double_t x, Double_t mean, Double_t gamma\n",
    "    return par[0]*TMath::BreitWigner(x[0], par[1], par[2]);\n",
    "}"
   ]
  },
  {
   "cell_type": "code",
   "execution_count": 10,
   "metadata": {},
   "outputs": [],
   "source": [
    "Double_t myCauchyDist(Double_t* x, Double_t* par)\n",
    "{   // Double_t x, Double_t t, Double_t s\n",
    "    // t is the location parameter\n",
    "    // s is the scale parameter\n",
    "    return par[0]*TMath::CauchyDist(x[0],par[1],par[2]);\n",
    "}"
   ]
  },
  {
   "cell_type": "code",
   "execution_count": 11,
   "metadata": {},
   "outputs": [],
   "source": [
    "Double_t myGammaDist(Double_t* x, Double_t* par) {\n",
    "    if ((x[0]-par[2]) < 0) {\n",
    "        return 0.0;\n",
    "    } else if ((x[0]-par[2]) == 0) {\n",
    "        if (par[0] == 1) {\n",
    "            return par[3]*(1.0/par[1]);\n",
    "        } else {\n",
    "            return 0.0;\n",
    "        }\n",
    "    } else if (par[0] == 1) {\n",
    "        return  par[3]*(std::exp(-(x[0]-par[2])/par[1])/par[1]);\n",
    "    } else {\n",
    "        return par[3]*(std::exp((par[0] - 1) * std::log((x[0]-par[2])/par[1]) - (x[0]-par[2])/par[1] - ROOT::Math::lgamma(par[0]))/par[1]);\n",
    "    }\n",
    "}"
   ]
  },
  {
   "cell_type": "code",
   "execution_count": 12,
   "metadata": {},
   "outputs": [],
   "source": [
    "Double_t myChisquareDist(Double_t* x, Double_t* par) {\n",
    "       if ((x[0]-par[2]) <  0) {\n",
    "          return 0.0;\n",
    "       }\n",
    "       Double_t a = par[1]/2 -1.;\n",
    "       // let return inf for case x  = x0 and treat special case of r = 2 otherwise will return nan\n",
    "       if (x[0] == par[2] && a == 0) return 0.5;\n",
    " \n",
    "       return par[0]*(std::exp ((par[1]/2 - 1) * std::log((x[0]-par[2])/2) - (x[0]-par[2])/2 - ROOT::Math::lgamma(par[1]/2))/2);\n",
    "}"
   ]
  },
  {
   "cell_type": "code",
   "execution_count": 13,
   "metadata": {},
   "outputs": [],
   "source": [
    "if (fit == 0) {\n",
    "    TF1 *f1 = new TF1(\"f1\",\"myBW\",110,140,3);\n",
    "    f1->SetParameters(1,m_four_lep->GetRMS(),m_four_lep->GetMean());\n",
    "    f1->SetParNames (\"Constant\",\"Root mean square\",\"Mean\"); // OJO con el tipo de parámetro.\n",
    "}\n",
    "if (fit == 1) {TF1 *f1 = new TF1(\"f1\",\"gaus\",110,140);}\n",
    "if (fit == 2) {TF1 *f1 = new TF1(\"f1\",\"landau\",110,140);}\n",
    "if (fit == 3) {\n",
    "    TF1 *f1 = new TF1(\"f1\",\"myCauchyDist\",110,140,3);\n",
    "    f1->SetParameters(1,m_four_lep->GetMean(),m_four_lep->GetRMS());\n",
    "    f1->SetParNames (\"Constant\",\"Mean\",\"Root mean square\"); // OJO con el tipo de parámetro.\n",
    "}\n",
    "\n",
    "// GetStdDev()\n",
    "\n",
    "if (fit == 4) {\n",
    "    TF1 *f1 = new TF1(\"f1\",\"myBWDist\",110,140,3);\n",
    "    f1->SetParameters(1,m_four_lep->GetMean(),m_four_lep->GetRMS());\n",
    "    f1->SetParNames (\"Constant\",\"Mean\",\"Root mean square\"); // OJO con el tipo de parámetro.\n",
    "}\n",
    "if (fit == 5) {\n",
    "    TF1 *f1 = new TF1(\"f1\",\"myChisquareDist\",110,140,3);\n",
    "    f1->SetParameters(1,m_four_lep->GetMean(),m_four_lep->GetRMS());\n",
    "    f1->SetParNames (\"Constant\",\"Mean\",\"Root mean square\"); // OJO con el tipo de parámetro.\n",
    "}\n",
    "if (fit == 6) {//??????????\n",
    "    TF1 *f1 = new TF1(\"f1\",\"myChisquareDist\",110,140,3);\n",
    "    f1->SetParameters(1,m_four_lep->GetMean(),m_four_lep->GetRMS());\n",
    "    f1->SetParNames (\"Constant\",\"Mean\",\"Root mean square\"); // OJO con el tipo de parámetro.\n",
    "}\n",
    "if (fit == 8) {\n",
    "    TF1 *f1= new TF1(\"f1\",\"myGammaDist\",110,140,4);\n",
    "    f1->SetParameters(1,m_four_lep->GetMean(),m_four_lep->GetRMS(),1);\n",
    "   // fit1->SetParNames(\"\",Mean\",\"RMS\",\"Constant\");       \n",
    "}"
   ]
  },
  {
   "cell_type": "code",
   "execution_count": 14,
   "metadata": {},
   "outputs": [
    {
     "name": "stdout",
     "output_type": "stream",
     "text": [
      " FCN=5.0536 FROM MIGRAD    STATUS=CONVERGED     139 CALLS         140 TOTAL\n",
      "                     EDM=3.80407e-09    STRATEGY= 1      ERROR MATRIX ACCURATE \n",
      "  EXT PARAMETER                                   STEP         FIRST   \n",
      "  NO.   NAME      VALUE            ERROR          SIZE      DERIVATIVE \n",
      "   1  Constant     2.90525e+00   5.75812e-01   6.60228e-04   1.51256e-04\n",
      "   2  Mean         2.90376e+01   1.41648e+01   2.00593e-03  -1.03188e-05\n",
      "   3  Root mean square   9.52208e+01   1.34994e+01   1.90393e-03  -9.32723e-06\n"
     ]
    }
   ],
   "source": [
    "m_four_lep->Fit(\"f1\",\"R\"); // Puede usarse V para agregar más detalles estadísticos.\n",
    "f1->SetLineColor(kRed);"
   ]
  },
  {
   "cell_type": "code",
   "execution_count": 15,
   "metadata": {},
   "outputs": [],
   "source": [
    "// Print the full information of the fit including covariance matrix.\n",
    "// f1->Print(\"V\"); \n",
    "\n",
    "// Store the result in a ROOT file.\n",
    "//f1->Write(); "
   ]
  },
  {
   "cell_type": "code",
   "execution_count": 16,
   "metadata": {
    "scrolled": false
   },
   "outputs": [
    {
     "data": {
      "text/html": [
       "\n",
       "<div id=\"root_plot_1\"\n",
       "     style=\"width: 896px; height: 572px\">\n",
       "</div>\n",
       "\n",
       "<script>\n",
       " requirejs.config({\n",
       "     paths: {\n",
       "       'JSRootCore' : 'https://root.cern.ch/js/notebook//scripts/JSRootCore',\n",
       "     }\n",
       "   });\n",
       " require(['JSRootCore'],\n",
       "     function(Core) {\n",
       "       var obj = Core.JSONR_unref({\"_typename\":\"TCanvas\",\"fUniqueID\":0,\"fBits\":53673992,\"fLineColor\":1,\"fLineStyle\":1,\"fLineWidth\":1,\"fFillColor\":0,\"fFillStyle\":1001,\"fLeftMargin\":0.1,\"fRightMargin\":0.1,\"fBottomMargin\":0.1,\"fTopMargin\":0.1,\"fXfile\":2,\"fYfile\":2,\"fAfile\":1,\"fXstat\":0.99,\"fYstat\":0.99,\"fAstat\":2,\"fFrameFillColor\":0,\"fFrameLineColor\":1,\"fFrameFillStyle\":1001,\"fFrameLineStyle\":1,\"fFrameLineWidth\":1,\"fFrameBorderSize\":1,\"fFrameBorderMode\":0,\"fX1\":106.249999720603,\"fY1\":-0.0914945854746916,\"fX2\":143.750000279397,\"fY2\":0.579871640119636,\"fXtoAbsPixelk\":-2538.66657216186,\"fXtoPixelk\":-2538.66657216186,\"fXtoPixel\":23.8933329772949,\"fYtoAbsPixelk\":494.047211599179,\"fYtoPixelk\":494.047211599179,\"fYtoPixel\":-851.994005944574,\"fUtoAbsPixelk\":5e-5,\"fUtoPixelk\":5e-5,\"fUtoPixel\":896,\"fVtoAbsPixelk\":572.00005,\"fVtoPixelk\":572,\"fVtoPixel\":-572,\"fAbsPixeltoXk\":106.249999720603,\"fPixeltoXk\":106.249999720603,\"fPixeltoX\":0.0418526791950821,\"fAbsPixeltoYk\":0.579871640119636,\"fPixeltoYk\":-0.0914945854746916,\"fPixeltoY\":-0.00117371717761246,\"fXlowNDC\":0,\"fYlowNDC\":0,\"fXUpNDC\":0,\"fYUpNDC\":0,\"fWNDC\":1,\"fHNDC\":1,\"fAbsXlowNDC\":0,\"fAbsYlowNDC\":0,\"fAbsWNDC\":1,\"fAbsHNDC\":1,\"fUxmin\":110,\"fUymin\":-0.0243579589136041,\"fUxmax\":140,\"fUymax\":0.512735013558549,\"fTheta\":30,\"fPhi\":30,\"fAspectRatio\":0,\"fNumber\":0,\"fTickx\":0,\"fTicky\":0,\"fLogx\":0,\"fLogy\":0,\"fLogz\":0,\"fPadPaint\":0,\"fCrosshair\":0,\"fCrosshairPos\":0,\"fBorderSize\":2,\"fBorderMode\":0,\"fModified\":false,\"fGridx\":true,\"fGridy\":true,\"fAbsCoord\":false,\"fEditable\":true,\"fFixedAspectRatio\":false,\"fPrimitives\":{\"_typename\":\"TList\",\"name\":\"TList\",\"arr\":[{\"_typename\":\"TFrame\",\"fUniqueID\":0,\"fBits\":50331656,\"fLineColor\":1,\"fLineStyle\":1,\"fLineWidth\":1,\"fFillColor\":0,\"fFillStyle\":1001,\"fX1\":110,\"fY1\":-0.0243579589136041,\"fX2\":140,\"fY2\":0.512735013558549,\"fBorderSize\":1,\"fBorderMode\":0},{\"_typename\":\"TH1F\",\"fUniqueID\":0,\"fBits\":50331656,\"fName\":\"mass_four_lep\",\"fTitle\":\"Mass of four-lepton system\",\"fLineColor\":602,\"fLineStyle\":1,\"fLineWidth\":1,\"fFillColor\":0,\"fFillStyle\":1001,\"fMarkerColor\":1,\"fMarkerStyle\":1,\"fMarkerSize\":1,\"fNcells\":20,\"fXaxis\":{\"_typename\":\"TAxis\",\"fUniqueID\":0,\"fBits\":50331648,\"fName\":\"xaxis\",\"fTitle\":\" m_{4l} [GeV]\",\"fNdivisions\":510,\"fAxisColor\":1,\"fLabelColor\":1,\"fLabelFont\":42,\"fLabelOffset\":0.005,\"fLabelSize\":0.035,\"fTickLength\":0.03,\"fTitleOffset\":1,\"fTitleSize\":0.035,\"fTitleColor\":1,\"fTitleFont\":42,\"fNbins\":18,\"fXmin\":110,\"fXmax\":140,\"fXbins\":[],\"fFirst\":0,\"fLast\":0,\"fBits2\":0,\"fTimeDisplay\":false,\"fTimeFormat\":\"\",\"fLabels\":null,\"fModLabs\":null},\"fYaxis\":{\"_typename\":\"TAxis\",\"fUniqueID\":0,\"fBits\":50331648,\"fName\":\"yaxis\",\"fTitle\":\"Events \\/ bin\",\"fNdivisions\":510,\"fAxisColor\":1,\"fLabelColor\":1,\"fLabelFont\":42,\"fLabelOffset\":0.005,\"fLabelSize\":0.035,\"fTickLength\":0.03,\"fTitleOffset\":0,\"fTitleSize\":0.035,\"fTitleColor\":1,\"fTitleFont\":42,\"fNbins\":1,\"fXmin\":0,\"fXmax\":1,\"fXbins\":[],\"fFirst\":0,\"fLast\":0,\"fBits2\":0,\"fTimeDisplay\":false,\"fTimeFormat\":\"\",\"fLabels\":null,\"fModLabs\":null},\"fZaxis\":{\"_typename\":\"TAxis\",\"fUniqueID\":0,\"fBits\":50331648,\"fName\":\"zaxis\",\"fTitle\":\"\",\"fNdivisions\":510,\"fAxisColor\":1,\"fLabelColor\":1,\"fLabelFont\":42,\"fLabelOffset\":0.005,\"fLabelSize\":0.035,\"fTickLength\":0.03,\"fTitleOffset\":1,\"fTitleSize\":0.035,\"fTitleColor\":1,\"fTitleFont\":42,\"fNbins\":1,\"fXmin\":0,\"fXmax\":1,\"fXbins\":[],\"fFirst\":0,\"fLast\":0,\"fBits2\":0,\"fTimeDisplay\":false,\"fTimeFormat\":\"\",\"fLabels\":null,\"fModLabs\":null},\"fBarOffset\":0,\"fBarWidth\":1000,\"fEntries\":321,\"fTsumw\":33,\"fTsumw2\":33,\"fTsumwx\":4110.37303161621,\"fTsumwx2\":513226.357802292,\"fMaximum\":-1111,\"fMinimum\":-1111,\"fNormFactor\":0,\"fContour\":[],\"fSumw2\":[0.107131925313743,0.0025507601265177,0.0025507601265177,0.0025507601265177,0,0,0.0051015202530354,0.0178553208856239,0.0102030405060708,0.00765228037955311,0.00765228037955311,0.00765228037955311,0.0025507601265177,0.0051015202530354,0.0051015202530354,0.0025507601265177,0.0025507601265177,0,0.0025507601265177,0.627486991123355],\"fOption\":\"\",\"fFunctions\":{\"_typename\":\"TList\",\"name\":\"TList\",\"arr\":[{\"_typename\":\"TF1\",\"fUniqueID\":0,\"fBits\":50332672,\"fName\":\"f1\",\"fTitle\":\"\",\"fLineColor\":2,\"fLineStyle\":1,\"fLineWidth\":2,\"fFillColor\":19,\"fFillStyle\":0,\"fMarkerColor\":1,\"fMarkerStyle\":1,\"fMarkerSize\":1,\"fXmin\":110,\"fXmax\":140,\"fNpar\":3,\"fNdim\":1,\"fNpx\":100,\"fType\":0,\"fNpfits\":15,\"fNDF\":12,\"fChisquare\":5.05359634827856,\"fMinimum\":-1111,\"fMaximum\":-1111,\"fParErrors\":[0.575812304007331,14.1647632157691,13.4994411201081],\"fParMin\":[0,0,0],\"fParMax\":[0,0,0],\"fSave\":[0.0204443549324107,0.0230894286913065,0.0259375314133423,0.0289874213965893,0.0322359686847502,0.035678126640699,0.0393069307597467,0.0431135245453548,0.0470872117500994,0.051215533803754,0.0554843708174847,0.0598780641753521,0.0643795584066563,0.0689705597782402,0.0736317088559677,0.0783427641588086,0.0830827939653784,0.0878303733282373,0.092563783401409,0.0972612102863435,0.101900940745114,0.10646155231073,0.110922095536703,0.115262266364714,0.119462566844149,0.123504452703988,0.127370466550289,0.131044355735902,0.134511174217935,0.137757367978868,0.140770843834894,0.143541021687217,0.146058870485892,0.148316928369475,0.150309307615784,0.152031685188667,0.153481279792338,0.154656816448701,0.155558479694541,0.156187856555338,0.156547870491787,0.156642707535162,0.156477735830062,0.156059419789242,0.155395230037075,0.154493550277331,0.15336358216926,0.152015249235175,0.150459100754533,0.148706216525592,0.146768113297642,0.144656653595965,0.142383957579548,0.139962318489155,0.137404122162015,0.134721771009812,0.131927612779847,0.129033874345885,0.126052600705738,0.122995599297683,0.119874389687696,0.116700158624273,0.11348372040775,0.110235482476292,0.106965416071334,0.10368303181092,0.10039735997022,0.0971169352440348,0.093849785746359,0.0906034259866561,0.087384853551125,0.0842005492097145,0.0810564801655068,0.0779581061621571,0.0749103881669088,0.0719177993510951,0.0689843380965715,0.0661135427649605,0.0633085079766411,0.0605719021577676,0.0579059861260214,0.0553126324990642,0.0527933457234899,0.050349282536337,0.0479812726856716,0.0456898397512633,0.0434752219207838,0.0413373925911289,0.0392760806783156,0.0372907905327977,0.0353808213699364,0.0335452861376737,0.0317831297551349,0.0300931466668885,0.0284739976679221,0.0269242259639757,0.025442272440766,0.0240264901237844,0.022675157817803,0.0213864929219612,0.020158663422375,110,140],\"fNormalized\":false,\"fNormIntegral\":0,\"fFormula\":{\"_typename\":\"TFormula\",\"fUniqueID\":0,\"fBits\":50463744,\"fName\":\"tf1lambda\",\"fTitle\":\"myChisquareDist\",\"fClingParameters\":[2.90524554539009,29.0376151189933,95.220830648567],\"fAllParametersSetted\":true,\"fParams\":[{\"$pair\":\"pair<TString,int,TFormulaParamOrder>\",\"first\":\"Constant\",\"second\":0},{\"$pair\":\"pair<TString,int,TFormulaParamOrder>\",\"first\":\"Mean\",\"second\":1},{\"$pair\":\"pair<TString,int,TFormulaParamOrder>\",\"first\":\"Root mean square\",\"second\":2}],\"fFormula\":\"myChisquareDist\",\"fNdim\":1,\"fLinearParts\":[],\"fVectorized\":false},\"fParams\":null,\"fComposition_ptr\":null},{\"_typename\":\"TPaveStats\",\"fUniqueID\":0,\"fBits\":50331657,\"fLineColor\":1,\"fLineStyle\":1,\"fLineWidth\":1,\"fFillColor\":0,\"fFillStyle\":1001,\"fX1\":129.500000581145,\"fY1\":0.267686352821417,\"fX2\":143.000000983477,\"fY2\":0.536232837056667,\"fX1NDC\":0.620000013709068,\"fY1NDC\":0.535000011324883,\"fX2NDC\":0.980000019073486,\"fY2NDC\":0.935000002384186,\"fBorderSize\":1,\"fInit\":1,\"fShadowColor\":1,\"fCornerRadius\":0,\"fOption\":\"brNDC\",\"fName\":\"stats\",\"fTextAngle\":0,\"fTextSize\":0,\"fTextAlign\":12,\"fTextColor\":1,\"fTextFont\":42,\"fLabel\":\"\",\"fLongest\":35,\"fMargin\":0.05,\"fLines\":{\"_typename\":\"TList\",\"name\":\"TList\",\"arr\":[{\"_typename\":\"TLatex\",\"fUniqueID\":0,\"fBits\":50331648,\"fName\":\"\",\"fTitle\":\"Entries = 321    \",\"fTextAngle\":0,\"fTextSize\":0,\"fTextAlign\":0,\"fTextColor\":0,\"fTextFont\":0,\"fX\":0,\"fY\":0,\"fLineColor\":1,\"fLineStyle\":1,\"fLineWidth\":2,\"fLimitFactorSize\":3,\"fOriginSize\":0.04},{\"_typename\":\"TLatex\",\"fUniqueID\":0,\"fBits\":50331648,\"fName\":\"\",\"fTitle\":\"Mean  =  124.6\",\"fTextAngle\":0,\"fTextSize\":0,\"fTextAlign\":0,\"fTextColor\":0,\"fTextFont\":0,\"fX\":0,\"fY\":0,\"fLineColor\":1,\"fLineStyle\":1,\"fLineWidth\":2,\"fLimitFactorSize\":3,\"fOriginSize\":0.04},{\"_typename\":\"TLatex\",\"fUniqueID\":0,\"fBits\":50331648,\"fName\":\"\",\"fTitle\":\"Std Dev   =  6.159\",\"fTextAngle\":0,\"fTextSize\":0,\"fTextAlign\":0,\"fTextColor\":0,\"fTextFont\":0,\"fX\":0,\"fY\":0,\"fLineColor\":1,\"fLineStyle\":1,\"fLineWidth\":2,\"fLimitFactorSize\":3,\"fOriginSize\":0.04},{\"_typename\":\"TLatex\",\"fUniqueID\":0,\"fBits\":50331648,\"fName\":\"\",\"fTitle\":\"#chi^{2} \\/ ndf = 5.054 \\/ 12\",\"fTextAngle\":0,\"fTextSize\":0,\"fTextAlign\":0,\"fTextColor\":0,\"fTextFont\":0,\"fX\":0,\"fY\":0,\"fLineColor\":1,\"fLineStyle\":1,\"fLineWidth\":2,\"fLimitFactorSize\":3,\"fOriginSize\":0.04},{\"_typename\":\"TLatex\",\"fUniqueID\":0,\"fBits\":50331648,\"fName\":\"\",\"fTitle\":\"Prob  = 0.9562\",\"fTextAngle\":0,\"fTextSize\":0,\"fTextAlign\":0,\"fTextColor\":0,\"fTextFont\":0,\"fX\":0,\"fY\":0,\"fLineColor\":1,\"fLineStyle\":1,\"fLineWidth\":2,\"fLimitFactorSize\":3,\"fOriginSize\":0.04},{\"_typename\":\"TLatex\",\"fUniqueID\":0,\"fBits\":50331648,\"fName\":\"\",\"fTitle\":\"Constant = 2.905 #pm 0.576 \",\"fTextAngle\":0,\"fTextSize\":0,\"fTextAlign\":0,\"fTextColor\":0,\"fTextFont\":0,\"fX\":0,\"fY\":0,\"fLineColor\":1,\"fLineStyle\":1,\"fLineWidth\":2,\"fLimitFactorSize\":3,\"fOriginSize\":0.04},{\"_typename\":\"TLatex\",\"fUniqueID\":0,\"fBits\":50331648,\"fName\":\"\",\"fTitle\":\"Mean     = 29.04 #pm 14.16 \",\"fTextAngle\":0,\"fTextSize\":0,\"fTextAlign\":0,\"fTextColor\":0,\"fTextFont\":0,\"fX\":0,\"fY\":0,\"fLineColor\":1,\"fLineStyle\":1,\"fLineWidth\":2,\"fLimitFactorSize\":3,\"fOriginSize\":0.04},{\"_typename\":\"TLatex\",\"fUniqueID\":0,\"fBits\":50331648,\"fName\":\"\",\"fTitle\":\"Root mean square = 95.22 #pm 13.50 \",\"fTextAngle\":0,\"fTextSize\":0,\"fTextAlign\":0,\"fTextColor\":0,\"fTextFont\":0,\"fX\":0,\"fY\":0,\"fLineColor\":1,\"fLineStyle\":1,\"fLineWidth\":2,\"fLimitFactorSize\":3,\"fOriginSize\":0.04}],\"opt\":[\"\",\"\",\"\",\"\",\"\",\"\",\"\",\"\"]},\"fOptFit\":1112,\"fOptStat\":1110,\"fFitFormat\":\"5.4g\",\"fStatFormat\":\"6.4g\",\"fParent\":{\"$ref\":3}}],\"opt\":[\"\",\"brNDC\"]},\"fBufferSize\":0,\"fBuffer\":[],\"fBinStatErrOpt\":0,\"fStatOverflows\":2,\"fArray\":[2.121212,0.05050505,0.05050505,0.05050505,0,0,0.1010101,0.3535354,0.2020202,0.1515152,0.1515152,0.1515152,0.05050505,0.1010101,0.1010101,0.05050505,0.05050505,0,0.05050505,12.42424]},{\"_typename\":\"TLine\",\"fUniqueID\":0,\"fBits\":50331656,\"fLineColor\":416,\"fLineStyle\":7,\"fLineWidth\":1,\"fX1\":114.498721010814,\"fY1\":0.0783226029938581,\"fX2\":131.86446040575,\"fY2\":0.0783226029938581},{\"_typename\":\"TLine\",\"fUniqueID\":0,\"fBits\":50331656,\"fLineColor\":416,\"fLineStyle\":7,\"fLineWidth\":1,\"fX1\":122.258445641031,\"fY1\":0.156645205987716,\"fX2\":122.258445641031,\"fY2\":0},{\"_typename\":\"TPaveText\",\"fUniqueID\":0,\"fBits\":50331657,\"fLineColor\":1,\"fLineStyle\":1,\"fLineWidth\":1,\"fFillColor\":0,\"fFillStyle\":0,\"fX1\":116.756696305737,\"fY1\":0.535669454412075,\"fX2\":133.243303694263,\"fY2\":0.576514812192988,\"fX1NDC\":0.280178571428571,\"fY1NDC\":0.934160843929211,\"fX2NDC\":0.719821428571429,\"fY2NDC\":0.995000004768372,\"fBorderSize\":0,\"fInit\":1,\"fShadowColor\":1,\"fCornerRadius\":0,\"fOption\":\"blNDC\",\"fName\":\"title\",\"fTextAngle\":0,\"fTextSize\":0,\"fTextAlign\":22,\"fTextColor\":1,\"fTextFont\":42,\"fLabel\":\"\",\"fLongest\":26,\"fMargin\":0.05,\"fLines\":{\"_typename\":\"TList\",\"name\":\"TList\",\"arr\":[{\"_typename\":\"TLatex\",\"fUniqueID\":0,\"fBits\":50331648,\"fName\":\"\",\"fTitle\":\"Mass of four-lepton system\",\"fTextAngle\":0,\"fTextSize\":0,\"fTextAlign\":0,\"fTextColor\":0,\"fTextFont\":0,\"fX\":0,\"fY\":0,\"fLineColor\":1,\"fLineStyle\":1,\"fLineWidth\":2,\"fLimitFactorSize\":3,\"fOriginSize\":0.0517132878303528}],\"opt\":[\"\"]}}],\"opt\":[\"\",\"E1\",\"same\",\"same\",\"blNDC\"]},\"fExecs\":null,\"fName\":\"c1\",\"fTitle\":\"c1\",\"fNumPaletteColor\":0,\"fNextPaletteColor\":0,\"fDISPLAY\":\"$DISPLAY\",\"fDoubleBuffer\":0,\"fRetained\":true,\"fXsizeUser\":0,\"fYsizeUser\":0,\"fXsizeReal\":20,\"fYsizeReal\":13.33333,\"fWindowTopX\":0,\"fWindowTopY\":0,\"fWindowWidth\":0,\"fWindowHeight\":0,\"fCw\":896,\"fCh\":572,\"fCatt\":{\"_typename\":\"TAttCanvas\",\"fXBetween\":2,\"fYBetween\":2,\"fTitleFromTop\":1.2,\"fXdate\":0.2,\"fYdate\":0.3,\"fAdate\":1},\"kMoveOpaque\":true,\"kResizeOpaque\":true,\"fHighLightColor\":2,\"fBatch\":true,\"kShowEventStatus\":false,\"kAutoExec\":true,\"kMenuBar\":true});\n",
       "       Core.draw(\"root_plot_1\", obj, \"\");\n",
       "     }\n",
       " );\n",
       "</script>\n"
      ],
      "text/plain": [
       "<IPython.core.display.HTML object>"
      ]
     },
     "metadata": {},
     "output_type": "display_data"
    },
    {
     "name": "stdout",
     "output_type": "stream",
     "text": [
      "Coordenada del punto máximo en el ajuste: (122.258,0.156645).\n",
      "Intersecciones en m4l a média altura: 114.499 GeV y 131.864 GeV.\n",
      "Ancho de decaimiento, Γ = 17.3657 GeV.\n",
      "Tiempo de vida media, τ = 5.75846e-11 s.\n"
     ]
    }
   ],
   "source": [
    "minx = f1->GetXmin(); // Mínimo en x del ajuste.\n",
    "maxx = f1->GetXmax(); // Máximo en x del ajuste.\n",
    "\n",
    "mode_x = f1->GetMaximumX(minx,maxx); // Coordenada x del máximo en el ajuste dentro del intervalo [minx,maxx].\n",
    "mode_y = f1->Eval(mode_x); // Coordenada y del máximo.\n",
    "\n",
    "upper_halfwidth = f1->GetX(mode_y/2.0,mode_x,maxx);\n",
    "lower_halfwidth = f1->GetX(mode_y/2.0,minx,mode_x);\n",
    "\n",
    "width = upper_halfwidth-lower_halfwidth;\n",
    "\n",
    "cout    << \"Coordenada del punto máximo en el ajuste: (\" << mode_x << \",\" << mode_y << \").\" << endl\n",
    "        << \"Intersecciones en m4l a média altura: \" << lower_halfwidth << \" GeV\" << \" y \" << upper_halfwidth << \" GeV.\" << endl\n",
    "        << \"Ancho de decaimiento, \\u0393 = \" << width << \" GeV.\" << endl\n",
    "        << \"Tiempo de vida media, \\u03C4 = \" << 1/(width*1E9) << \" s.\" << endl;\n",
    "        //<< \"Tiempo de vida media, \\u03C4 = \" << 4.135667696E-15/(2*TMath::Pi()*width*1E9) << \" s.\" << endl; // Consultar.\n",
    "\n",
    "\n",
    "TLine *l1 = new TLine(lower_halfwidth,mode_y/2.0,upper_halfwidth,mode_y/2.0);\n",
    "l1->SetLineColor(kGreen);\n",
    "l1->SetLineStyle(7);\n",
    "l1->Draw(\"same\");\n",
    "\n",
    "TLine *l2 = new TLine(mode_x,mode_y,mode_x,0);\n",
    "l2->SetLineColor(kGreen);\n",
    "l2->SetLineStyle(7);\n",
    "l2->Draw(\"same\");\n",
    "\n",
    "c1->Draw();"
   ]
  },
  {
   "cell_type": "markdown",
   "metadata": {},
   "source": [
    "#### OJO Revisar los orden de magnitud y unidades.\n",
    "\n",
    "mpv is a location parameter and correspond approximatly to the most probable value."
   ]
  },
  {
   "cell_type": "code",
   "execution_count": null,
   "metadata": {},
   "outputs": [],
   "source": []
  }
 ],
 "metadata": {
  "kernelspec": {
   "display_name": "ROOT C++",
   "language": "c++",
   "name": "root"
  },
  "language_info": {
   "codemirror_mode": "text/x-c++src",
   "file_extension": ".C",
   "mimetype": " text/x-c++src",
   "name": "c++"
  }
 },
 "nbformat": 4,
 "nbformat_minor": 2
}
