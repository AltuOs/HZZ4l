{
 "cells": [
  {
   "cell_type": "code",
   "execution_count": 1,
   "metadata": {},
   "outputs": [],
   "source": [
    "%jsroot on"
   ]
  },
  {
   "cell_type": "code",
   "execution_count": 2,
   "metadata": {},
   "outputs": [],
   "source": [
    "#include<TFile.h>\n",
    "#include<TH1.h>\n",
    "#include<iostream>\n",
    "#include<string>\n",
    "#include<stdio.h>"
   ]
  },
  {
   "cell_type": "code",
   "execution_count": 3,
   "metadata": {},
   "outputs": [],
   "source": [
    "TFile *f=new TFile(\"/home/student/HZZ4l/Analysis/Output_HZZAnalysis/data.root\");"
   ]
  },
  {
   "cell_type": "code",
   "execution_count": 4,
   "metadata": {},
   "outputs": [
    {
     "name": "stdout",
     "output_type": "stream",
     "text": [
      "TH1.Print Name  = mass_four_lep, Entries= 321, Total sum= 95\n"
     ]
    }
   ],
   "source": [
    "mass_four_lep->Print();"
   ]
  },
  {
   "cell_type": "code",
   "execution_count": 5,
   "metadata": {},
   "outputs": [],
   "source": [
    "TH1F *m_four_lep=(TH1F*)f->Get(\"mass_four_lep\");"
   ]
  },
  {
   "cell_type": "code",
   "execution_count": 6,
   "metadata": {},
   "outputs": [],
   "source": [
    "TCanvas *cz = new TCanvas(\"cz\",\"cz\",10,10,900,600);"
   ]
  },
  {
   "cell_type": "code",
   "execution_count": 7,
   "metadata": {},
   "outputs": [],
   "source": [
    "/*m_four_lep->Draw(\"E1\");\n",
    "cz->Draw();*/"
   ]
  },
  {
   "cell_type": "code",
   "execution_count": 8,
   "metadata": {},
   "outputs": [],
   "source": [
    "/*TF1 *f1= new TF1(\"f1\",\"gaus\",110,140);\n",
    "m_four_lep->Fit(\"f1\",\"R\");\n",
    "m_four_lep->Draw(\"E1\");\n",
    "cz->Draw();*/"
   ]
  },
  {
   "cell_type": "code",
   "execution_count": 9,
   "metadata": {},
   "outputs": [
    {
     "name": "stdout",
     "output_type": "stream",
     "text": [
      " FCN=2.91887 FROM MIGRAD    STATUS=CONVERGED     118 CALLS         119 TOTAL\n",
      "                     EDM=2.33847e-07    STRATEGY= 1  ERROR MATRIX UNCERTAINTY   2.7 per cent\n",
      "  EXT PARAMETER                                   STEP         FIRST   \n",
      "  NO.   NAME      VALUE            ERROR          SIZE      DERIVATIVE \n",
      "   1  Constant     4.98386e+01   1.22115e+01  -5.16795e-03   7.31679e-06\n",
      "   2  MPV          1.22108e+02   1.11983e+00  -4.62396e-03   1.62194e-04\n",
      "   3  Sigma        2.76089e+00   6.01197e-01   2.65395e-06  -2.02344e-02\n"
     ]
    }
   ],
   "source": [
    "TF1 *f3= new TF1(\"f3\",\"landau\",110,140);\n",
    "m_four_lep->Fit(\"f3\",\"R\");\n",
    "\n",
    "m_four_lep->Draw();"
   ]
  },
  {
   "cell_type": "code",
   "execution_count": 10,
   "metadata": {},
   "outputs": [
    {
     "name": "stdout",
     "output_type": "stream",
     "text": [
      "Coordenada del punto máximo en el ajuste: (121.493,9.00363).\n",
      "Intersecciones en m4l a média altura: 117.728 GeV y 128.823 GeV.\n",
      "Ancho de decaimiento, Gamma = 11.095 GeV.\n",
      "Tiempo de vida media, Tau = 9.01304e-11 s.\n"
     ]
    },
    {
     "data": {
      "text/html": [
       "\n",
       "<div id=\"root_plot_1\"\n",
       "     style=\"width: 896px; height: 572px\">\n",
       "</div>\n",
       "\n",
       "<script>\n",
       " requirejs.config({\n",
       "     paths: {\n",
       "       'JSRootCore' : 'https://root.cern.ch/js/notebook//scripts/JSRootCore',\n",
       "     }\n",
       "   });\n",
       " require(['JSRootCore'],\n",
       "     function(Core) {\n",
       "       var obj = Core.JSONR_unref({\"_typename\":\"TCanvas\",\"fUniqueID\":0,\"fBits\":53673992,\"fLineColor\":1,\"fLineStyle\":1,\"fLineWidth\":1,\"fFillColor\":0,\"fFillStyle\":1001,\"fLeftMargin\":0.1,\"fRightMargin\":0.1,\"fBottomMargin\":0.1,\"fTopMargin\":0.1,\"fXfile\":2,\"fYfile\":2,\"fAfile\":1,\"fXstat\":0.99,\"fYstat\":0.99,\"fAstat\":2,\"fFrameFillColor\":0,\"fFrameLineColor\":1,\"fFrameFillStyle\":1001,\"fFrameLineStyle\":1,\"fFrameLineWidth\":1,\"fFrameBorderSize\":1,\"fFrameBorderMode\":0,\"fX1\":68.7499991618096,\"fY1\":-2.62500019557775,\"fX2\":181.25000083819,\"fY2\":23.6250001955778,\"fXtoAbsPixelk\":-547.555490720621,\"fXtoPixelk\":-547.555490720621,\"fXtoPixel\":7.96444432576497,\"fYtoAbsPixelk\":514.800046590614,\"fYtoPixelk\":514.800046590614,\"fYtoPixel\":-21.7904758657728,\"fUtoAbsPixelk\":5e-5,\"fUtoPixelk\":5e-5,\"fUtoPixel\":896,\"fVtoAbsPixelk\":572.00005,\"fVtoPixelk\":572,\"fVtoPixel\":-572,\"fAbsPixeltoXk\":68.7499991618096,\"fPixeltoXk\":68.7499991618096,\"fPixeltoX\":0.125558037585246,\"fAbsPixeltoYk\":23.6250001955778,\"fPixeltoYk\":-2.62500019557775,\"fPixeltoY\":-0.0458916090754467,\"fXlowNDC\":0,\"fYlowNDC\":0,\"fXUpNDC\":0,\"fYUpNDC\":0,\"fWNDC\":1,\"fHNDC\":1,\"fAbsXlowNDC\":0,\"fAbsYlowNDC\":0,\"fAbsWNDC\":1,\"fAbsHNDC\":1,\"fUxmin\":80,\"fUymin\":0,\"fUxmax\":170,\"fUymax\":21,\"fTheta\":30,\"fPhi\":30,\"fAspectRatio\":0,\"fNumber\":0,\"fTickx\":0,\"fTicky\":0,\"fLogx\":0,\"fLogy\":0,\"fLogz\":0,\"fPadPaint\":0,\"fCrosshair\":0,\"fCrosshairPos\":0,\"fBorderSize\":2,\"fBorderMode\":0,\"fModified\":false,\"fGridx\":false,\"fGridy\":false,\"fAbsCoord\":false,\"fEditable\":true,\"fFixedAspectRatio\":false,\"fPrimitives\":{\"_typename\":\"TList\",\"name\":\"TList\",\"arr\":[{\"_typename\":\"TFrame\",\"fUniqueID\":0,\"fBits\":50331656,\"fLineColor\":1,\"fLineStyle\":1,\"fLineWidth\":1,\"fFillColor\":0,\"fFillStyle\":1001,\"fX1\":80,\"fY1\":0,\"fX2\":170,\"fY2\":21,\"fBorderSize\":1,\"fBorderMode\":0},{\"_typename\":\"TH1F\",\"fUniqueID\":0,\"fBits\":50331656,\"fName\":\"mass_four_lep\",\"fTitle\":\"Mass of four-lepton system\",\"fLineColor\":602,\"fLineStyle\":1,\"fLineWidth\":1,\"fFillColor\":0,\"fFillStyle\":1001,\"fMarkerColor\":1,\"fMarkerStyle\":1,\"fMarkerSize\":1,\"fNcells\":26,\"fXaxis\":{\"_typename\":\"TAxis\",\"fUniqueID\":0,\"fBits\":50331648,\"fName\":\"xaxis\",\"fTitle\":\" m_{4l} [GeV]\",\"fNdivisions\":510,\"fAxisColor\":1,\"fLabelColor\":1,\"fLabelFont\":42,\"fLabelOffset\":0.005,\"fLabelSize\":0.035,\"fTickLength\":0.03,\"fTitleOffset\":1,\"fTitleSize\":0.035,\"fTitleColor\":1,\"fTitleFont\":42,\"fNbins\":24,\"fXmin\":80,\"fXmax\":170,\"fXbins\":[],\"fFirst\":0,\"fLast\":0,\"fBits2\":0,\"fTimeDisplay\":false,\"fTimeFormat\":\"\",\"fLabels\":null,\"fModLabs\":null},\"fYaxis\":{\"_typename\":\"TAxis\",\"fUniqueID\":0,\"fBits\":50331648,\"fName\":\"yaxis\",\"fTitle\":\"Events \\/ bin\",\"fNdivisions\":510,\"fAxisColor\":1,\"fLabelColor\":1,\"fLabelFont\":42,\"fLabelOffset\":0.005,\"fLabelSize\":0.035,\"fTickLength\":0.03,\"fTitleOffset\":0,\"fTitleSize\":0.035,\"fTitleColor\":1,\"fTitleFont\":42,\"fNbins\":1,\"fXmin\":0,\"fXmax\":1,\"fXbins\":[],\"fFirst\":0,\"fLast\":0,\"fBits2\":0,\"fTimeDisplay\":false,\"fTimeFormat\":\"\",\"fLabels\":null,\"fModLabs\":null},\"fZaxis\":{\"_typename\":\"TAxis\",\"fUniqueID\":0,\"fBits\":50331648,\"fName\":\"zaxis\",\"fTitle\":\"\",\"fNdivisions\":510,\"fAxisColor\":1,\"fLabelColor\":1,\"fLabelFont\":42,\"fLabelOffset\":0.005,\"fLabelSize\":0.035,\"fTickLength\":0.03,\"fTitleOffset\":1,\"fTitleSize\":0.035,\"fTitleColor\":1,\"fTitleFont\":42,\"fNbins\":1,\"fXmin\":0,\"fXmax\":1,\"fXbins\":[],\"fFirst\":0,\"fLast\":0,\"fBits2\":0,\"fTimeDisplay\":false,\"fTimeFormat\":\"\",\"fLabels\":null,\"fModLabs\":null},\"fBarOffset\":0,\"fBarWidth\":1000,\"fEntries\":321,\"fTsumw\":95,\"fTsumw2\":95,\"fTsumwx\":11030.9741134644,\"fTsumwx2\":1341716.84406426,\"fMaximum\":-1111,\"fMinimum\":-1111,\"fNormFactor\":0,\"fContour\":[],\"fSumw2\":[],\"fOption\":\"\",\"fFunctions\":{\"_typename\":\"TList\",\"name\":\"TList\",\"arr\":[{\"_typename\":\"TF1\",\"fUniqueID\":0,\"fBits\":50332672,\"fName\":\"f3\",\"fTitle\":\"landau\",\"fLineColor\":2,\"fLineStyle\":1,\"fLineWidth\":2,\"fFillColor\":19,\"fFillStyle\":0,\"fMarkerColor\":1,\"fMarkerStyle\":1,\"fMarkerSize\":1,\"fXmin\":110,\"fXmax\":140,\"fNpar\":3,\"fNdim\":1,\"fNpx\":100,\"fType\":0,\"fNpfits\":8,\"fNDF\":5,\"fChisquare\":2.91886967770055,\"fMinimum\":-1111,\"fMaximum\":-1111,\"fParErrors\":[12.211458486535,1.11982949885631,0.601197062052861],\"fParMin\":[0,0,0],\"fParMax\":[0,0,61.0048433248623],\"fSave\":[1.60552083924806e-11,3.18415667954111e-10,4.61714033647369e-9,5.05541381479411e-8,4.3023755341309e-7,2.92077088883948e-6,1.61895081898332e-5,7.4814454398852e-5,2.9368937146874e-4,9.9595467430051e-4,0.00296200752410112,0.00783070377043805,0.0186273856260546,0.0403056342092915,0.0801091867920306,0.147538496069094,0.253774115975477,0.410553486362221,0.628665037394312,0.916347769580533,1.27792046474781,1.71290640152339,2.2157960998566,2.77644811489922,3.38100825846772,4.01315586804835,4.65546704015661,5.29070918775085,5.90293168078503,6.47827623888895,7.00548482381233,7.4761243220483,7.88457400575188,8.22783326803587,8.50521026188282,8.71794412984952,8.86880552395691,8.96170786541514,9.00135141163371,8.99291308022589,8.94178769998677,8.85338103629977,8.73295138726309,8.58549444938874,8.4156651589665,8.22773000412391,8.02554360299008,7.81254394483725,7.5917614395953,7.3658377104568,7.13705075435007,6.90734391740794,6.67835680830675,6.45145643393654,6.22776767260372,6.00820227099282,5.7934859264025,5.58418318887649,5.38072006775886,5.1834043355208,4.99244359709052,4.80796124277425,4.63001043333076,4.45858628184675,4.29363640272543,4.13506999644428,3.98276563214657,3.83657788039563,3.69634293687691,3.5618833654426,3.43301207633941,3.30953564320956,3.19125705081078,3.07797795454873,2.96950052295184,2.86562892517954,2.7661705175345,2.67093677571106,2.57974401310406,2.49241391986119,2.40877395241962,2.32865759895741,2.25190454244339,2.17836073972453,2.10787843228742,2.04031610191671,1.97553838240052,1.91341594372248,1.85382532816434,1.7966487908144,1.74177411200966,1.68909440338068,1.6385079064871,1.58991778806766,1.54323193434454,1.49836274635514,1.45522693788943,1.41374533727764,1.37384269399389,1.33544749080762,1.29849176201995,110,140],\"fNormalized\":false,\"fNormIntegral\":0,\"fFormula\":{\"_typename\":\"TFormula\",\"fUniqueID\":0,\"fBits\":50332672,\"fName\":\"f3\",\"fTitle\":\"landau\",\"fClingParameters\":[49.8386239210016,122.1084718389,2.76088934765472],\"fAllParametersSetted\":true,\"fParams\":[{\"$pair\":\"pair<TString,int,TFormulaParamOrder>\",\"first\":\"Constant\",\"second\":0},{\"$pair\":\"pair<TString,int,TFormulaParamOrder>\",\"first\":\"MPV\",\"second\":1},{\"$pair\":\"pair<TString,int,TFormulaParamOrder>\",\"first\":\"Sigma\",\"second\":2}],\"fFormula\":\"[Constant]*TMath::Landau(x,[MPV],[Sigma],false)\",\"fNdim\":1,\"fLinearParts\":[],\"fVectorized\":false},\"fParams\":null,\"fComposition_ptr\":null},{\"_typename\":\"TPaveStats\",\"fUniqueID\":0,\"fBits\":50331657,\"fLineColor\":1,\"fLineStyle\":1,\"fLineWidth\":1,\"fFillColor\":0,\"fFillStyle\":1001,\"fX1\":156.500002279878,\"fY1\":17.71875026403,\"fX2\":179.00000295043,\"fY2\":21.9187502327375,\"fX1NDC\":0.780000016093254,\"fY1NDC\":0.775000005960464,\"fX2NDC\":0.980000019073486,\"fY2NDC\":0.935000002384186,\"fBorderSize\":1,\"fInit\":1,\"fShadowColor\":1,\"fCornerRadius\":0,\"fOption\":\"brNDC\",\"fName\":\"stats\",\"fTextAngle\":0,\"fTextSize\":0,\"fTextAlign\":12,\"fTextColor\":1,\"fTextFont\":42,\"fLabel\":\"\",\"fLongest\":18,\"fMargin\":0.05,\"fLines\":{\"_typename\":\"TList\",\"name\":\"TList\",\"arr\":[{\"_typename\":\"TLatex\",\"fUniqueID\":0,\"fBits\":50331648,\"fName\":\"\",\"fTitle\":\"mass_four_lep\",\"fTextAngle\":0,\"fTextSize\":0.0368,\"fTextAlign\":0,\"fTextColor\":0,\"fTextFont\":0,\"fX\":0,\"fY\":0,\"fLineColor\":1,\"fLineStyle\":1,\"fLineWidth\":2,\"fLimitFactorSize\":3,\"fOriginSize\":0.0368000008165836},{\"_typename\":\"TLatex\",\"fUniqueID\":0,\"fBits\":50331648,\"fName\":\"\",\"fTitle\":\"Entries = 321    \",\"fTextAngle\":0,\"fTextSize\":0,\"fTextAlign\":0,\"fTextColor\":0,\"fTextFont\":0,\"fX\":0,\"fY\":0,\"fLineColor\":1,\"fLineStyle\":1,\"fLineWidth\":2,\"fLimitFactorSize\":3,\"fOriginSize\":0.04},{\"_typename\":\"TLatex\",\"fUniqueID\":0,\"fBits\":50331648,\"fName\":\"\",\"fTitle\":\"Mean  =  116.1\",\"fTextAngle\":0,\"fTextSize\":0,\"fTextAlign\":0,\"fTextColor\":0,\"fTextFont\":0,\"fX\":0,\"fY\":0,\"fLineColor\":1,\"fLineStyle\":1,\"fLineWidth\":2,\"fLimitFactorSize\":3,\"fOriginSize\":0.04},{\"_typename\":\"TLatex\",\"fUniqueID\":0,\"fBits\":50331648,\"fName\":\"\",\"fTitle\":\"Std Dev   =  25.31\",\"fTextAngle\":0,\"fTextSize\":0,\"fTextAlign\":0,\"fTextColor\":0,\"fTextFont\":0,\"fX\":0,\"fY\":0,\"fLineColor\":1,\"fLineStyle\":1,\"fLineWidth\":2,\"fLimitFactorSize\":3,\"fOriginSize\":0.04}],\"opt\":[\"\",\"\",\"\",\"\"]},\"fOptFit\":0,\"fOptStat\":1111,\"fFitFormat\":\"5.4g\",\"fStatFormat\":\"6.4g\",\"fParent\":{\"$ref\":3}}],\"opt\":[\"\",\"brNDC\"]},\"fBufferSize\":0,\"fBuffer\":[],\"fBinStatErrOpt\":0,\"fStatOverflows\":2,\"fArray\":[0,1,6,20,7,4,3,1,0,2,1,7,9,7,3,3,1,4,1,2,4,2,1,4,2,226]},{\"_typename\":\"TPaveText\",\"fUniqueID\":0,\"fBits\":50331657,\"fLineColor\":1,\"fLineStyle\":1,\"fLineWidth\":1,\"fFillColor\":0,\"fFillStyle\":0,\"fX1\":100.27008891721,\"fY1\":21.8967223229662,\"fX2\":149.72991108279,\"fY2\":23.4937503187917,\"fX1NDC\":0.280178571428571,\"fY1NDC\":0.934160843929211,\"fX2NDC\":0.719821428571429,\"fY2NDC\":0.995000004768372,\"fBorderSize\":0,\"fInit\":1,\"fShadowColor\":1,\"fCornerRadius\":0,\"fOption\":\"blNDC\",\"fName\":\"title\",\"fTextAngle\":0,\"fTextSize\":0,\"fTextAlign\":22,\"fTextColor\":1,\"fTextFont\":42,\"fLabel\":\"\",\"fLongest\":26,\"fMargin\":0.05,\"fLines\":{\"_typename\":\"TList\",\"name\":\"TList\",\"arr\":[{\"_typename\":\"TLatex\",\"fUniqueID\":0,\"fBits\":50331648,\"fName\":\"\",\"fTitle\":\"Mass of four-lepton system\",\"fTextAngle\":0,\"fTextSize\":0,\"fTextAlign\":0,\"fTextColor\":0,\"fTextFont\":0,\"fX\":0,\"fY\":0,\"fLineColor\":1,\"fLineStyle\":1,\"fLineWidth\":2,\"fLimitFactorSize\":3,\"fOriginSize\":0.0517132878303528}],\"opt\":[\"\"]}}],\"opt\":[\"\",\"\",\"blNDC\"]},\"fExecs\":null,\"fName\":\"cz\",\"fTitle\":\"cz\",\"fNumPaletteColor\":0,\"fNextPaletteColor\":0,\"fDISPLAY\":\"$DISPLAY\",\"fDoubleBuffer\":0,\"fRetained\":true,\"fXsizeUser\":0,\"fYsizeUser\":0,\"fXsizeReal\":20,\"fYsizeReal\":13.33333,\"fWindowTopX\":0,\"fWindowTopY\":0,\"fWindowWidth\":0,\"fWindowHeight\":0,\"fCw\":896,\"fCh\":572,\"fCatt\":{\"_typename\":\"TAttCanvas\",\"fXBetween\":2,\"fYBetween\":2,\"fTitleFromTop\":1.2,\"fXdate\":0.2,\"fYdate\":0.3,\"fAdate\":1},\"kMoveOpaque\":true,\"kResizeOpaque\":true,\"fHighLightColor\":2,\"fBatch\":true,\"kShowEventStatus\":false,\"kAutoExec\":true,\"kMenuBar\":true});\n",
       "       Core.draw(\"root_plot_1\", obj, \"\");\n",
       "     }\n",
       " );\n",
       "</script>\n"
      ],
      "text/plain": [
       "<IPython.core.display.HTML object>"
      ]
     },
     "metadata": {},
     "output_type": "display_data"
    }
   ],
   "source": [
    "minx = f3->GetXmin(); // Mínimo en x del ajuste.\n",
    "maxx = f3->GetXmax(); // Máximo en x del ajuste.\n",
    "\n",
    "mode_x = f3->GetMaximumX(minx,maxx); // Coordenada x del máximo en el ajuste dentro del intervalo [minx,maxx].\n",
    "mode_y = f3->Eval(mode_x); // Coordenada y del máximo.\n",
    "\n",
    "upper_halfwidth = f3->GetX(mode_y/2.0,mode_x,maxx);\n",
    "lower_halfwidth = f3->GetX(mode_y/2.0,minx,mode_x);\n",
    "\n",
    "width = upper_halfwidth-lower_halfwidth;\n",
    "\n",
    "cout    << \"Coordenada del punto máximo en el ajuste: (\" << mode_x << \",\" << mode_y << \").\" << endl\n",
    "        << \"Intersecciones en m4l a média altura: \" << lower_halfwidth << \" GeV\" << \" y \" << upper_halfwidth << \" GeV.\" << endl\n",
    "        << \"Ancho de decaimiento, Gamma = \" << width << \" GeV.\" << endl\n",
    "        << \"Tiempo de vida media, Tau = \" << 1/(width*1E9) << \" s.\" << endl;\n",
    "\n",
    "// TF1 *f__3= new TF1(\"f_3\",\"mode_y_2\",lower_halfwidth,upper_halfwidth);\n",
    "// f__3->Draw(\"same\");\n",
    "\n",
    "cz->Draw();"
   ]
  },
  {
   "cell_type": "markdown",
   "metadata": {},
   "source": [
    "#### OJO con los orden de magnitud y unidades."
   ]
  },
  {
   "cell_type": "code",
   "execution_count": 11,
   "metadata": {},
   "outputs": [],
   "source": [
    "/*Double_t mybw(Double_t* x, Double_t* par)\n",
    "{\n",
    "    Double_t arg1 = 2/TMath::Pi();\n",
    "    Double_t arg2 = pow(par[1],2)*pow(par[2],2); // Gamma=par[1] M=par[2]\n",
    "    Double_t arg3 = pow((pow(x[0],2)-pow(par[2],2)),2);\n",
    "    Double_t arg4 = pow(x[0],4)*(pow(par[1],2)/pow(par[2],2));\n",
    "    return par[0]*arg1*arg2/(arg3+arg4);\n",
    "}*/"
   ]
  },
  {
   "cell_type": "code",
   "execution_count": 12,
   "metadata": {},
   "outputs": [],
   "source": [
    "/*TF1 *f5= new TF1(\"f5\",\"mybw\",115,140,3);\n",
    "f5->SetParameters(1,m_four_lep->GetMean(),m_four_lep->GetRMS());\n",
    "f5->SetParNames (\"Constant\",\"Mean_value\",\"Sigma\");\n",
    "m_four_lep->Fit(\"f5\",\"R\");\n",
    "m_four_lep->Draw(\"E1\");\n",
    "cz->Draw();*/"
   ]
  }
 ],
 "metadata": {
  "kernelspec": {
   "display_name": "ROOT C++",
   "language": "c++",
   "name": "root"
  },
  "language_info": {
   "codemirror_mode": "text/x-c++src",
   "file_extension": ".C",
   "mimetype": " text/x-c++src",
   "name": "c++"
  }
 },
 "nbformat": 4,
 "nbformat_minor": 2
}
